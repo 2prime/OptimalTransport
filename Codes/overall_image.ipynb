{
 "cells": [
  {
   "cell_type": "code",
   "execution_count": null,
   "metadata": {
    "collapsed": true
   },
   "outputs": [],
   "source": [
    "# !Convert*overall_image.py*w*sehx*"
   ]
  },
  {
   "cell_type": "code",
   "execution_count": null,
   "metadata": {
    "collapsed": true
   },
   "outputs": [],
   "source": [
    "# !Switch*\n",
    "from handler import FigureHandler\n",
    "from dataset import ot_im_dotmark\n",
    "from stats import Statistics\n",
    "# !SwitchCase*\n",
    "# import font\n",
    "# from handler import FigureHandler\n",
    "# from dataset import ot_im_dotmark\n",
    "# from stats import Statistics\n",
    "# !SwitchEnd*"
   ]
  },
  {
   "cell_type": "code",
   "execution_count": null,
   "metadata": {
    "collapsed": true
   },
   "outputs": [],
   "source": [
    "from solver_mosek import solve_mosek_primal_simplex, solve_mosek_dual_simplex, solve_mosek_interior_point\n",
    "from solver_gurobi import solve_gurobi_primal_simplex, solve_gurobi_dual_simplex, solve_gurobi_barrier\n",
    "from first_ADMM_primal import solve_ADMM_primal\n",
    "from first_grad_primal import solve_grad_primal, solve_combine\n",
    "from discrete_transportation_simplex import solve_transportation_simplex\n",
    "from multiscale_image_mosek import solve_multiscale_image_mosek_primal_simplex"
   ]
  },
  {
   "cell_type": "code",
   "execution_count": null,
   "metadata": {},
   "outputs": [],
   "source": [
    "# !Switch*\n",
    "fh = FigureHandler(redir=True)\n",
    "# !SwitchCase*\n",
    "# fh = FigureHandler(sav=True, disp=False, ext=\".pgf\", redir=True)\n",
    "# !SwitchEnd*"
   ]
  },
  {
   "cell_type": "code",
   "execution_count": null,
   "metadata": {
    "collapsed": true
   },
   "outputs": [],
   "source": [
    "cls_list = [0, 1, 2, 3, 4, 5, 6, 7, 8, 9]\n",
    "rep = 1"
   ]
  },
  {
   "cell_type": "code",
   "execution_count": null,
   "metadata": {
    "collapsed": true
   },
   "outputs": [],
   "source": [
    "def suite(stat):\n",
    "    stat.set_objx(solve_mosek_interior_point, prog=fh.write)\n",
    "    stat.test(solve_mosek_primal_simplex, prog=fh.write)\n",
    "    stat.output_last()\n",
    "    stat.test(solve_mosek_dual_simplex, prog=fh.write)\n",
    "    stat.output_last()\n",
    "    stat.test(solve_mosek_interior_point, prog=fh.write)\n",
    "    stat.output_last()\n",
    "    stat.test(solve_gurobi_primal_simplex, prog=fh.write)\n",
    "    stat.output_last()\n",
    "    stat.test(solve_gurobi_dual_simplex, prog=fh.write)\n",
    "    stat.output_last()\n",
    "    stat.test(solve_gurobi_barrier, prog=fh.write)\n",
    "    stat.output_last()\n",
    "    stat.test(\n",
    "        solve_combine,\n",
    "        cfgs=[\n",
    "            {\n",
    "                \"func\": solve_ADMM_primal,\n",
    "                \"args\": (),\n",
    "                \"kwargs\": dict(\n",
    "                    its=[5000],\n",
    "                    rhos=[3.],\n",
    "                    alphas=[1.618],\n",
    "                    epss=[1e-3],\n",
    "                )\n",
    "            },\n",
    "            {\n",
    "                \"func\": solve_grad_primal,\n",
    "                \"args\": (),\n",
    "                \"kwargs\": dict(\n",
    "                    its=[800, 800, 800],\n",
    "                    pi0s=[10., 10., 10.],\n",
    "                    pi1s=[1000., 10000., 100000.],\n",
    "                    pi2s=[1000., 10000., 100000.],\n",
    "                    lrs=[1e-6, 1e-7, 1e-8],\n",
    "                )\n",
    "            },\n",
    "        ],\n",
    "        prog=fh.write,\n",
    "    )\n",
    "    stat.output_last()\n",
    "    stat.test(\n",
    "        solve_transportation_simplex,\n",
    "        eps=1e-12,\n",
    "        it=20000,\n",
    "        prog=fh.write,\n",
    "    )\n",
    "    stat.output_last()\n",
    "    stat.test(\n",
    "        solve_multiscale_image_mosek_primal_simplex,\n",
    "        stop=4, shrink=2,\n",
    "        caps=[1., 0.1, 0.1, 0.1],\n",
    "        errs=[0.001, 0.001, 0.001, 0.00],\n",
    "        prog=fh.write,\n",
    "    )\n",
    "    stat.output_last()"
   ]
  },
  {
   "cell_type": "code",
   "execution_count": null,
   "metadata": {},
   "outputs": [],
   "source": [
    "for cls in cls_list:\n",
    "    stat = Statistics(\n",
    "        probs=[\n",
    "            ot_im_dotmark(cls, 32, i, log=fh.write) for i in range(1, rep+1)\n",
    "        ],\n",
    "        prob=\"dotmark class {0} 32*32\".format(cls),\n",
    "        log=fh.write,\n",
    "    )\n",
    "    suite(stat)"
   ]
  },
  {
   "cell_type": "code",
   "execution_count": null,
   "metadata": {
    "collapsed": true
   },
   "outputs": [],
   "source": [
    "# !ConvertEnd*"
   ]
  },
  {
   "cell_type": "code",
   "execution_count": null,
   "metadata": {
    "collapsed": true
   },
   "outputs": [],
   "source": []
  }
 ],
 "metadata": {
  "kernelspec": {
   "display_name": "Python 3",
   "language": "python",
   "name": "python3"
  },
  "language_info": {
   "codemirror_mode": {
    "name": "ipython",
    "version": 3
   },
   "file_extension": ".py",
   "mimetype": "text/x-python",
   "name": "python",
   "nbconvert_exporter": "python",
   "pygments_lexer": "ipython3",
   "version": "3.6.2"
  }
 },
 "nbformat": 4,
 "nbformat_minor": 2
}
