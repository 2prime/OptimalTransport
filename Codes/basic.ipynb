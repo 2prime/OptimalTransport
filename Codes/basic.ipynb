{
 "cells": [
  {
   "cell_type": "code",
   "execution_count": null,
   "metadata": {
    "collapsed": true
   },
   "outputs": [],
   "source": [
    "# !Convert*utils.py*w*sh*"
   ]
  },
  {
   "cell_type": "code",
   "execution_count": null,
   "metadata": {
    "collapsed": true
   },
   "outputs": [],
   "source": [
    "import math\n",
    "import time\n",
    "import statistics\n",
    "\n",
    "import numpy\n",
    "import scipy.stats\n",
    "import matplotlib.pyplot as plt\n",
    "from mpl_toolkits.mplot3d import Axes3D"
   ]
  },
  {
   "cell_type": "code",
   "execution_count": null,
   "metadata": {
    "collapsed": true
   },
   "outputs": [],
   "source": [
    "class FigureHandler(object):\n",
    "    def __init__(self, fig=None, ax=None, sav=False, disp=True, ext=\".pdf\", log=None):\n",
    "        self.fig = fig\n",
    "        self.ax = ax\n",
    "        self.sav = sav\n",
    "        self.disp = disp\n",
    "        self.ext = ext\n",
    "        self.log = log\n",
    "        self.ctr = 0\n",
    "    \n",
    "    def filename(self):\n",
    "        self.ctr += 1\n",
    "        fn = \"Figure-{0:04}-{1:}\".format(self.ctr, int(time.time())) + self.ext\n",
    "        return fn\n",
    "    \n",
    "    def new(self, *args, **kwargs):\n",
    "        self.fig = plt.figure()\n",
    "        self.ax = self.fig.add_subplot(*args, **kwargs)\n",
    "    \n",
    "    def refresh(self, *args, **kwargs):\n",
    "        self.fig = plt.figure(*args, **kwargs)\n",
    "    \n",
    "    def subplot(self, *args, **kwargs):\n",
    "        self.ax = self.fig.add_subplot(*args, **kwargs)\n",
    "    \n",
    "    def colorbar(self, mpbl, *args, **kwargs):\n",
    "        self.fig.colorbar(mpbl, *args, **kwargs)\n",
    "    \n",
    "    def close(self, *args, **kwargs):\n",
    "        plt.close(self.fig, *args, **kwargs)\n",
    "    \n",
    "    def save(self):\n",
    "        fn = self.filename()\n",
    "        plt.savefig(fn)\n",
    "        if self.log is not None:\n",
    "            print(\"{} saved\".format(fn))\n",
    "    \n",
    "    def show(self):\n",
    "        if self.sav:\n",
    "            self.save()\n",
    "        if self.disp:\n",
    "            plt.show()\n",
    "    \n",
    "    def fast(self, func, new_pos=(), new_kw={}, *args, **kwargs):\n",
    "        self.new(1, 1, 1, *new_pos, **new_kw)\n",
    "        func(self, *args, **kwargs)\n",
    "        self.show()\n",
    "        self.close()"
   ]
  },
  {
   "cell_type": "code",
   "execution_count": null,
   "metadata": {
    "collapsed": true
   },
   "outputs": [],
   "source": [
    "# !ConvertEnd*"
   ]
  },
  {
   "cell_type": "code",
   "execution_count": null,
   "metadata": {
    "collapsed": true
   },
   "outputs": [],
   "source": [
    "# !Convert*utils_test.py*w*sehx*"
   ]
  },
  {
   "cell_type": "code",
   "execution_count": null,
   "metadata": {
    "collapsed": true
   },
   "outputs": [],
   "source": [
    "# !Switch*\n",
    "# !SwitchCase*\n",
    "# import font\n",
    "# from utils import *\n",
    "# from solve_mosek import solve_mosek_primal_simplex, solve_mosek_dual_simplex, solve_mosek_interior_point\n",
    "# !SwitchEnd*"
   ]
  },
  {
   "cell_type": "code",
   "execution_count": null,
   "metadata": {
    "collapsed": true
   },
   "outputs": [],
   "source": [
    "# !Switch*\n",
    "fh = FigureHandler(sav=False, ext=\".pdf\", log=print)\n",
    "# !SwitchCase*\n",
    "# fh = FigureHandler(sav=True, disp=False, ext=\".pgf\", log=print)\n",
    "# !SwitchEnd*"
   ]
  },
  {
   "cell_type": "code",
   "execution_count": null,
   "metadata": {},
   "outputs": [],
   "source": [
    "fh.new(1, 1, 1, projection=\"3d\")\n",
    "fh.ax.scatter([1., 2.], [3., 4.], [5., 6.])\n",
    "fh.show()\n",
    "fh.close()"
   ]
  },
  {
   "cell_type": "code",
   "execution_count": null,
   "metadata": {
    "collapsed": true
   },
   "outputs": [],
   "source": [
    "# !ConvertEnd*"
   ]
  },
  {
   "cell_type": "code",
   "execution_count": null,
   "metadata": {
    "collapsed": true
   },
   "outputs": [],
   "source": [
    "# !Convert*utils.py*a*sh*"
   ]
  },
  {
   "cell_type": "code",
   "execution_count": null,
   "metadata": {
    "collapsed": true
   },
   "outputs": [],
   "source": [
    "class OTProblem(object):\n",
    "    def __init__(self, mu=None, nu=None, c=None):\n",
    "        self.mu = mu\n",
    "        self.nu = nu\n",
    "        self.c = c\n",
    "        self.sol = None\n",
    "    \n",
    "    def set_cx(self):\n",
    "        self.cx = self.sol\n",
    "    \n",
    "    def clean(self):\n",
    "        self.sol = None\n",
    "    \n",
    "    def plot_hotline(self, fh, colorbar=True, *args, **kwargs):\n",
    "        mpbl = fh.ax.imshow(self.sol, *args, **kwargs)\n",
    "        if colorbar:\n",
    "            fh.fig.colorbar(mpbl)\n",
    "        return mpbl"
   ]
  },
  {
   "cell_type": "code",
   "execution_count": null,
   "metadata": {
    "collapsed": true
   },
   "outputs": [],
   "source": [
    "# !ConvertEnd*"
   ]
  },
  {
   "cell_type": "code",
   "execution_count": null,
   "metadata": {
    "collapsed": true
   },
   "outputs": [],
   "source": [
    "# !Convert*utils_test.py*a*sh*"
   ]
  },
  {
   "cell_type": "code",
   "execution_count": null,
   "metadata": {
    "collapsed": true
   },
   "outputs": [],
   "source": [
    "prob = OTProblem()\n",
    "prob.sol = numpy.fromfunction(lambda i, j: numpy.sin(i / 3) * j**2, (50, 50))"
   ]
  },
  {
   "cell_type": "code",
   "execution_count": null,
   "metadata": {},
   "outputs": [],
   "source": [
    "fh.fast(prob.plot_hotline)"
   ]
  },
  {
   "cell_type": "code",
   "execution_count": null,
   "metadata": {
    "collapsed": true
   },
   "outputs": [],
   "source": [
    "# !ConvertEnd*"
   ]
  },
  {
   "cell_type": "code",
   "execution_count": null,
   "metadata": {
    "collapsed": true
   },
   "outputs": [],
   "source": [
    "# !Convert*utils.py*a*sh*"
   ]
  },
  {
   "cell_type": "code",
   "execution_count": null,
   "metadata": {
    "collapsed": true
   },
   "outputs": [],
   "source": [
    "class OTProblem1d(OTProblem):\n",
    "    def __init__(self, *args, **kwargs):\n",
    "        super(OTProblem1d, self).__init__(*args, **kwargs)\n",
    "    \n",
    "    def plot_mu_scatter(self, fh, *args, **kwargs):\n",
    "        fh.ax.scatter(self.mup, self.mu, *args, **kwargs)\n",
    "    \n",
    "    def plot_nu_scatter(self, fh, *args, **kwargs):\n",
    "        fh.ax.scatter(self.nup, self.nu, *args, **kwargs)\n",
    "    \n",
    "    def plot_scatter(\n",
    "        self, fh,\n",
    "        cutoff=0.2,\n",
    "        aspect=\"auto\", colorbar=True,\n",
    "        *args, **kwargs\n",
    "    ):\n",
    "        m, n = self.c.shape\n",
    "        \n",
    "        mean = self.sol.mean() * numpy.sqrt(m * n)\n",
    "        mask = self.sol > cutoff * mean\n",
    "        \n",
    "        ind = numpy.indices((m, n))\n",
    "        \n",
    "        dot_x, dot_y = self.mup[ind[0]][mask], self.nup[ind[1]][mask]\n",
    "        dot_c = self.sol[mask]\n",
    "        \n",
    "        mpbl = fh.ax.scatter(dot_x, dot_y, c=dot_c, *args, **kwargs)\n",
    "        if colorbar:\n",
    "            fh.fig.colorbar(mpbl)\n",
    "        \n",
    "        fh.ax.set_aspect(aspect)\n",
    "        return mpbl\n",
    "    \n",
    "    def plot_link(\n",
    "        self, fh,\n",
    "        off_bx=0., off_by=0., off_ex=0., off_ey=1.,\n",
    "        scatter=True, \n",
    "        cutoff=0.2, scale=30.,\n",
    "        aspect=\"auto\", colorbar=True,\n",
    "        sca_pos=(), sca_kw={},\n",
    "        *args, **kwargs\n",
    "    ):\n",
    "        m, n = self.c.shape\n",
    "        \n",
    "        if scatter:\n",
    "            mus = self.mu / self.mu.mean() * scale\n",
    "            nus = self.nu / self.nu.mean() * scale\n",
    "            fh.ax.scatter(self.mup + off_bx, numpy.zeros_like(self.mup) + off_by, s=mus, *sca_pos, **sca_kw)\n",
    "            fh.ax.scatter(self.nup + off_ex, numpy.zeros_like(self.nup) + off_ey, s=nus, *sca_pos, **sca_kw)\n",
    "        \n",
    "        mean = self.sol.mean() * numpy.sqrt(m * n)\n",
    "        mask = self.sol > cutoff * mean\n",
    "        \n",
    "        ind = numpy.indices((m, n))\n",
    "\n",
    "        arr_bx = self.mup[ind[0]][mask] + off_bx\n",
    "        arr_by = numpy.zeros_like(arr_bx) + off_by\n",
    "\n",
    "        arr_ex = self.nup[ind[1]][mask] + off_ex\n",
    "        arr_ey = numpy.zeros_like(arr_ex) + off_ey\n",
    "\n",
    "        arr_dx = arr_ex - arr_bx\n",
    "        arr_dy = arr_ey - arr_by\n",
    "\n",
    "        arr_c = self.sol[mask]\n",
    "\n",
    "        mpbl = fh.ax.quiver(arr_bx, arr_by, arr_dx, arr_dy, arr_c, angles=\"xy\", scale_units=\"xy\", scale=1., *args, **kwargs)\n",
    "        if colorbar:\n",
    "            fh.fig.colorbar(mpbl)\n",
    "        \n",
    "        fh.ax.set_aspect(aspect)\n",
    "        return mpbl"
   ]
  },
  {
   "cell_type": "code",
   "execution_count": null,
   "metadata": {
    "collapsed": true
   },
   "outputs": [],
   "source": [
    "# !ConvertEnd*"
   ]
  },
  {
   "cell_type": "code",
   "execution_count": null,
   "metadata": {
    "collapsed": true
   },
   "outputs": [],
   "source": [
    "# !Convert*utils_test.py*a*sh*"
   ]
  },
  {
   "cell_type": "code",
   "execution_count": null,
   "metadata": {
    "collapsed": true
   },
   "outputs": [],
   "source": [
    "prob = OTProblem1d()\n",
    "prob.mup = numpy.linspace(0., 1., 50)\n",
    "prob.nup = numpy.linspace(2., 3., 50)\n",
    "prob.mu = numpy.linspace(2., 1., 50)\n",
    "prob.nu = numpy.linspace(4., 3., 50)\n",
    "prob.c = numpy.eye(50)\n",
    "prob.sol = numpy.eye(50)"
   ]
  },
  {
   "cell_type": "code",
   "execution_count": null,
   "metadata": {},
   "outputs": [],
   "source": [
    "fh.fast(prob.plot_mu_scatter, alpha=0.5)"
   ]
  },
  {
   "cell_type": "code",
   "execution_count": null,
   "metadata": {
    "scrolled": false
   },
   "outputs": [],
   "source": [
    "fh.fast(prob.plot_scatter, alpha=0.5)"
   ]
  },
  {
   "cell_type": "code",
   "execution_count": null,
   "metadata": {
    "collapsed": true
   },
   "outputs": [],
   "source": [
    "# !ConvertEnd*"
   ]
  },
  {
   "cell_type": "code",
   "execution_count": null,
   "metadata": {
    "collapsed": true
   },
   "outputs": [],
   "source": [
    "# !Convert*utils.py*a*sh*"
   ]
  },
  {
   "cell_type": "code",
   "execution_count": null,
   "metadata": {
    "collapsed": true
   },
   "outputs": [],
   "source": [
    "def samp_1d_grid(start, stop):\n",
    "    def samp_1d_grid_gen(num):\n",
    "        p = numpy.linspace(start, stop, num)\n",
    "        return p\n",
    "    return samp_1d_grid_gen"
   ]
  },
  {
   "cell_type": "code",
   "execution_count": null,
   "metadata": {
    "collapsed": true
   },
   "outputs": [],
   "source": [
    "def samp_1d_norm(loc, scale):\n",
    "    def samp_1d_norm_gen(num):\n",
    "        p = numpy.random.normal(loc, scale, num)\n",
    "        p.sort()\n",
    "        return p\n",
    "    return samp_1d_norm_gen"
   ]
  },
  {
   "cell_type": "code",
   "execution_count": null,
   "metadata": {
    "collapsed": true
   },
   "outputs": [],
   "source": [
    "def val_const(sigma=1.):\n",
    "    def val_const_gen(p):\n",
    "        num = p.shape[0]\n",
    "        v = numpy.ones(num) * sigma / num\n",
    "        return v\n",
    "    return val_const_gen"
   ]
  },
  {
   "cell_type": "code",
   "execution_count": null,
   "metadata": {
    "collapsed": true
   },
   "outputs": [],
   "source": [
    "def val_unif(low, high, sigma=1.):\n",
    "    def val_unif_gen(p):\n",
    "        num = p.shape[0]\n",
    "        v = numpy.random.uniform(low, high, num)\n",
    "        v = v * sigma / numpy.sum(v)\n",
    "        return v\n",
    "    return val_unif_gen"
   ]
  },
  {
   "cell_type": "code",
   "execution_count": null,
   "metadata": {
    "collapsed": true
   },
   "outputs": [],
   "source": [
    "def val_1d_norm_pdf(loc, scale, sigma=1.):\n",
    "    norm = scipy.stats.norm(loc=loc, scale=scale)\n",
    "    def val_1d_norm_pdf_gen(p):\n",
    "        v = norm.pdf(p)\n",
    "        v = v * sigma / numpy.sum(v)\n",
    "        return v\n",
    "    return val_1d_norm_pdf_gen"
   ]
  },
  {
   "cell_type": "code",
   "execution_count": null,
   "metadata": {
    "collapsed": true
   },
   "outputs": [],
   "source": [
    "def dist_1d_euc_2(mup, nup):\n",
    "    m, n = mup.size, nup.size\n",
    "    ind = numpy.indices((m, n))\n",
    "    c = (mup[ind[0]] - nup[ind[1]])**2\n",
    "    return c"
   ]
  },
  {
   "cell_type": "code",
   "execution_count": null,
   "metadata": {
    "collapsed": true
   },
   "outputs": [],
   "source": [
    "def ot_1d_general(m, n, mu_gen, nu_gen, mup_gen, nup_gen, dist):\n",
    "    p = OTProblem1d()\n",
    "    p.mup = mup_gen(m)\n",
    "    p.nup = nup_gen(n)\n",
    "    p.mu = mu_gen(p.mup)\n",
    "    p.nu = nu_gen(p.nup)\n",
    "    p.c = dist(p.mup, p.nup)\n",
    "    return p"
   ]
  },
  {
   "cell_type": "code",
   "execution_count": null,
   "metadata": {
    "collapsed": true
   },
   "outputs": [],
   "source": [
    "# !ConvertEnd*"
   ]
  },
  {
   "cell_type": "code",
   "execution_count": null,
   "metadata": {
    "collapsed": true
   },
   "outputs": [],
   "source": [
    "# !Convert*solve_mosek.py*w*sh*"
   ]
  },
  {
   "cell_type": "code",
   "execution_count": null,
   "metadata": {
    "collapsed": true
   },
   "outputs": [],
   "source": [
    "import time\n",
    "\n",
    "import numpy\n",
    "\n",
    "import mosek"
   ]
  },
  {
   "cell_type": "code",
   "execution_count": null,
   "metadata": {
    "collapsed": true
   },
   "outputs": [],
   "source": [
    "def mosek_set_model(p, task):\n",
    "    m, n = p.c.shape\n",
    "    \n",
    "    inf = 0.\n",
    "    \n",
    "    task.appendvars(m*n)\n",
    "    task.appendcons(m+n)\n",
    "    \n",
    "    task.putvarboundlist(\n",
    "        range(m*n),\n",
    "        [mosek.boundkey.lo]*(m*n),\n",
    "        [0.]*(m*n),\n",
    "        [inf]*(m*n)\n",
    "    )\n",
    "    \n",
    "    for i in range(m):\n",
    "        task.putarow(\n",
    "            i,\n",
    "            range(i*n, (i+1)*n),\n",
    "            [1.]*n\n",
    "        )\n",
    "    task.putconboundlist(\n",
    "        range(0, m),\n",
    "        [mosek.boundkey.fx]*m,\n",
    "        p.mu,\n",
    "        p.mu\n",
    "    )\n",
    "    \n",
    "    for i in range(n):\n",
    "        task.putarow(\n",
    "            i+m,\n",
    "            range(i, i+m*n, n),\n",
    "            [1.]*m\n",
    "        )\n",
    "    task.putconboundlist(\n",
    "        range(m, m+n),\n",
    "        [mosek.boundkey.fx]*n,\n",
    "        p.nu,\n",
    "        p.nu\n",
    "    )\n",
    "    \n",
    "    task.putclist(range(m*n), p.c.reshape(m*n))\n",
    "    \n",
    "    task.putobjsense(mosek.objsense.minimize)\n",
    "\n",
    "def solve_mosek(\n",
    "    p,\n",
    "    mtd=None, sol=None, var=None, it=None,\n",
    "    log=None, stat=False,\n",
    "    *args, **kwargs\n",
    "):\n",
    "    m, n = p.c.shape\n",
    "    \n",
    "    if stat:\n",
    "        start_time = time.time()\n",
    "    \n",
    "    with mosek.Env() as env:\n",
    "        env.set_Stream(mosek.streamtype.log, log)\n",
    "        \n",
    "        with env.Task() as task:\n",
    "            task.set_Stream(mosek.streamtype.log, log)\n",
    "            \n",
    "            task.putintparam(mosek.iparam.optimizer, mtd)\n",
    "            \n",
    "            mosek_set_model(p, task)\n",
    "            \n",
    "            if stat:\n",
    "                end_time = time.time()\n",
    "            \n",
    "            task.optimize()\n",
    "            \n",
    "            xx = [0.] * (m*n)\n",
    "            task.getxx(sol, xx)\n",
    "            \n",
    "            p.sol = numpy.array(xx).reshape(m, n)\n",
    "    \n",
    "            if stat:\n",
    "                setup_time = end_time - start_time\n",
    "                s = {\n",
    "                    \"loss\": task.getprimalobj(sol),\n",
    "                    \"vars\": task.getintinf(var),\n",
    "                    \"iters\": task.getintinf(it),\n",
    "                    \"setup\": setup_time,\n",
    "                    \"solve\": task.getdouinf(mosek.dinfitem.optimizer_time)\n",
    "                }\n",
    "                return p, s\n",
    "            else:\n",
    "                return p"
   ]
  },
  {
   "cell_type": "code",
   "execution_count": null,
   "metadata": {
    "collapsed": true
   },
   "outputs": [],
   "source": [
    "def solve_mosek_primal_simplex(p, *args, **kwargs):\n",
    "    return solve_mosek(\n",
    "        p,\n",
    "        mtd=mosek.optimizertype.primal_simplex,\n",
    "        sol=mosek.soltype.bas,\n",
    "        var=mosek.iinfitem.opt_numvar,\n",
    "        it=mosek.iinfitem.sim_primal_iter,\n",
    "        *args, **kwargs\n",
    "    )\n",
    "\n",
    "def solve_mosek_dual_simplex(p, *args, **kwargs):\n",
    "    return solve_mosek(\n",
    "        p,\n",
    "        mtd=mosek.optimizertype.dual_simplex,\n",
    "        sol=mosek.soltype.bas,\n",
    "        var=mosek.iinfitem.opt_numvar,\n",
    "        it=mosek.iinfitem.sim_dual_iter,\n",
    "        *args, **kwargs\n",
    "    )\n",
    "\n",
    "def solve_mosek_interior_point(p, *args, **kwargs):\n",
    "    return solve_mosek(\n",
    "        p,\n",
    "        mtd=mosek.optimizertype.intpnt,\n",
    "        sol=mosek.soltype.itr,\n",
    "        var=mosek.iinfitem.opt_numvar,\n",
    "        it=mosek.iinfitem.intpnt_iter,\n",
    "        *args, **kwargs\n",
    "    )"
   ]
  },
  {
   "cell_type": "code",
   "execution_count": null,
   "metadata": {
    "collapsed": true
   },
   "outputs": [],
   "source": [
    "# !ConvertEnd*"
   ]
  },
  {
   "cell_type": "code",
   "execution_count": null,
   "metadata": {
    "collapsed": true
   },
   "outputs": [],
   "source": [
    "# !Convert*utils_test.py*a*sh*"
   ]
  },
  {
   "cell_type": "code",
   "execution_count": null,
   "metadata": {
    "collapsed": true
   },
   "outputs": [],
   "source": [
    "prob = ot_1d_general(\n",
    "    m=50, n=50,\n",
    "    mup_gen=samp_1d_norm(-5., 1.),\n",
    "    nup_gen=samp_1d_grid(-5., -4.),\n",
    "    mu_gen=val_unif(0., 1.),\n",
    "    nu_gen=val_unif(0., 1.),\n",
    "    dist=dist_1d_euc_2,\n",
    ")"
   ]
  },
  {
   "cell_type": "code",
   "execution_count": null,
   "metadata": {},
   "outputs": [],
   "source": [
    "fh.fast(prob.plot_mu_scatter)"
   ]
  },
  {
   "cell_type": "code",
   "execution_count": null,
   "metadata": {},
   "outputs": [],
   "source": [
    "_, s = solve_mosek_primal_simplex(prob, stat=True)\n",
    "print(s)"
   ]
  },
  {
   "cell_type": "code",
   "execution_count": null,
   "metadata": {},
   "outputs": [],
   "source": [
    "fh.fast(prob.plot_hotline)"
   ]
  },
  {
   "cell_type": "code",
   "execution_count": null,
   "metadata": {},
   "outputs": [],
   "source": [
    "fh.fast(prob.plot_scatter, alpha=0.5)"
   ]
  },
  {
   "cell_type": "code",
   "execution_count": null,
   "metadata": {},
   "outputs": [],
   "source": [
    "fh.fast(prob.plot_link)"
   ]
  },
  {
   "cell_type": "code",
   "execution_count": null,
   "metadata": {
    "collapsed": true
   },
   "outputs": [],
   "source": [
    "prob = ot_1d_general(\n",
    "    m=50, n=100,\n",
    "    mup_gen=samp_1d_grid(-7., -3.),\n",
    "    nup_gen=samp_1d_grid(-3., -1.),\n",
    "    mu_gen=val_1d_norm_pdf(-5., 0.8),\n",
    "    nu_gen=val_1d_norm_pdf(-2., 0.4),\n",
    "    dist=dist_1d_euc_2,\n",
    ")"
   ]
  },
  {
   "cell_type": "code",
   "execution_count": null,
   "metadata": {},
   "outputs": [],
   "source": [
    "fh.fast(prob.plot_mu_scatter)"
   ]
  },
  {
   "cell_type": "code",
   "execution_count": null,
   "metadata": {},
   "outputs": [],
   "source": [
    "solve_mosek_primal_simplex(prob)"
   ]
  },
  {
   "cell_type": "code",
   "execution_count": null,
   "metadata": {},
   "outputs": [],
   "source": [
    "fh.fast(prob.plot_link)"
   ]
  },
  {
   "cell_type": "code",
   "execution_count": null,
   "metadata": {
    "collapsed": true
   },
   "outputs": [],
   "source": [
    "# !ConvertEnd*"
   ]
  },
  {
   "cell_type": "code",
   "execution_count": null,
   "metadata": {
    "collapsed": true
   },
   "outputs": [],
   "source": [
    "# !Convert*utils.py*a*sh*"
   ]
  },
  {
   "cell_type": "code",
   "execution_count": null,
   "metadata": {
    "collapsed": true
   },
   "outputs": [],
   "source": [
    "class OTProblem2d(OTProblem):\n",
    "    def __init__(self, *args, **kwargs):\n",
    "        super(OTProblem2d, self).__init__(*args, **kwargs)\n",
    "    \n",
    "    def plot_mu_scatter(self, fh, *args, **kwargs):\n",
    "        fh.ax.scatter(self.mup[:, 0], self.mup[:, 1], self.mu, *args, **kwargs)\n",
    "    \n",
    "    def plot_nu_scatter(self, fh, *args, **kwargs):\n",
    "        fh.ax.scatter(self.nup[:, 0], self.nup[:, 1], self.nu, *args, **kwargs)\n",
    "    \n",
    "    def plot_mu_scatter_plain(self, fh, scale=30., *args, **kwargs):\n",
    "        s = self.mu / self.mu.mean() * scale\n",
    "        fh.ax.scatter(self.mup[:, 0], self.mup[:, 1], s=s, *args, **kwargs)\n",
    "    \n",
    "    def plot_nu_scatter_plain(self, fh, scale=30., *args, **kwargs):\n",
    "        s = self.nu / self.nu.mean() * scale\n",
    "        fh.ax.scatter(self.nup[:, 0], self.nup[:, 1], s=s, *args, **kwargs)\n",
    "    \n",
    "    def plot_link(\n",
    "        self, fh,\n",
    "        off_bx=0., off_by=0., off_ex=0., off_ey=0.,\n",
    "        scatter=True,\n",
    "        cutoff=0.2, scale=30.,\n",
    "        aspect=\"auto\", colorbar=True,\n",
    "        sca_pos=(), sca_kw={},\n",
    "        *args, **kwargs\n",
    "    ):\n",
    "        m, n = self.c.shape\n",
    "        \n",
    "        if scatter:\n",
    "            mus = self.mu / self.mu.mean() * scale\n",
    "            nus = self.nu / self.nu.mean() * scale\n",
    "            fh.ax.scatter(self.mup[:, 0] + off_bx, self.mup[:, 1] + off_by, s=mus, *sca_pos, **sca_kw)\n",
    "            fh.ax.scatter(self.nup[:, 0] + off_ex, self.nup[:, 1] + off_ey, s=nus, *sca_pos, **sca_kw)\n",
    "        \n",
    "        mean = self.sol.mean() * numpy.sqrt(m * n)\n",
    "        mask = self.sol > cutoff * mean\n",
    "\n",
    "        ind = numpy.indices((m, n))\n",
    "\n",
    "        arr_b = self.mup[ind[0]][mask]\n",
    "        arr_bx, arr_by = arr_b[:, 0] + off_bx, arr_b[:, 1] + off_by\n",
    "\n",
    "        arr_e = self.nup[ind[1]][mask]\n",
    "        arr_ex, arr_ey = arr_e[:, 0] + off_ex, arr_e[:, 1] + off_ey\n",
    "\n",
    "        arr_dx = arr_ex - arr_bx\n",
    "        arr_dy = arr_ey - arr_by\n",
    "\n",
    "        arr_c = self.sol[mask]\n",
    "\n",
    "        mpbl = fh.ax.quiver(arr_bx, arr_by, arr_dx, arr_dy, arr_c, angles=\"xy\", scale_units=\"xy\", scale=1., *args, **kwargs)\n",
    "        if colorbar:\n",
    "            fh.fig.colorbar(mpbl)\n",
    "        \n",
    "        fh.ax.set_aspect(aspect)\n",
    "        return mpbl"
   ]
  },
  {
   "cell_type": "code",
   "execution_count": null,
   "metadata": {
    "collapsed": true
   },
   "outputs": [],
   "source": [
    "def samp_norm(mean, cov):\n",
    "    def samp_norm_gen(num):\n",
    "        p = numpy.random.multivariate_normal(mean, cov, num)\n",
    "        return p\n",
    "    return samp_norm_gen"
   ]
  },
  {
   "cell_type": "code",
   "execution_count": null,
   "metadata": {
    "collapsed": true
   },
   "outputs": [],
   "source": [
    "def samp_2d_grid(start_x, end_x, start_y, end_y):\n",
    "    def samp_2d_grid_gen(num):\n",
    "        num_t = num[0] * num[1]\n",
    "        x = numpy.linspace(start_x, end_x, num[0])\n",
    "        y = numpy.linspace(start_y, end_y, num[1])\n",
    "        xp, yp = numpy.meshgrid(x, y)\n",
    "        p = numpy.concatenate((xp.reshape((num_t, 1)), yp.reshape((num_t, 1))), axis=1)\n",
    "        return p\n",
    "    return samp_2d_grid_gen"
   ]
  },
  {
   "cell_type": "code",
   "execution_count": null,
   "metadata": {
    "collapsed": true
   },
   "outputs": [],
   "source": [
    "def samp_2d_mid(start_x, end_x, start_y, end_y):\n",
    "    def samp_2d_grid_gen(num):\n",
    "        num_t = num[0] * num[1]\n",
    "        step_x = (end_x - start_x) / num[0]\n",
    "        x = numpy.linspace(start_x + step_x / 2., end_x - step_x / 2., num[0])\n",
    "        step_y = (end_y - start_y) / num[1]\n",
    "        y = numpy.linspace(start_y + step_y / 2., end_y - step_y / 2., num[1])\n",
    "        xp, yp = numpy.meshgrid(x, y)\n",
    "        p = numpy.concatenate((xp.reshape((num_t, 1)), yp.reshape((num_t, 1))), axis=1)\n",
    "        return p\n",
    "    return samp_2d_grid_gen"
   ]
  },
  {
   "cell_type": "code",
   "execution_count": null,
   "metadata": {
    "collapsed": true
   },
   "outputs": [],
   "source": [
    "def samp_2d_ellipse(cen_x, r_x, cen_y, r_y, noi):\n",
    "    def samp_2d_ellipse_gen(num):\n",
    "        r = numpy.random.uniform(0, 2.*math.pi, num)\n",
    "        dx = numpy.cos(r) + noi / math.sqrt(2.) * numpy.random.randn(num)\n",
    "        dy = numpy.sin(r) + noi / math.sqrt(2.) * numpy.random.randn(num)\n",
    "        x = r_x * dx + cen_x\n",
    "        y = r_y * dy + cen_y\n",
    "        p = numpy.concatenate((x.reshape(num, 1), y.reshape(num, 1)), axis=1)\n",
    "        return p\n",
    "    return samp_2d_ellipse_gen"
   ]
  },
  {
   "cell_type": "code",
   "execution_count": null,
   "metadata": {
    "collapsed": true
   },
   "outputs": [],
   "source": [
    "def samp_2d_Caffarelli(cen_x, cen_y, r, d):\n",
    "    def samp_2d_Caffarelli_gen(num):\n",
    "        ox = numpy.random.uniform(-r, r, num)\n",
    "        oy = numpy.random.uniform(-r, r, num)\n",
    "        mask = ox**2 + oy**2 < r**2\n",
    "        fx, fy = ox[mask], oy[mask]\n",
    "        fx[fx < 0.] -= d / 2.\n",
    "        fx[fx >= 0.] += d / 2.\n",
    "        nnum = fx.size\n",
    "        x = fx + cen_x\n",
    "        y = fy + cen_y\n",
    "        p = numpy.concatenate((x.reshape(nnum, 1), y.reshape(nnum, 1)), axis=1)\n",
    "        return p\n",
    "    return samp_2d_Caffarelli_gen"
   ]
  },
  {
   "cell_type": "code",
   "execution_count": null,
   "metadata": {
    "collapsed": true
   },
   "outputs": [],
   "source": [
    "def val_norm_pdf(mean, cov, sigma=1.):\n",
    "    norm = scipy.stats.multivariate_normal(mean=mean, cov=cov)\n",
    "    def val_norm_pdf_gen(p):\n",
    "        v = norm.pdf(p)\n",
    "        v = v * sigma / numpy.sum(v)\n",
    "        return v\n",
    "    return val_norm_pdf_gen"
   ]
  },
  {
   "cell_type": "code",
   "execution_count": null,
   "metadata": {
    "collapsed": true
   },
   "outputs": [],
   "source": [
    "def dist_2d_euc_2(mup, nup):\n",
    "    m, n = mup.shape[0], nup.shape[0]\n",
    "    ind = numpy.indices((m, n))\n",
    "    c = ((mup[ind[0]] - nup[ind[1]])**2).sum(axis=2)\n",
    "    return c"
   ]
  },
  {
   "cell_type": "code",
   "execution_count": null,
   "metadata": {
    "collapsed": true
   },
   "outputs": [],
   "source": [
    "def ot_2d_general(m, n, mu_gen, nu_gen, mup_gen, nup_gen, dist):\n",
    "    p = OTProblem2d()\n",
    "    p.mup = mup_gen(m)\n",
    "    p.nup = nup_gen(n)\n",
    "    p.mu = mu_gen(p.mup)\n",
    "    p.nu = nu_gen(p.nup)\n",
    "    p.c = dist(p.mup, p.nup)\n",
    "    return p"
   ]
  },
  {
   "cell_type": "code",
   "execution_count": null,
   "metadata": {
    "collapsed": true
   },
   "outputs": [],
   "source": [
    "# !ConvertEnd*"
   ]
  },
  {
   "cell_type": "code",
   "execution_count": null,
   "metadata": {
    "collapsed": true
   },
   "outputs": [],
   "source": [
    "# !Convert*utils_test.py*a*sh*"
   ]
  },
  {
   "cell_type": "code",
   "execution_count": null,
   "metadata": {
    "collapsed": true,
    "scrolled": false
   },
   "outputs": [],
   "source": [
    "prob = ot_2d_general(\n",
    "    m=[5, 5], n=50,\n",
    "    mup_gen=samp_2d_mid(0., 1., 0., 1.),\n",
    "    nup_gen=samp_norm([2., 2.], [[1., 0.5], [0.5, 1.]]),\n",
    "    mu_gen=val_unif(0., 1.),\n",
    "    nu_gen=val_unif(0., 1.),\n",
    "    dist=dist_2d_euc_2,\n",
    ")"
   ]
  },
  {
   "cell_type": "code",
   "execution_count": null,
   "metadata": {},
   "outputs": [],
   "source": [
    "solve_mosek_primal_simplex(prob)"
   ]
  },
  {
   "cell_type": "code",
   "execution_count": null,
   "metadata": {},
   "outputs": [],
   "source": [
    "fh.fast(prob.plot_hotline)"
   ]
  },
  {
   "cell_type": "code",
   "execution_count": null,
   "metadata": {},
   "outputs": [],
   "source": [
    "fh.fast(prob.plot_mu_scatter, new_kw={\"projection\": \"3d\"})"
   ]
  },
  {
   "cell_type": "code",
   "execution_count": null,
   "metadata": {},
   "outputs": [],
   "source": [
    "fh.fast(prob.plot_mu_scatter_plain)"
   ]
  },
  {
   "cell_type": "code",
   "execution_count": null,
   "metadata": {},
   "outputs": [],
   "source": [
    "fh.fast(prob.plot_nu_scatter_plain)"
   ]
  },
  {
   "cell_type": "code",
   "execution_count": null,
   "metadata": {},
   "outputs": [],
   "source": [
    "fh.fast(prob.plot_link, scale=30., cutoff=0.5)"
   ]
  },
  {
   "cell_type": "code",
   "execution_count": null,
   "metadata": {
    "collapsed": true
   },
   "outputs": [],
   "source": [
    "prob = ot_2d_general(\n",
    "    m=100, n=100,\n",
    "    mup_gen=samp_2d_ellipse(0., 2., 0., 0.5, 0.1),\n",
    "    nup_gen=samp_2d_ellipse(0., 0.5, 0., 2., 0.1),\n",
    "    mu_gen=val_const(),\n",
    "    nu_gen=val_const(),\n",
    "    dist=dist_2d_euc_2,\n",
    ")"
   ]
  },
  {
   "cell_type": "code",
   "execution_count": null,
   "metadata": {},
   "outputs": [],
   "source": [
    "fh.fast(prob.plot_mu_scatter_plain)"
   ]
  },
  {
   "cell_type": "code",
   "execution_count": null,
   "metadata": {},
   "outputs": [],
   "source": [
    "solve_mosek_primal_simplex(prob)"
   ]
  },
  {
   "cell_type": "code",
   "execution_count": null,
   "metadata": {},
   "outputs": [],
   "source": [
    "fh.fast(prob.plot_link, scale=30., cutoff=0.5)"
   ]
  },
  {
   "cell_type": "code",
   "execution_count": null,
   "metadata": {
    "collapsed": true
   },
   "outputs": [],
   "source": [
    "prob = ot_2d_general(\n",
    "    m=500, n=500,\n",
    "    mup_gen=samp_2d_Caffarelli(0., 0., 1., 0.),\n",
    "    nup_gen=samp_2d_Caffarelli(0., 0., 1., 2.),\n",
    "    mu_gen=val_const(),\n",
    "    nu_gen=val_const(),\n",
    "    dist=dist_2d_euc_2,\n",
    ")"
   ]
  },
  {
   "cell_type": "code",
   "execution_count": null,
   "metadata": {},
   "outputs": [],
   "source": [
    "fh.fast(prob.plot_nu_scatter_plain)"
   ]
  },
  {
   "cell_type": "code",
   "execution_count": null,
   "metadata": {
    "scrolled": false
   },
   "outputs": [],
   "source": [
    "solve_mosek_primal_simplex(prob)"
   ]
  },
  {
   "cell_type": "code",
   "execution_count": null,
   "metadata": {
    "scrolled": false
   },
   "outputs": [],
   "source": [
    "fh.fast(prob.plot_link, scale=30., cutoff=0.5)"
   ]
  },
  {
   "cell_type": "code",
   "execution_count": null,
   "metadata": {
    "collapsed": true
   },
   "outputs": [],
   "source": [
    "# !ConvertEnd*"
   ]
  },
  {
   "cell_type": "code",
   "execution_count": null,
   "metadata": {
    "collapsed": true
   },
   "outputs": [],
   "source": [
    "# !Convert*utils.py*a*sh*"
   ]
  },
  {
   "cell_type": "code",
   "execution_count": null,
   "metadata": {
    "collapsed": true
   },
   "outputs": [],
   "source": [
    "class OTProblemImage(OTProblem2d):\n",
    "    def __init__(self, *args, **kwargs):\n",
    "        super(OTProblemImage, self).__init__(*args, **kwargs)\n",
    "    \n",
    "    def plot_mu_image(\n",
    "        self, fh,\n",
    "        origin=\"lower\",\n",
    "        colorbar=False,\n",
    "        *args, **kwargs\n",
    "    ):\n",
    "        mwn = [self.mw[0], self.mw[1], self.mw[2], self.mw[3]]\n",
    "        mpbl = fh.ax.imshow(self.mu.reshape(self.m[1], self.m[0]), extent=mwn, origin=origin, *args, **kwargs)\n",
    "        if colorbar:\n",
    "            fh.fig.colorbar(mpbl)\n",
    "    \n",
    "    def plot_nu_image(\n",
    "        self, fh,\n",
    "        origin=\"lower\",\n",
    "        colorbar=False,\n",
    "        *args, **kwargs\n",
    "    ):\n",
    "        nwn = [self.nw[0], self.nw[1], self.nw[2], self.nw[3]]\n",
    "        mpbl = fh.ax.imshow(self.nu.reshape(self.n[1], self.n[0]), extent=nwn, origin=origin, *args, **kwargs)\n",
    "        if colorbar:\n",
    "            fh.fig.colorbar(mpbl)\n",
    "    \n",
    "    def plot_link(\n",
    "        self, fh,\n",
    "        off_bx=0., off_by=0., off_ex=0., off_ey=0.,\n",
    "        image_m=False, image_n=False,\n",
    "        origin=\"lower\",\n",
    "        cutoff=0.2, scale=30.,\n",
    "        aspect=\"auto\", colorbar=False,\n",
    "        im_pos=(), im_kw={},\n",
    "        *args, **kwargs\n",
    "    ):\n",
    "        m, n = self.c.shape\n",
    "        \n",
    "        if image_m:\n",
    "            mwn = [self.mw[0] + off_bx, self.mw[1] + off_bx, self.mw[2] + off_by, self.mw[3] + off_by]\n",
    "            fh.ax.imshow(self.mu.reshape(self.m), extent=mwn, origin=origin, *im_pos, **im_kw)\n",
    "        \n",
    "        if image_n:\n",
    "            nwn = [self.nw[0] + off_ex, self.nw[1] + off_ex, self.nw[2] + off_ey, self.nw[3] + off_ey]\n",
    "            fh.ax.imshow(self.nu.reshape(self.n), extent=nwn, origin=origin, *im_pos, **im_kw)\n",
    "        \n",
    "        mean = self.sol.mean() * numpy.sqrt(m * n)\n",
    "        mask = self.sol > cutoff * mean\n",
    "\n",
    "        ind = numpy.indices((m, n))\n",
    "\n",
    "        arr_b = self.mup[ind[0]][mask]\n",
    "        arr_bx, arr_by = arr_b[:, 0] + off_bx, arr_b[:, 1] + off_by\n",
    "\n",
    "        arr_e = self.nup[ind[1]][mask]\n",
    "        arr_ex, arr_ey = arr_e[:, 0] + off_ex, arr_e[:, 1] + off_ey\n",
    "\n",
    "        arr_dx = arr_ex - arr_bx\n",
    "        arr_dy = arr_ey - arr_by\n",
    "\n",
    "        arr_c = self.sol[mask]\n",
    "\n",
    "        mpbl = fh.ax.quiver(arr_bx, arr_by, arr_dx, arr_dy, arr_c, angles=\"xy\", scale_units=\"xy\", scale=1., *args, **kwargs)\n",
    "        if colorbar:\n",
    "            fh.fig.colorbar(mpbl)\n",
    "        \n",
    "        fh.ax.set_aspect(aspect)\n",
    "        return mpbl"
   ]
  },
  {
   "cell_type": "code",
   "execution_count": null,
   "metadata": {
    "collapsed": true
   },
   "outputs": [],
   "source": [
    "def ot_im_general(m, n, mw, nw, mu_gen, nu_gen, mup_gen, nup_gen, dist):\n",
    "    p = OTProblemImage()\n",
    "    p.m = m\n",
    "    p.n = n\n",
    "    p.mw = mw\n",
    "    p.nw = nw\n",
    "    p.mup = mup_gen(m)\n",
    "    p.nup = nup_gen(n)\n",
    "    p.mu = mu_gen(p.mup)\n",
    "    p.nu = nu_gen(p.nup)\n",
    "    p.c = dist(p.mup, p.nup)\n",
    "    return p"
   ]
  },
  {
   "cell_type": "code",
   "execution_count": null,
   "metadata": {
    "collapsed": true
   },
   "outputs": [],
   "source": [
    "# !ConvertEnd*"
   ]
  },
  {
   "cell_type": "code",
   "execution_count": null,
   "metadata": {
    "collapsed": true
   },
   "outputs": [],
   "source": [
    "# !Convert*utils_test.py*a*sh*"
   ]
  },
  {
   "cell_type": "code",
   "execution_count": null,
   "metadata": {
    "collapsed": true
   },
   "outputs": [],
   "source": [
    "prob = ot_im_general(\n",
    "    m=[10, 10], n=[10, 10],\n",
    "    mw=[0., 1., 0., 1.], nw=[0., 1., 0., 1.],\n",
    "    mup_gen=samp_2d_mid(0., 1., 0., 1.),\n",
    "    nup_gen=samp_2d_mid(0., 1., 0., 1.),\n",
    "    mu_gen=val_unif(0., 1.),\n",
    "    nu_gen=val_unif(0., 1.),\n",
    "    dist=dist_2d_euc_2,\n",
    ")"
   ]
  },
  {
   "cell_type": "code",
   "execution_count": null,
   "metadata": {},
   "outputs": [],
   "source": [
    "solve_mosek_primal_simplex(prob)"
   ]
  },
  {
   "cell_type": "code",
   "execution_count": null,
   "metadata": {},
   "outputs": [],
   "source": [
    "fh.fast(prob.plot_link, aspect=\"equal\")"
   ]
  },
  {
   "cell_type": "code",
   "execution_count": null,
   "metadata": {},
   "outputs": [],
   "source": [
    "fh.refresh()\n",
    "fh.subplot(1, 3, 1)\n",
    "prob.plot_mu_image(fh)\n",
    "fh.subplot(1, 3, 2)\n",
    "prob.plot_link(fh, aspect=\"equal\")\n",
    "fh.subplot(1, 3, 3)\n",
    "prob.plot_nu_image(fh)\n",
    "fh.show()\n",
    "fh.close()"
   ]
  },
  {
   "cell_type": "code",
   "execution_count": null,
   "metadata": {
    "collapsed": true
   },
   "outputs": [],
   "source": [
    "prob = ot_im_general(\n",
    "    m=[20, 10], n=[10, 30],\n",
    "    mw=[0., 2., 0., 1.], nw=[0., 1., 0., 2.],\n",
    "    mup_gen=samp_2d_mid(0., 2., 0., 1.),\n",
    "    nup_gen=samp_2d_mid(0., 1., 0., 2.),\n",
    "    mu_gen=val_norm_pdf([0.2, 0.8], [[0.2, 0.], [0., 0.2]]),\n",
    "    nu_gen=val_norm_pdf([0.8, 0.2], [[0.2, 0.], [0., 0.2]]),\n",
    "    dist=dist_2d_euc_2,\n",
    ")"
   ]
  },
  {
   "cell_type": "code",
   "execution_count": null,
   "metadata": {},
   "outputs": [],
   "source": [
    "solve_mosek_primal_simplex(prob)"
   ]
  },
  {
   "cell_type": "code",
   "execution_count": null,
   "metadata": {},
   "outputs": [],
   "source": [
    "fh.fast(prob.plot_mu_image)"
   ]
  },
  {
   "cell_type": "code",
   "execution_count": null,
   "metadata": {},
   "outputs": [],
   "source": [
    "fh.refresh()\n",
    "fh.subplot(1, 3, 1)\n",
    "prob.plot_mu_image(fh)\n",
    "fh.subplot(1, 3, 2)\n",
    "prob.plot_mu_image(fh, alpha=0.3)\n",
    "prob.plot_nu_image(fh, alpha=0.3)\n",
    "prob.plot_link(fh, aspect=\"equal\")\n",
    "fh.subplot(1, 3, 3)\n",
    "prob.plot_nu_image(fh)\n",
    "fh.show()\n",
    "fh.close()"
   ]
  },
  {
   "cell_type": "code",
   "execution_count": null,
   "metadata": {
    "collapsed": true
   },
   "outputs": [],
   "source": [
    "prob = ot_2d_general(\n",
    "    m=1000, n=1000,\n",
    "    mup_gen=samp_2d_Caffarelli(0., 0., 1., 0.),\n",
    "    nup_gen=samp_2d_Caffarelli(0., 0., 1., 4.),\n",
    "    mu_gen=val_const(),\n",
    "    nu_gen=val_const(),\n",
    "    dist=dist_2d_euc_2,\n",
    ")"
   ]
  },
  {
   "cell_type": "code",
   "execution_count": null,
   "metadata": {},
   "outputs": [],
   "source": [
    "print(\"Size = ({0}, {1})\".format(prob.mu.size, prob.nu.size))"
   ]
  },
  {
   "cell_type": "code",
   "execution_count": null,
   "metadata": {},
   "outputs": [],
   "source": [
    "solve_mosek_primal_simplex(prob, log=print, stat=True)"
   ]
  },
  {
   "cell_type": "code",
   "execution_count": null,
   "metadata": {},
   "outputs": [],
   "source": [
    "solve_mosek_dual_simplex(prob, log=print, stat=True)"
   ]
  },
  {
   "cell_type": "code",
   "execution_count": null,
   "metadata": {},
   "outputs": [],
   "source": [
    "solve_mosek_interior_point(prob, log=print, stat=True)"
   ]
  },
  {
   "cell_type": "code",
   "execution_count": null,
   "metadata": {
    "collapsed": true
   },
   "outputs": [],
   "source": [
    "# !ConvertEnd*"
   ]
  },
  {
   "cell_type": "code",
   "execution_count": null,
   "metadata": {
    "collapsed": true
   },
   "outputs": [],
   "source": [
    "# !Convert*utils.py*a*sh*"
   ]
  },
  {
   "cell_type": "code",
   "execution_count": null,
   "metadata": {
    "collapsed": true
   },
   "outputs": [],
   "source": [
    "def relative_error(u, v):\n",
    "    return numpy.linalg.norm(u - v) / numpy.linalg.norm(u)"
   ]
  },
  {
   "cell_type": "code",
   "execution_count": null,
   "metadata": {
    "collapsed": true
   },
   "outputs": [],
   "source": [
    "general_merge_config = {\n",
    "    \"title\": \"first\",\n",
    "    \"name\": \"first\",\n",
    "    \"time\": \"mean+-stdev\",\n",
    "    \"setup\": \"mean+-stdev\",\n",
    "    \"solve\": \"mean+-stdev\",\n",
    "    \"vars\": \"set\",\n",
    "    \"iters\": \"mean\",\n",
    "    \"loss\": \"mean+-stdev\",\n",
    "    \"check\": \"mean+-stdev\",\n",
    "    \"error_xx\": \"mean+-stdev\",\n",
    "}"
   ]
  },
  {
   "cell_type": "code",
   "execution_count": null,
   "metadata": {
    "collapsed": true
   },
   "outputs": [],
   "source": [
    "general_output_config = {\n",
    "    \"title\": [\"Title\", \"{}\"],\n",
    "    \"name\": [\"Function name\", \"{}\"],\n",
    "    \"time\": [\"Time\", \"{0[0]:.5f}+-{0[1]:.5f}\"],\n",
    "    \"setup\": [\"Setup time\", \"{0[0]:.5f}+-{0[1]:.5f}\"],\n",
    "    \"solve\": [\"Solve time\", \"{0[0]:.5f}+-{0[1]:.5f}\"],\n",
    "    \"vars\": [\"Variables\", \"{}\"],\n",
    "    \"iters\": [\"Average iterables\", \"{:.3f}\"],\n",
    "    \"loss\": [\"Loss\", \"{0[0]:.7e}+-{0[1]:.7e}\"],\n",
    "    \"check\": [\"Check loss\", \"{0[0]:.7e}+-{0[1]:.7e}\"],\n",
    "    \"error_xx\": [\"Error to known\", \"{0[0]:.7e}+-{0[1]:.7e}\"],\n",
    "}"
   ]
  },
  {
   "cell_type": "code",
   "execution_count": null,
   "metadata": {
    "collapsed": true
   },
   "outputs": [],
   "source": [
    "def merge_stats(stats, config):\n",
    "    d = {}\n",
    "    for k, m in config.items():\n",
    "        if k not in stats[0].keys():\n",
    "            continue\n",
    "        if m == \"mean\":\n",
    "            d[k] = statistics.mean(s[k] for s in stats)\n",
    "        elif m == \"stdev\":\n",
    "            d[k] = statistics.stdev(s[k] for s in stats)\n",
    "        elif m == \"mean+-stdev\":\n",
    "            d[k] = [statistics.mean(s[k] for s in stats), statistics.stdev(s[k] for s in stats)]\n",
    "        elif m == \"first\":\n",
    "            d[k] = stats[0][k]\n",
    "        elif m == \"list\":\n",
    "            d[k] = [s[k] for s in stats]\n",
    "        elif m == \"set\":\n",
    "            d[k] = {s[k] for s in stats}\n",
    "    return d"
   ]
  },
  {
   "cell_type": "code",
   "execution_count": null,
   "metadata": {
    "collapsed": true
   },
   "outputs": [],
   "source": [
    "def format_output(res, config):\n",
    "    for k, v in config.items():\n",
    "        if k in res:\n",
    "            n = v[0]\n",
    "            rp = v[1].format(res[k])\n",
    "            print(\"{0}: {1}\".format(n, rp))"
   ]
  },
  {
   "cell_type": "code",
   "execution_count": null,
   "metadata": {
    "collapsed": true
   },
   "outputs": [],
   "source": [
    "class Statistics(object):\n",
    "    def __init__(\n",
    "        self,\n",
    "        probs=None,\n",
    "        merge_config=general_merge_config,\n",
    "        output_config=general_output_config\n",
    "    ):\n",
    "        self.len = len(probs)\n",
    "        self.probs = probs\n",
    "        self.merge_config = merge_config\n",
    "        self.output_config = output_config\n",
    "        self.stats = []\n",
    "        self.ress = []\n",
    "    \n",
    "    def set_cx(self, func, log=None, *args, **kwargs):\n",
    "        for i in range(self.len):\n",
    "            if log is not None:\n",
    "                log(\"Setting {0}/{1}\".format(i, self.len))\n",
    "            func(self.probs[i], *args, **kwargs)\n",
    "            self.probs[i].set_cx()\n",
    "            self.probs[i].clean()\n",
    "    \n",
    "    def test_piece(self, prob, func, title=\"\", clean=True, *args, **kwargs):\n",
    "        start_time = time.time()\n",
    "        prob, stat = func(prob, stat=True, *args, **kwargs)\n",
    "        end_time = time.time()\n",
    "        elapsed_time = end_time - start_time\n",
    "        \n",
    "        check_loss = numpy.sum(prob.sol * prob.c)\n",
    "        \n",
    "        stat[\"title\"] = title\n",
    "        stat[\"name\"] = func.__name__\n",
    "        stat[\"time\"] = elapsed_time\n",
    "        stat[\"check\"] = check_loss\n",
    "        if prob.cx is not None:\n",
    "            stat[\"error_xx\"] = relative_error(prob.cx, prob.sol)\n",
    "        \n",
    "        if clean:\n",
    "            prob.clean()\n",
    "        return stat\n",
    "    \n",
    "    def test(self, func, title=\"\", log=None, *args, **kwargs):\n",
    "        ss = []\n",
    "        for i in range(self.len):\n",
    "            if log is not None:\n",
    "                log(\"Testing {0}/{1}\".format(i, self.len))\n",
    "            s = self.test_piece(self.probs[i], func, title, *args, **kwargs)\n",
    "            ss.append(s)\n",
    "        r = merge_stats(ss, self.merge_config)\n",
    "        self.stats.append(ss)\n",
    "        self.ress.append(r)\n",
    "    \n",
    "    def clean_last(self):\n",
    "        for i in range(self.len):\n",
    "            self.probs[i].clean()\n",
    "    \n",
    "    def output_last(self):\n",
    "        format_output(self.ress[-1], self.output_config)"
   ]
  },
  {
   "cell_type": "code",
   "execution_count": null,
   "metadata": {
    "collapsed": true
   },
   "outputs": [],
   "source": [
    "# !ConvertEnd*"
   ]
  },
  {
   "cell_type": "code",
   "execution_count": null,
   "metadata": {
    "collapsed": true
   },
   "outputs": [],
   "source": [
    "# !Convert*utils_test.py*a*sh*"
   ]
  },
  {
   "cell_type": "code",
   "execution_count": null,
   "metadata": {
    "collapsed": true
   },
   "outputs": [],
   "source": [
    "stat = Statistics(\n",
    "    probs=[\n",
    "        ot_2d_general(\n",
    "            m=500, n=500,\n",
    "            mup_gen=samp_2d_Caffarelli(0., 0., 1., 0.),\n",
    "            nup_gen=samp_2d_Caffarelli(0., 0., 1., 4.),\n",
    "            mu_gen=val_const(),\n",
    "            nu_gen=val_const(),\n",
    "            dist=dist_2d_euc_2,\n",
    "        ) for i in range(10)\n",
    "    ],\n",
    "    merge_config=general_merge_config,\n",
    "    output_config=general_output_config,\n",
    ")"
   ]
  },
  {
   "cell_type": "code",
   "execution_count": null,
   "metadata": {},
   "outputs": [],
   "source": [
    "stat.set_cx(solve_mosek_interior_point, log=print)"
   ]
  },
  {
   "cell_type": "code",
   "execution_count": null,
   "metadata": {},
   "outputs": [],
   "source": [
    "stat.test(solve_mosek_primal_simplex, title=\"MOSEK, simplex for primal\", log=print, clean=False)\n",
    "stat.output_last()\n",
    "fh.fast(stat.probs[0].plot_link)\n",
    "stat.clean_last()"
   ]
  },
  {
   "cell_type": "code",
   "execution_count": null,
   "metadata": {
    "scrolled": true
   },
   "outputs": [],
   "source": [
    "stat.test(solve_mosek_dual_simplex, title=\"MOSEK, simplex for dual\", log=print)\n",
    "stat.output_last()"
   ]
  },
  {
   "cell_type": "code",
   "execution_count": null,
   "metadata": {},
   "outputs": [],
   "source": [
    "stat.test(solve_mosek_interior_point, title=\"MOSEK, interior point\", log=print, clean=False)\n",
    "stat.output_last()\n",
    "fh.fast(stat.probs[0].plot_link)\n",
    "stat.clean_last()"
   ]
  },
  {
   "cell_type": "code",
   "execution_count": null,
   "metadata": {
    "collapsed": true
   },
   "outputs": [],
   "source": [
    "# !ConvertEnd*"
   ]
  },
  {
   "cell_type": "code",
   "execution_count": null,
   "metadata": {
    "collapsed": true
   },
   "outputs": [],
   "source": []
  }
 ],
 "metadata": {
  "kernelspec": {
   "display_name": "Python 3",
   "language": "python",
   "name": "python3"
  },
  "language_info": {
   "codemirror_mode": {
    "name": "ipython",
    "version": 3
   },
   "file_extension": ".py",
   "mimetype": "text/x-python",
   "name": "python",
   "nbconvert_exporter": "python",
   "pygments_lexer": "ipython3",
   "version": "3.6.2"
  }
 },
 "nbformat": 4,
 "nbformat_minor": 2
}
