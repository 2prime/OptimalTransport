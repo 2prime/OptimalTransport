{
 "cells": [
  {
   "cell_type": "code",
   "execution_count": null,
   "metadata": {
    "collapsed": true
   },
   "outputs": [],
   "source": [
    "# !Convert*multiscale_image_mosek.py*w*sh*"
   ]
  },
  {
   "cell_type": "code",
   "execution_count": null,
   "metadata": {
    "collapsed": true
   },
   "outputs": [],
   "source": [
    "import math\n",
    "\n",
    "import numpy\n",
    "\n",
    "import mosek"
   ]
  },
  {
   "cell_type": "code",
   "execution_count": null,
   "metadata": {
    "collapsed": true
   },
   "outputs": [],
   "source": [
    "def point_num(point, ysize):\n",
    "    return point[0]*ysize + point[1]"
   ]
  },
  {
   "cell_type": "code",
   "execution_count": null,
   "metadata": {
    "collapsed": true
   },
   "outputs": [],
   "source": [
    "def point_vec(num, ysize):\n",
    "    return (num // ysize, num % ysize)"
   ]
  },
  {
   "cell_type": "code",
   "execution_count": null,
   "metadata": {
    "collapsed": true
   },
   "outputs": [],
   "source": [
    "def shrink_u(m, mu, shrink):\n",
    "    ''' First we change the array mu back to image\n",
    "       then shrink the image by combining scale_shrink ** 2 pixels into one pixel\n",
    "       then we change the image_shrink to an array\n",
    "    '''\n",
    "    mu_matrix = mu.reshape(m)\n",
    "    # Suppose shrink divide m[0] and m[1]\n",
    "    new_m = (m[0] // shrink, m[1] // shrink)\n",
    "    mu_shrink_matrix = numpy.zeros(new_m)\n",
    "    \n",
    "    for i in range(new_m[0]):\n",
    "        for j in range(new_m[1]):\n",
    "            for i1 in range(shrink):\n",
    "                for j1 in range(shrink):\n",
    "                    mu_shrink_matrix[i, j] += mu_matrix[i * shrink + i1, j * shrink + j1]\n",
    "\n",
    "    return mu_shrink_matrix.reshape(new_m[0] * new_m[1])"
   ]
  },
  {
   "cell_type": "code",
   "execution_count": null,
   "metadata": {
    "collapsed": true
   },
   "outputs": [],
   "source": [
    "def shrink_c(m, n, c, shrink):\n",
    "    new_m = (m[0] // shrink, m[1] // shrink)\n",
    "    new_n = (n[0] // shrink, n[1] // shrink)\n",
    "    new_ms = new_m[0] * new_m[1]\n",
    "    new_ns = new_n[0] * new_n[1]\n",
    "    \n",
    "    new_c = c.reshape(m[0], m[1], n[0], n[1])[::shrink, ::shrink, ::shrink, ::shrink]\n",
    "    return new_m, new_n, new_c.reshape(new_ms, new_ns)"
   ]
  },
  {
   "cell_type": "code",
   "execution_count": null,
   "metadata": {
    "collapsed": true
   },
   "outputs": [],
   "source": [
    "def propagate(m, n, m_shrink, n_shrink, path_coarsen, shrink):\n",
    "    path = []\n",
    "    for p in path_coarsen:\n",
    "        for i1 in range(shrink):\n",
    "            for i2 in range(shrink):\n",
    "                for j1 in range(shrink):\n",
    "                    for j2 in range(shrink):\n",
    "                        begin_x, begin_y = point_vec(p[1], m_shrink[1])\n",
    "                        end_x, end_y = point_vec(p[2], n_shrink[1])\n",
    "                        path.append((\n",
    "                            p[0] / (shrink ** 4),\n",
    "                            point_num((begin_x * shrink + i1, begin_y * shrink + i2), m[1]),\n",
    "                            point_num((end_x * shrink + j1, end_y * shrink + j2), n[1])\n",
    "                        ))\n",
    "    return path"
   ]
  },
  {
   "cell_type": "code",
   "execution_count": null,
   "metadata": {
    "collapsed": true
   },
   "outputs": [],
   "source": [
    "def small(m, n, mu, nu, c, capacity, error, mtd, solt):\n",
    "    ms = m[0] * m[1]\n",
    "    ns = n[0] * n[1]\n",
    "    \n",
    "    scale = math.sqrt(ms * ns)\n",
    "    \n",
    "    mu, nu = mu*scale, nu*scale\n",
    "    \n",
    "    ris = numpy.minimum(mu.reshape((ms, 1)), nu.reshape((1, ns)))\n",
    "    \n",
    "    with mosek.Env() as env:\n",
    "        with env.Task() as task:\n",
    "            task.putintparam(mosek.iparam.optimizer, mtd)\n",
    "            \n",
    "            task.appendvars(ms*ns)\n",
    "            task.appendcons(ms+ns)\n",
    "            \n",
    "            task.putvarboundlist(\n",
    "                range(ms*ns),\n",
    "                [mosek.boundkey.ra]*(ms*ns),\n",
    "                [0.]*(ms*ns),\n",
    "                (capacity[0] * ris).reshape((ms*ns))\n",
    "            )\n",
    "            \n",
    "            for i in range(ms):\n",
    "                task.putarow(\n",
    "                    i,\n",
    "                    range(i*ns, (i+1)*ns),\n",
    "                    [1.]*ns\n",
    "                )\n",
    "            task.putconboundlist(\n",
    "                range(0, ms),\n",
    "                [mosek.boundkey.fx]*ms,\n",
    "                mu,\n",
    "                mu\n",
    "            )\n",
    "    \n",
    "            for i in range(ns):\n",
    "                task.putarow(\n",
    "                    i+ms,\n",
    "                    range(i, i+ms*ns, ns),\n",
    "                    [1.]*ms\n",
    "                )\n",
    "            task.putconboundlist(\n",
    "                range(ms, ms+ns),\n",
    "                [mosek.boundkey.fx]*ns,\n",
    "                nu,\n",
    "                nu\n",
    "            )\n",
    "            \n",
    "            task.putclist(range(ms*ns), c.reshape(ms*ns))\n",
    "            task.putobjsense(mosek.objsense.minimize)\n",
    "            task.optimize()\n",
    "            \n",
    "            sol = [0.] * (ms*ns)\n",
    "            task.getxx(solt, sol)\n",
    "    \n",
    "    path = [(sol[i*ns + j] / scale, i, j) for i in range(ms) for j in range(ns) if sol[i*ns + j] > error[0] * ris[i, j]]\n",
    "    \n",
    "    return path"
   ]
  },
  {
   "cell_type": "code",
   "execution_count": null,
   "metadata": {
    "collapsed": true
   },
   "outputs": [],
   "source": [
    "def multi(m, n, mu, nu, c, stop, shrink, capacity, error, mtd, solt):\n",
    "    if min(*m, *n) <= stop:\n",
    "        return small(m, n, mu, nu, c, capacity, error, mtd, solt)\n",
    "    \n",
    "    ms = m[0] * m[1]\n",
    "    ns = n[0] * n[1]\n",
    "    \n",
    "    mu_shrink = shrink_u(m, mu, shrink)\n",
    "    nu_shrink = shrink_u(n, nu, shrink)\n",
    "    m_shrink, n_shrink, c_shrink = shrink_c(m, n, c, shrink)\n",
    "    \n",
    "    path_coarsen = multi(m_shrink, n_shrink, mu_shrink, nu_shrink, c_shrink, stop, shrink, capacity[1:], error[1:], mtd, solt)\n",
    "    path = propagate(m, n, m_shrink, n_shrink, path_coarsen, shrink)\n",
    "    l = len(path)\n",
    "    \n",
    "    ris = numpy.minimum(mu.reshape((ms, 1)), nu.reshape((1, ns)))\n",
    "    ris = ris[[p[1] for p in path], [p[2] for p in path]]\n",
    "    \n",
    "    with mosek.Env() as env:\n",
    "        with env.Task() as task:\n",
    "            task.putintparam(mosek.iparam.optimizer, mtd)\n",
    "            \n",
    "            task.appendvars(l)\n",
    "            task.appendcons(ms+ns)\n",
    "            \n",
    "            task.putvarboundlist(\n",
    "                range(l),\n",
    "                [mosek.boundkey.ra]*(l),\n",
    "                [0.]*(l),\n",
    "                capacity[0] * ris\n",
    "            )\n",
    "            \n",
    "            tmp1 = [[] for i in range(ms)]\n",
    "            tmp2 = [[] for i in range(ns)]\n",
    "            for j in range(l):\n",
    "                tmp1[path[j][1]].append(j)\n",
    "                tmp2[path[j][2]].append(j)\n",
    "            \n",
    "            for i in range(ms):\n",
    "                task.putarow(\n",
    "                    i,\n",
    "                    tmp1[i],\n",
    "                    [1.] * len(tmp1[i])\n",
    "                )\n",
    "            task.putconboundlist(\n",
    "                range(0, ms),\n",
    "                [mosek.boundkey.fx]*ms,\n",
    "                mu,\n",
    "                mu\n",
    "            )\n",
    "\n",
    "            for i in range(ns):\n",
    "                task.putarow(\n",
    "                    i+ms,\n",
    "                    tmp2[i],\n",
    "                    [1.] * len(tmp2[i])\n",
    "                )\n",
    "            task.putconboundlist(\n",
    "                range(ms, ms+ns),\n",
    "                [mosek.boundkey.fx]*ns,\n",
    "                nu,\n",
    "                nu\n",
    "            )\n",
    "            \n",
    "            task.putclist(range(l), c[[p[1] for p in path], [p[2] for p in path]])\n",
    "            task.putobjsense(mosek.objsense.minimize)\n",
    "            task.optimize()\n",
    "\n",
    "            xx = [0.] * l\n",
    "            task.getxx(solt, xx)\n",
    "\n",
    "    new_path = []\n",
    "    for i in range(l):\n",
    "        if xx[i] > error[0] * ris[i]:\n",
    "            new_path.append((\n",
    "                xx[i],\n",
    "                path[i][1],\n",
    "                path[i][2]\n",
    "            ))\n",
    "    \n",
    "    return new_path"
   ]
  },
  {
   "cell_type": "code",
   "execution_count": null,
   "metadata": {
    "collapsed": true
   },
   "outputs": [],
   "source": [
    "def solve_multiscale_image_mosek(\n",
    "    p,\n",
    "    stop, shrink, caps, errs, mtd, solt,\n",
    "    log=None, stat=False, title=\"\",\n",
    "    *args, **kwargs\n",
    "):\n",
    "    path = multi(p.m, p.n, p.mu, p.nu, p.c, stop, shrink, caps, errs, mtd, solt)\n",
    "    \n",
    "    sol = numpy.zeros((p.m[0] * p.m[1], p.n[0] * p.n[1]))\n",
    "    for pa in path:\n",
    "        sol[pa[1], pa[2]] = pa[0]\n",
    "    \n",
    "    p.s = sol\n",
    "    \n",
    "    if stat:\n",
    "        s = {\n",
    "            \"title\": title,\n",
    "            \"loss\": (p.c * sol).sum(),\n",
    "        }\n",
    "        return p, s\n",
    "    else:\n",
    "        return p"
   ]
  },
  {
   "cell_type": "code",
   "execution_count": null,
   "metadata": {
    "collapsed": true
   },
   "outputs": [],
   "source": [
    "def solve_multiscale_image_mosek_interior_point(\n",
    "    p,\n",
    "    stop, shrink, caps, errs,\n",
    "    *args, **kwargs\n",
    "):\n",
    "    return solve_multiscale_image_mosek(\n",
    "        p, stop, shrink, caps, errs, \n",
    "        mtd=mosek.optimizertype.intpnt,\n",
    "        solt=mosek.soltype.itr,\n",
    "        title=\"Multiscale for image using mosek interior point\",\n",
    "        *args, **kwargs\n",
    "    )\n",
    "\n",
    "def solve_multiscale_image_mosek_primal_simplex(\n",
    "    p,\n",
    "    stop, shrink, caps, errs,\n",
    "    *args, **kwargs\n",
    "):\n",
    "    return solve_multiscale_image_mosek(\n",
    "        p, stop, shrink, caps, errs, \n",
    "        mtd=mosek.optimizertype.primal_simplex,\n",
    "        solt=mosek.soltype.bas,\n",
    "        title=\"Multiscale for image using mosek primal simplex\",\n",
    "        *args, **kwargs\n",
    "    )"
   ]
  },
  {
   "cell_type": "code",
   "execution_count": null,
   "metadata": {
    "collapsed": true
   },
   "outputs": [],
   "source": [
    "# !ConvertEnd*"
   ]
  },
  {
   "cell_type": "code",
   "execution_count": null,
   "metadata": {
    "collapsed": true
   },
   "outputs": [],
   "source": [
    "# !Convert*multiscale_image_mosek_test.py*w*sehx*"
   ]
  },
  {
   "cell_type": "code",
   "execution_count": null,
   "metadata": {
    "collapsed": true
   },
   "outputs": [],
   "source": [
    "# !Switch*\n",
    "from handler import FigureHandler\n",
    "from dataset import ot_im_general, samp_2d_mid, val_unif, dist_2d_euc_2\n",
    "from stats import Statistics\n",
    "# !SwitchCase*\n",
    "# import font\n",
    "# from handler import FigureHandler\n",
    "# from dataset import ot_im_general, samp_2d_mid, val_unif, dist_2d_euc_2\n",
    "# from stats import Statistics\n",
    "# from multiscale_image_mosek import solve_multiscale_image_mosek_interior_point\n",
    "# !SwitchEnd*"
   ]
  },
  {
   "cell_type": "code",
   "execution_count": null,
   "metadata": {},
   "outputs": [],
   "source": [
    "# !Switch*\n",
    "fh = FigureHandler(redir=True)\n",
    "# !SwitchCase*\n",
    "# fh = FigureHandler(sav=True, disp=False, ext=\".pgf\", redir=True)\n",
    "# !SwitchEnd*"
   ]
  },
  {
   "cell_type": "code",
   "execution_count": null,
   "metadata": {
    "collapsed": true
   },
   "outputs": [],
   "source": [
    "stat = Statistics(\n",
    "    probs=[\n",
    "        ot_im_general(\n",
    "            m=[32, 32], n=[32, 32],\n",
    "            mw=[0., 1., 0., 1.], nw=[0., 1., 0., 1.],\n",
    "            mup_gen=samp_2d_mid(0., 1., 0., 1.),\n",
    "            nup_gen=samp_2d_mid(0., 1., 0., 1.),\n",
    "            mu_gen=val_unif(0., 1.),\n",
    "            nu_gen=val_unif(0., 1.),\n",
    "            dist=dist_2d_euc_2,\n",
    "            seed=1,\n",
    "        )\n",
    "    ],\n",
    "    prob=\"Test problems\",\n",
    ")"
   ]
  },
  {
   "cell_type": "code",
   "execution_count": null,
   "metadata": {
    "scrolled": false
   },
   "outputs": [],
   "source": [
    "stat.test(\n",
    "    solve_multiscale_image_mosek_interior_point,\n",
    "    stop=4, shrink=2,\n",
    "    caps=[1., 0.3, 0.1, 0.1],\n",
    "    errs=[0.001, 0.001, 0.001, 0.00],\n",
    "    clean=False\n",
    ")\n",
    "stat.output_last()\n",
    "fh.fast(stat.probs[0].plot_link)\n",
    "stat.probs[0].clean()"
   ]
  },
  {
   "cell_type": "code",
   "execution_count": null,
   "metadata": {
    "collapsed": true
   },
   "outputs": [],
   "source": [
    "from solver_mosek import solve_mosek_interior_point"
   ]
  },
  {
   "cell_type": "code",
   "execution_count": null,
   "metadata": {},
   "outputs": [],
   "source": [
    "stat.test(\n",
    "    solve_mosek_interior_point,\n",
    "    clean=False\n",
    ")\n",
    "stat.output_last()\n",
    "fh.fast(stat.probs[0].plot_link)\n",
    "stat.probs[0].clean()"
   ]
  },
  {
   "cell_type": "code",
   "execution_count": null,
   "metadata": {
    "collapsed": true
   },
   "outputs": [],
   "source": [
    "# !ConvertEnd*"
   ]
  },
  {
   "cell_type": "code",
   "execution_count": null,
   "metadata": {
    "collapsed": true
   },
   "outputs": [],
   "source": []
  }
 ],
 "metadata": {
  "kernelspec": {
   "display_name": "Python 3",
   "language": "python",
   "name": "python3"
  },
  "language_info": {
   "codemirror_mode": {
    "name": "ipython",
    "version": 3
   },
   "file_extension": ".py",
   "mimetype": "text/x-python",
   "name": "python",
   "nbconvert_exporter": "python",
   "pygments_lexer": "ipython3",
   "version": "3.6.2"
  }
 },
 "nbformat": 4,
 "nbformat_minor": 2
}
