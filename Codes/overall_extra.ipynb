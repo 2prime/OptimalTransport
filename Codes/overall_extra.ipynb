{
 "cells": [
  {
   "cell_type": "code",
   "execution_count": null,
   "metadata": {
    "collapsed": true
   },
   "outputs": [],
   "source": [
    "# !Convert*overall_extra.py*w*sehx*"
   ]
  },
  {
   "cell_type": "code",
   "execution_count": null,
   "metadata": {
    "collapsed": true
   },
   "outputs": [],
   "source": [
    "# !Switch*\n",
    "from handler import FigureHandler\n",
    "from dataset import ot_2d_random, ot_2d_ellipse, ot_2d_Caffarelli, ot_im_dotmark\n",
    "from stats import Statistics\n",
    "# !SwitchCase*\n",
    "# import font\n",
    "# from handler import FigureHandler\n",
    "# from dataset import ot_2d_random, ot_2d_ellipse, ot_2d_Caffarelli, ot_im_dotmark\n",
    "# from stats import Statistics\n",
    "# !SwitchEnd*"
   ]
  },
  {
   "cell_type": "code",
   "execution_count": null,
   "metadata": {
    "collapsed": true
   },
   "outputs": [],
   "source": [
    "from solver_mosek import solve_mosek_interior_point\n",
    "from first_ADMM_primal import solve_ADMM_primal\n",
    "from first_ADMM_dual import solve_ADMM_dual\n",
    "from first_ALM_primal import solve_ALM_primal\n",
    "from first_grad_primal import solve_grad_primal\n",
    "from discrete_transportation_simplex_networkx import solve_transportation_simplex_networkx\n",
    "from multiscale_image_func import solve_multiscale_image_func\n",
    "from entropy_ADMM_primal import solve_ADMM_primal_entropy\n",
    "from entropy_sinkhorn import solve_sinkhorn"
   ]
  },
  {
   "cell_type": "code",
   "execution_count": null,
   "metadata": {},
   "outputs": [],
   "source": [
    "# !Switch*\n",
    "fh = FigureHandler(redir=True)\n",
    "# !SwitchCase*\n",
    "# fh = FigureHandler(sav=True, disp=False, ext=\".pgf\", redir=True)\n",
    "# !SwitchEnd*"
   ]
  },
  {
   "cell_type": "code",
   "execution_count": null,
   "metadata": {
    "collapsed": true
   },
   "outputs": [],
   "source": [
    "def suite(stat, size):\n",
    "    stat.set_objx(solve_mosek_interior_point, prog=fh.write)\n",
    "    stat.test(\n",
    "        solve_ADMM_primal,\n",
    "        its=[20000],\n",
    "        rhos=[3.],\n",
    "        alphas=[1.618],\n",
    "        epss=[1e-4],\n",
    "        prog=fh.write\n",
    "    )\n",
    "    stat.output_last()\n",
    "    stat.test(\n",
    "        solve_ADMM_dual,\n",
    "        its=[20000],\n",
    "        rhos=[0.1],\n",
    "        alphas=[1.618],\n",
    "        epss=[1e-3],\n",
    "        prog=fh.write\n",
    "    )\n",
    "    stat.output_last()\n",
    "    stat.test(\n",
    "        solve_ALM_primal,\n",
    "        its=[2000, 8000],\n",
    "        rhos=[0.3, 1.],\n",
    "        lrs=[0.01, 0.001],\n",
    "        epss=[1e-3, 3e-4],\n",
    "        prog=fh.write\n",
    "    )\n",
    "    stat.output_last()\n",
    "    stat.test(\n",
    "        solve_grad_primal,\n",
    "        its=[500, 500, 750, 1000, 1000],\n",
    "        pi0s=[10., 10., 10., 10., 10.],\n",
    "        pi1s=[10., 100., 1000., 10000., 100000.],\n",
    "        pi2s=[10., 100., 1000., 10000., 100000.],\n",
    "        lrs=[1e-4,  1e-5, 1e-6, 1e-7, 1e-8],\n",
    "        prog=fh.write,\n",
    "    )\n",
    "    stat.output_last()\n",
    "    stat.test(\n",
    "        solve_transportation_simplex_networkx,\n",
    "        eps=1e-12,\n",
    "        it=20000,\n",
    "        prog=fh.write,\n",
    "    )\n",
    "    stat.output_last()\n",
    "    stat.test(\n",
    "        solve_ADMM_primal_entropy,\n",
    "        its=[20000],\n",
    "        rhos=[3.],\n",
    "        alphas=[1.618],\n",
    "        deltas=[1e-6],\n",
    "        gammas=[3e-4],\n",
    "        epss=[1e-4],\n",
    "        prog=fh.write,\n",
    "    )\n",
    "    stat.output_last()\n",
    "    stat.test(\n",
    "        solve_sinkhorn,\n",
    "        it=3000, gamma=5e-2,\n",
    "        prog=fh.write,\n",
    "    )\n",
    "    stat.output_last()"
   ]
  },
  {
   "cell_type": "code",
   "execution_count": null,
   "metadata": {
    "collapsed": true
   },
   "outputs": [],
   "source": [
    "rep = 1"
   ]
  },
  {
   "cell_type": "code",
   "execution_count": null,
   "metadata": {
    "collapsed": true
   },
   "outputs": [],
   "source": [
    "size = 500"
   ]
  },
  {
   "cell_type": "code",
   "execution_count": null,
   "metadata": {},
   "outputs": [],
   "source": [
    "stat = Statistics(\n",
    "    probs=[\n",
    "        ot_2d_random(size, size, i) for i in range(1, rep+1)\n",
    "    ],\n",
    "    prob=\"random {0}*{0}\".format(size),\n",
    "    log=fh.write,\n",
    ")\n",
    "suite(stat, size)"
   ]
  },
  {
   "cell_type": "code",
   "execution_count": null,
   "metadata": {},
   "outputs": [],
   "source": [
    "stat = Statistics(\n",
    "    probs=[\n",
    "        ot_2d_Caffarelli(size, size, i) for i in range(1, rep+1)\n",
    "    ],\n",
    "    prob=\"Caffarelli {0}*{0}\".format(size),\n",
    "    log=fh.write,\n",
    ")\n",
    "suite(stat, size)"
   ]
  },
  {
   "cell_type": "code",
   "execution_count": null,
   "metadata": {},
   "outputs": [],
   "source": [
    "stat = Statistics(\n",
    "    probs=[\n",
    "        ot_2d_ellipse(size, size, i) for i in range(1, rep+1)\n",
    "    ],\n",
    "    prob=\"ellipse {0}*{0}\".format(size),\n",
    "    log=fh.write,\n",
    ")\n",
    "suite(stat, size)"
   ]
  },
  {
   "cell_type": "code",
   "execution_count": null,
   "metadata": {
    "collapsed": true
   },
   "outputs": [],
   "source": [
    "def suite(stat):\n",
    "    stat.set_objx(solve_mosek_interior_point, prog=fh.write)\n",
    "    stat.test(\n",
    "        solve_ADMM_primal,\n",
    "        its=[20000],\n",
    "        rhos=[3.],\n",
    "        alphas=[1.618],\n",
    "        epss=[1e-4],\n",
    "    )\n",
    "    stat.output_last()\n",
    "    stat.test(\n",
    "        solve_ADMM_primal,\n",
    "        its=[10000],\n",
    "        rhos=[3.],\n",
    "        alphas=[1.618],\n",
    "        epss=[1e-3],\n",
    "    )\n",
    "    stat.output_last()\n",
    "    stat.test(\n",
    "        solve_multiscale_image_func,\n",
    "        cfgs=[\n",
    "            {\n",
    "                \"func\": solve_ADMM_primal,\n",
    "                \"args\": (),\n",
    "                \"kwargs\": dict(\n",
    "                    its=[20000],\n",
    "                    rhos=[3.],\n",
    "                    alphas=[1.618],\n",
    "                    epss=[1e-4],\n",
    "                )\n",
    "            },\n",
    "            {\n",
    "                \"func\": solve_ADMM_primal,\n",
    "                \"args\": (),\n",
    "                \"kwargs\": dict(\n",
    "                    its=[2000],\n",
    "                    rhos=[3.],\n",
    "                    alphas=[1.618],\n",
    "                    epss=[1e-4],\n",
    "                )\n",
    "            },\n",
    "            {\n",
    "                \"func\": solve_ADMM_primal,\n",
    "                \"args\": (),\n",
    "                \"kwargs\": dict(\n",
    "                    its=[1000],\n",
    "                    rhos=[3.],\n",
    "                    alphas=[1.618],\n",
    "                    epss=[1e-4],\n",
    "                )\n",
    "            },\n",
    "            {\n",
    "                \"func\": solve_ADMM_primal,\n",
    "                \"args\": (),\n",
    "                \"kwargs\": dict(\n",
    "                    its=[200],\n",
    "                    rhos=[3.],\n",
    "                    alphas=[1.618],\n",
    "                    epss=[1e-4],\n",
    "                )\n",
    "            },\n",
    "        ],\n",
    "        stop=4,\n",
    "        shrink=2,\n",
    "        caps=[1., 0.1, 0.1, 0.1],\n",
    "        errs=[0.05, 0.05, 0.02, 0.00],\n",
    "        prog=fh.write,\n",
    "    )\n",
    "    stat.output_last()"
   ]
  },
  {
   "cell_type": "code",
   "execution_count": null,
   "metadata": {},
   "outputs": [],
   "source": [
    "cls_list = [0, 1, 2, 3, 4, 5, 6, 7, 8, 9]\n",
    "for cls in cls_list:\n",
    "    stat = Statistics(\n",
    "        probs=[\n",
    "            ot_im_dotmark(0, 32, i, log=fh.write) for i in range(1, rep+1)\n",
    "        ],\n",
    "        prob=\"dotmark class {0} 32*32\".format(cls),\n",
    "        log=fh.write,\n",
    "    )\n",
    "    suite(stat)"
   ]
  },
  {
   "cell_type": "code",
   "execution_count": null,
   "metadata": {
    "collapsed": true
   },
   "outputs": [],
   "source": [
    "# !ConvertEnd*"
   ]
  },
  {
   "cell_type": "code",
   "execution_count": null,
   "metadata": {
    "collapsed": true
   },
   "outputs": [],
   "source": []
  }
 ],
 "metadata": {
  "kernelspec": {
   "display_name": "Python 3",
   "language": "python",
   "name": "python3"
  },
  "language_info": {
   "codemirror_mode": {
    "name": "ipython",
    "version": 3
   },
   "file_extension": ".py",
   "mimetype": "text/x-python",
   "name": "python",
   "nbconvert_exporter": "python",
   "pygments_lexer": "ipython3",
   "version": "3.6.2"
  }
 },
 "nbformat": 4,
 "nbformat_minor": 2
}
