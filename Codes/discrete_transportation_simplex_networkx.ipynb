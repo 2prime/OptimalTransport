{
 "cells": [
  {
   "cell_type": "code",
   "execution_count": null,
   "metadata": {
    "collapsed": true
   },
   "outputs": [],
   "source": [
    "# !Convert*discrete_transportation_simplex_networkx.py*w*sh*"
   ]
  },
  {
   "cell_type": "code",
   "execution_count": null,
   "metadata": {
    "collapsed": true
   },
   "outputs": [],
   "source": [
    "import math\n",
    "\n",
    "import numpy as np\n",
    "\n",
    "import networkx as nx\n",
    "from networkx.algorithms import bipartite"
   ]
  },
  {
   "cell_type": "code",
   "execution_count": null,
   "metadata": {
    "collapsed": true
   },
   "outputs": [],
   "source": [
    "def init(m, n):\n",
    "    g = nx.Graph()\n",
    "    g.add_nodes_from(range(1, m+1, 1), bipartite=0)\n",
    "    g.add_nodes_from(range(-1, -n-1, -1), bipartite=1)\n",
    "    mu_dual = np.zeros((m))\n",
    "    nu_dual = np.zeros((n))\n",
    "    c_dual = np.zeros((n, m))\n",
    "    return g, mu_dual, nu_dual, c_dual"
   ]
  },
  {
   "cell_type": "code",
   "execution_count": null,
   "metadata": {
    "collapsed": true
   },
   "outputs": [],
   "source": [
    "def find_solution(m, n, mu, nu, g):\n",
    "    \"\"\"\n",
    "    Find a basis solution.\n",
    "    \"\"\"\n",
    "    j = 0\n",
    "    nu1 = nu.copy()\n",
    "\n",
    "    for i in range(m):\n",
    "        tmp = mu[i]\n",
    "\n",
    "        while j < n:\n",
    "            if nu1[j] >= tmp:\n",
    "                nu1[j] = nu1[j] - tmp\n",
    "                g.add_edge(i+1, -j-1, weight=tmp)\n",
    "                tmp = 0\n",
    "                if nu1[j] == tmp and i < m-1:\n",
    "                    g.add_edge(i+2, -j-1, weight=0)\n",
    "                    j = j + 1\n",
    "                break\n",
    "            else:\n",
    "                g.add_edge(i+1, -j-1, weight=nu1[j])\n",
    "                tmp = tmp - nu1[j]\n",
    "                nu1[j] = 0\n",
    "                j = j + 1\n",
    "    \n",
    "    return g"
   ]
  },
  {
   "cell_type": "code",
   "execution_count": null,
   "metadata": {
    "collapsed": true
   },
   "outputs": [],
   "source": [
    "def primal_value(m, n, dist, g):\n",
    "    \"\"\"\n",
    "    Calculate the primal value with respect to the solution.\n",
    "    \"\"\"\n",
    "    acc = sum(g.edges[x, y]['weight'] * dist[abs(x)-1, abs(y)-1] for x, y in g.edges)\n",
    "    return acc"
   ]
  },
  {
   "cell_type": "code",
   "execution_count": null,
   "metadata": {
    "collapsed": true
   },
   "outputs": [],
   "source": [
    "def find_dual(m, n, dist, g, mu_dual, nu_dual, c_dual):\n",
    "    \"\"\"\n",
    "    Find the dual variables according to the primal variables.\n",
    "    \"\"\"\n",
    "    mu_dual[1] = 0\n",
    "    queue = [1]\n",
    "    father = {1:1}\n",
    "    u = 0\n",
    "\n",
    "    while len(queue) < m + n:\n",
    "        if u >= len(queue):\n",
    "            break\n",
    "        i = queue[u]\n",
    "        u = u + 1\n",
    "        dic = g.neighbors(i)\n",
    "\n",
    "        for item in dic:\n",
    "            if item not in father.keys():\n",
    "                queue.append(item)\n",
    "                father[item] = i\n",
    "                if item > 0:\n",
    "                    mu_dual[item-1] = dist[item-1, abs(i)-1] - nu_dual[-i-1]\n",
    "                else:\n",
    "                    nu_dual[-item-1] = dist[i-1, abs(item)-1] - mu_dual[i-1]\n",
    "\n",
    "    c_dual = dist.T - mu_dual.reshape((1, m)) - nu_dual.reshape((n, 1))\n",
    "    \n",
    "    return mu_dual, nu_dual, c_dual"
   ]
  },
  {
   "cell_type": "code",
   "execution_count": null,
   "metadata": {
    "collapsed": true
   },
   "outputs": [],
   "source": [
    "def find_loop(u, v, g):\n",
    "    \"\"\"\n",
    "    Find a loop in the graph after adding the edge u--v\n",
    "    \"\"\"\n",
    "    set1 = [v]\n",
    "    visit= {v:0}\n",
    "    flag = 0\n",
    "    w = 0\n",
    "\n",
    "    while True:\n",
    "        now = set1[w]\n",
    "        w = w + 1\n",
    "        for i in g.neighbors(now):\n",
    "            if i not in visit:\n",
    "                set1.append(i)\n",
    "                visit[i] = now\n",
    "            if i == u:\n",
    "                flag = 1\n",
    "                break\n",
    "        if flag == 1:\n",
    "            break\n",
    "\n",
    "    l = []\n",
    "    t = u\n",
    "\n",
    "    while t != v:\n",
    "        l.append((t, visit[t]))\n",
    "        t = visit[t]\n",
    "    l.append((v, u))\n",
    "\n",
    "    return l"
   ]
  },
  {
   "cell_type": "code",
   "execution_count": null,
   "metadata": {
    "collapsed": true
   },
   "outputs": [],
   "source": [
    "def update(u, v, dist, g):\n",
    "    \"\"\"\n",
    "    Update the graph after adding the edge u--v.\n",
    "    \"\"\"\n",
    "    loop = find_loop(u, v, g)\n",
    "    g.add_edge(u, v, weight=0)\n",
    "    min1 = float('inf')\n",
    "    dis1 = sum(dist[i-1, abs(j)-1] for i,j in loop if i > 0)\n",
    "    dis2 = sum(dist[j-1, abs(i)-1] for i,j in loop if i < 0)\n",
    "\n",
    "    for i,j in loop:\n",
    "        if i > 0:\n",
    "            if min1 > g.edges[i, j]['weight']:\n",
    "                min1 = g.edges[i, j]['weight']\n",
    "                x1, y1 = i, j\n",
    "\n",
    "    if dis1 <= dis2:\n",
    "        g.remove_edge(u, v)\n",
    "    else:\n",
    "        for i,j in loop:\n",
    "            if i > 0:\n",
    "                g.edges[i, j]['weight'] -= min1\n",
    "            else:\n",
    "                g.edges[i, j]['weight'] += min1\n",
    "        g.remove_edge(x1, y1)\n",
    "    \n",
    "    return g"
   ]
  },
  {
   "cell_type": "code",
   "execution_count": null,
   "metadata": {
    "collapsed": true
   },
   "outputs": [],
   "source": [
    "def export_solution(m, n, g):\n",
    "    \"\"\"\n",
    "    Export the solution in a numpy array.\n",
    "    \"\"\"\n",
    "    arr = np.zeros((m, n))\n",
    "    for u, v in g.edges:\n",
    "        arr[u-1, -v-1] = g.edges[u, v]['weight']\n",
    "    return arr"
   ]
  },
  {
   "cell_type": "code",
   "execution_count": null,
   "metadata": {
    "collapsed": true
   },
   "outputs": [],
   "source": [
    "def draw_graph(g, fh):\n",
    "    \"\"\"\n",
    "    Draw an explicit graph of the graph\n",
    "    \"\"\"\n",
    "    x, y = bipartite.sets(g)\n",
    "    pos = dict()\n",
    "    pos.update((u, (1, i)) for i, u in enumerate(x))\n",
    "    pos.update((u, (2, i)) for i, u in enumerate(y))\n",
    "    nx.draw(g, pos=pos, ax=fh.ax, with_labels=True)"
   ]
  },
  {
   "cell_type": "code",
   "execution_count": null,
   "metadata": {
    "collapsed": true
   },
   "outputs": [],
   "source": [
    "def solve_transportation_simplex_networkx(\n",
    "    p,\n",
    "    eps, it, scale=None,\n",
    "    fh=None, figs={}, log=None, stat=False,\n",
    "    *args, **kwargs\n",
    "):\n",
    "    m, n = p.c.shape\n",
    "    \n",
    "    if scale is None:\n",
    "        scale = math.sqrt(m * n)\n",
    "    \n",
    "    mu, nu = scale*p.mu, scale*p.nu\n",
    "    dist = p.c\n",
    "    \n",
    "    if fh is not None:\n",
    "        if \"value\" in figs:\n",
    "            value = []\n",
    "    \n",
    "    g, mu_dual, nu_dual, c_dual = init(m, n)\n",
    "    \n",
    "    its = 0\n",
    "    \n",
    "    g = find_solution(m, n, mu, nu, g)\n",
    "    \n",
    "    while its < it:\n",
    "        mu_dual, nu_dual, c_dual = find_dual(m, n, dist, g, mu_dual, nu_dual, c_dual)\n",
    "        \n",
    "        pos = np.argmin(c_dual)\n",
    "        u, v = pos//m, pos%m\n",
    "\n",
    "        if c_dual[u, v] >= -eps:\n",
    "            break\n",
    "\n",
    "        g = update(v+1, -u-1, dist, g)\n",
    "        \n",
    "        its += 1\n",
    "\n",
    "        if fh is not None:\n",
    "            if \"value\" in figs:\n",
    "                value.append(primal_value(m, n, dist, g) / scale)\n",
    "\n",
    "        if log is not None:\n",
    "            log(\"its = {0}\".format(its))\n",
    "    \n",
    "    p.s = export_solution(m, n, g) / scale\n",
    "    \n",
    "    if fh is not None:\n",
    "        if \"value\" in figs:\n",
    "            fh.new(1, 1, 1)\n",
    "            fh.ax.plot(np.array(value), label=\"Primal value\")\n",
    "            fh.ax.legend()\n",
    "            fh.show()\n",
    "            fh.close()\n",
    "        if \"graph\" in figs:\n",
    "            fh.new(1, 1, 1)\n",
    "            draw_graph(g, fh)\n",
    "            fh.show()\n",
    "            fh.close()\n",
    "    \n",
    "    if stat:\n",
    "        s = {\n",
    "            \"title\": \"Transportation simplex with networkx\",\n",
    "            \"loss\": primal_value(m, n, dist, g) / scale,\n",
    "            \"iters\": its,\n",
    "        }\n",
    "        return p, s\n",
    "    else:\n",
    "        return p"
   ]
  },
  {
   "cell_type": "code",
   "execution_count": null,
   "metadata": {
    "collapsed": true
   },
   "outputs": [],
   "source": [
    "# !ConvertEnd*"
   ]
  },
  {
   "cell_type": "code",
   "execution_count": null,
   "metadata": {
    "collapsed": true
   },
   "outputs": [],
   "source": [
    "# !Convert*discrete_transportation_simplex_networkx_test.py*w*sehx*"
   ]
  },
  {
   "cell_type": "code",
   "execution_count": null,
   "metadata": {
    "collapsed": true
   },
   "outputs": [],
   "source": [
    "# !Switch*\n",
    "from handler import FigureHandler\n",
    "from dataset import ot_2d_Caffarelli\n",
    "from stats import Statistics\n",
    "# !SwitchCase*\n",
    "# import font\n",
    "# from handler import FigureHandler\n",
    "# from dataset import ot_2d_Caffarelli\n",
    "# from stats import Statistics\n",
    "# from discrete_transportation_simplex_networkx import solve_transportation_simplex_networkx\n",
    "# !SwitchEnd*"
   ]
  },
  {
   "cell_type": "code",
   "execution_count": null,
   "metadata": {},
   "outputs": [],
   "source": [
    "# !Switch*\n",
    "fh = FigureHandler(redir=True)\n",
    "# !SwitchCase*\n",
    "# fh = FigureHandler(sav=True, disp=False, ext=\".pgf\", redir=True)\n",
    "# !SwitchEnd*"
   ]
  },
  {
   "cell_type": "code",
   "execution_count": null,
   "metadata": {
    "collapsed": true
   },
   "outputs": [],
   "source": [
    "stat = Statistics(\n",
    "    probs=[\n",
    "        ot_2d_Caffarelli(10, 10, 1)\n",
    "    ],\n",
    "    prob=\"Test problems\",\n",
    "    log=fh.write,\n",
    ")"
   ]
  },
  {
   "cell_type": "code",
   "execution_count": null,
   "metadata": {},
   "outputs": [],
   "source": [
    "stat.test(\n",
    "    solve_transportation_simplex_networkx,\n",
    "    eps=1e-12,\n",
    "    it=6000,\n",
    "    fh=fh, figs={\"value\", \"graph\"},\n",
    ")\n",
    "stat.output_last()"
   ]
  },
  {
   "cell_type": "code",
   "execution_count": null,
   "metadata": {
    "collapsed": true
   },
   "outputs": [],
   "source": [
    "stat = Statistics(\n",
    "    probs=[\n",
    "        ot_2d_Caffarelli(100, 100, 1)\n",
    "    ],\n",
    "    prob=\"Test problems\",\n",
    "    log=fh.write,\n",
    ")"
   ]
  },
  {
   "cell_type": "code",
   "execution_count": null,
   "metadata": {},
   "outputs": [],
   "source": [
    "stat.test(\n",
    "    solve_transportation_simplex_networkx,\n",
    "    eps=1e-12,\n",
    "    it=6000,\n",
    "    fh=fh, figs={\"value\"},\n",
    ")\n",
    "stat.output_last()"
   ]
  },
  {
   "cell_type": "code",
   "execution_count": null,
   "metadata": {},
   "outputs": [],
   "source": [
    "stat.test(\n",
    "    solve_transportation_simplex_networkx,\n",
    "    eps=1e-12,\n",
    "    it=6000,\n",
    ")\n",
    "stat.output_last()"
   ]
  },
  {
   "cell_type": "code",
   "execution_count": null,
   "metadata": {
    "collapsed": true
   },
   "outputs": [],
   "source": [
    "from solver_mosek import solve_mosek_interior_point"
   ]
  },
  {
   "cell_type": "code",
   "execution_count": null,
   "metadata": {},
   "outputs": [],
   "source": [
    "stat.test(\n",
    "    solve_mosek_interior_point,\n",
    ")\n",
    "stat.output_last()"
   ]
  },
  {
   "cell_type": "code",
   "execution_count": null,
   "metadata": {
    "collapsed": true,
    "scrolled": true
   },
   "outputs": [],
   "source": [
    "# !ConvertEnd*"
   ]
  },
  {
   "cell_type": "code",
   "execution_count": null,
   "metadata": {
    "collapsed": true
   },
   "outputs": [],
   "source": []
  }
 ],
 "metadata": {
  "kernelspec": {
   "display_name": "Python 3",
   "language": "python",
   "name": "python3"
  },
  "language_info": {
   "codemirror_mode": {
    "name": "ipython",
    "version": 3
   },
   "file_extension": ".py",
   "mimetype": "text/x-python",
   "name": "python",
   "nbconvert_exporter": "python",
   "pygments_lexer": "ipython3",
   "version": "3.6.2"
  }
 },
 "nbformat": 4,
 "nbformat_minor": 2
}
