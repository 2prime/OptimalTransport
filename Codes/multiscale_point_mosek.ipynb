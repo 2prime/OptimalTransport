{
 "cells": [
  {
   "cell_type": "code",
   "execution_count": null,
   "metadata": {
    "collapsed": true
   },
   "outputs": [],
   "source": [
    "# !Convert*multiscale_point_mosek.py*w*sh*"
   ]
  },
  {
   "cell_type": "code",
   "execution_count": null,
   "metadata": {
    "collapsed": true
   },
   "outputs": [],
   "source": [
    "import math\n",
    "\n",
    "import numpy\n",
    "\n",
    "import mosek"
   ]
  },
  {
   "cell_type": "code",
   "execution_count": null,
   "metadata": {
    "collapsed": true
   },
   "outputs": [],
   "source": [
    "def shrink_u(m, mu, mup, shrink, mele=0):\n",
    "    mu_map = mup.max(axis=0)\n",
    "    mu_mip = mup.min(axis=0)\n",
    "    \n",
    "    buc = [0] * m\n",
    "    con = []\n",
    "    for i in range(shrink**2):\n",
    "        con.append([])\n",
    "    \n",
    "    for i in range(m):\n",
    "        tmp_x = min(max(int(shrink * (mup[i, 0] - mu_mip[0]) / (mu_map[0] - mu_mip[0])), 0), shrink-1)\n",
    "        tmp_y = min(max(int(shrink * (mup[i, 1] - mu_mip[1]) / (mu_map[1] - mu_mip[1])), 0), shrink-1)\n",
    "        \n",
    "        b = tmp_x*shrink + tmp_y\n",
    "        \n",
    "        buc[i] = b\n",
    "        con[b].append(i)\n",
    "    \n",
    "    new_con = []\n",
    "    \n",
    "    for i in range(shrink**2):\n",
    "        if len(con[i]) > mele:\n",
    "            new_con.append(con[i])\n",
    "    \n",
    "    new_m = len(new_con)\n",
    "    new_mu = numpy.zeros((new_m))\n",
    "    \n",
    "    rep = [None] * new_m\n",
    "    for i in range(new_m):\n",
    "        subset = new_con[i]\n",
    "        buc_cen = mup[subset, :].mean(axis=0)\n",
    "        rep[i] = subset[numpy.argmin(((mup[subset, :] - buc_cen)**2).sum(axis=1))]\n",
    "        new_mu[i] = mu[subset].sum()\n",
    "    \n",
    "    new_mup = mup[rep]\n",
    "    \n",
    "    return new_con, rep, new_m, new_mu, new_mup"
   ]
  },
  {
   "cell_type": "code",
   "execution_count": null,
   "metadata": {
    "collapsed": true
   },
   "outputs": [],
   "source": [
    "def shrink_c(c, rep_m, rep_n):\n",
    "    new_c = c[numpy.meshgrid(rep_m, rep_n)].transpose()\n",
    "    return new_c"
   ]
  },
  {
   "cell_type": "code",
   "execution_count": null,
   "metadata": {
    "collapsed": true
   },
   "outputs": [],
   "source": [
    "def propagate(m, n, con_m, con_n, path_coarsen):\n",
    "    path = []\n",
    "    for p in path_coarsen:\n",
    "        scale = len(con_m[p[1]]) * len(con_n[p[2]])\n",
    "        for i in con_m[p[1]]:\n",
    "            for j in con_n[p[2]]:\n",
    "                path.append((\n",
    "                    p[0] / scale,\n",
    "                    i,\n",
    "                    j\n",
    "                ))\n",
    "    return path"
   ]
  },
  {
   "cell_type": "code",
   "execution_count": null,
   "metadata": {
    "collapsed": true
   },
   "outputs": [],
   "source": [
    "def small(m, n, mu, nu, c, capacity, error, mtd, solt):\n",
    "    scale = math.sqrt(m * n)\n",
    "    \n",
    "    mu, nu = mu*scale, nu*scale\n",
    "    \n",
    "    ris = numpy.minimum(mu.reshape((m, 1)), nu.reshape((1, n)))\n",
    "    \n",
    "    with mosek.Env() as env:\n",
    "        with env.Task() as task:\n",
    "            task.putintparam(mosek.iparam.optimizer, mtd)\n",
    "            \n",
    "            task.appendvars(m*n)\n",
    "            task.appendcons(m+n)\n",
    "            \n",
    "            task.putvarboundlist(\n",
    "                range(m*n),\n",
    "                [mosek.boundkey.ra]*(m*n),\n",
    "                [0.]*(m*n),\n",
    "                (capacity[0] * ris).reshape((m*n))\n",
    "            )\n",
    "            \n",
    "            for i in range(m):\n",
    "                task.putarow(\n",
    "                    i,\n",
    "                    range(i*n, (i+1)*n),\n",
    "                    [1.]*n\n",
    "                )\n",
    "            task.putconboundlist(\n",
    "                range(0, m),\n",
    "                [mosek.boundkey.fx]*m,\n",
    "                mu,\n",
    "                mu\n",
    "            )\n",
    "    \n",
    "            for i in range(n):\n",
    "                task.putarow(\n",
    "                    i+m,\n",
    "                    range(i, i+m*n, n),\n",
    "                    [1.]*m\n",
    "                )\n",
    "            task.putconboundlist(\n",
    "                range(m, m+n),\n",
    "                [mosek.boundkey.fx]*n,\n",
    "                nu,\n",
    "                nu\n",
    "            )\n",
    "            \n",
    "            task.putclist(range(m*n), c.reshape(m*n))\n",
    "            task.putobjsense(mosek.objsense.minimize)\n",
    "            task.optimize()\n",
    "            \n",
    "            sol = [0.] * (m*n)\n",
    "            task.getxx(solt, sol)\n",
    "    \n",
    "    path = [(sol[i*n + j] / scale, i, j) for i in range(m) for j in range(n) if sol[i*n + j] > error[0] * ris[i, j]]\n",
    "\n",
    "    return path"
   ]
  },
  {
   "cell_type": "code",
   "execution_count": null,
   "metadata": {
    "collapsed": true
   },
   "outputs": [],
   "source": [
    "def multi(m, n, mu, nu, mup, nup, c, step, shrink, capacity, error, mtd, solt):\n",
    "    if step <= 1:\n",
    "        return small(m, n, mu, nu, c, capacity, error, mtd, solt)\n",
    "    \n",
    "    con_m, rep_m, m_shrink, mu_shrink, mup_shrink = shrink_u(m, mu, mup, shrink[0])\n",
    "    con_n, rep_n, n_shrink, nu_shrink, nup_shrink = shrink_u(n, nu, nup, shrink[0])\n",
    "    c_shrink = shrink_c(c, rep_m, rep_n)\n",
    "    \n",
    "    path_coarsen = multi(m_shrink, n_shrink, mu_shrink, nu_shrink, mup_shrink, nup_shrink, c_shrink, step-1, shrink[1:], capacity[1:], error[1:], mtd, solt)\n",
    "    path = propagate(m, n, con_m, con_n, path_coarsen)\n",
    "    l = len(path)\n",
    "    \n",
    "    ris = numpy.minimum(mu.reshape((m, 1)), nu.reshape((1, n)))\n",
    "    ris = ris[[p[1] for p in path], [p[2] for p in path]]\n",
    "    \n",
    "    with mosek.Env() as env:\n",
    "        with env.Task() as task:\n",
    "            task.putintparam(mosek.iparam.optimizer, mtd)\n",
    "            \n",
    "            task.appendvars(l)\n",
    "            task.appendcons(m+n)\n",
    "            \n",
    "            task.putvarboundlist(\n",
    "                range(l),\n",
    "                [mosek.boundkey.ra]*(l),\n",
    "                [0.]*(l),\n",
    "                capacity[0] * ris\n",
    "            )\n",
    "            \n",
    "            tmp1 = [[] for i in range(m)]\n",
    "            tmp2 = [[] for i in range(n)]\n",
    "            for j in range(l):\n",
    "                tmp1[path[j][1]].append(j)\n",
    "                tmp2[path[j][2]].append(j)\n",
    "            \n",
    "            for i in range(m):\n",
    "                task.putarow(\n",
    "                    i,\n",
    "                    tmp1[i],\n",
    "                    [1.] * len(tmp1[i])\n",
    "                )\n",
    "            task.putconboundlist(\n",
    "                range(0, m),\n",
    "                [mosek.boundkey.fx]*m,\n",
    "                mu,\n",
    "                mu\n",
    "            )\n",
    "\n",
    "            for i in range(n):\n",
    "                task.putarow(\n",
    "                    i+m,\n",
    "                    tmp2[i],\n",
    "                    [1.] * len(tmp2[i])\n",
    "                )\n",
    "            task.putconboundlist(\n",
    "                range(m, m+n),\n",
    "                [mosek.boundkey.fx]*n,\n",
    "                nu,\n",
    "                nu\n",
    "            )\n",
    "            \n",
    "            task.putclist(range(l), c[[p[1] for p in path], [p[2] for p in path]])\n",
    "            task.putobjsense(mosek.objsense.minimize)\n",
    "            task.optimize()\n",
    "\n",
    "            xx = [0.] * l\n",
    "            task.getxx(solt, xx)\n",
    "\n",
    "    new_path = []\n",
    "    for i in range(l):\n",
    "        if xx[i] > error[0] * ris[i]:\n",
    "            new_path.append((\n",
    "                xx[i],\n",
    "                path[i][1],\n",
    "                path[i][2]\n",
    "            ))\n",
    "\n",
    "    return new_path"
   ]
  },
  {
   "cell_type": "code",
   "execution_count": null,
   "metadata": {
    "collapsed": true
   },
   "outputs": [],
   "source": [
    "def solve_multiscale_point_mosek(\n",
    "    p,\n",
    "    step, shrinks, caps, errs, mtd, solt,\n",
    "    log=None, stat=False, title=\"\",\n",
    "    *args, **kwargs\n",
    "):\n",
    "    m, n = p.c.shape\n",
    "    \n",
    "    path = multi(m, n, p.mu, p.nu, p.mup, p.nup, p.c, step, shrinks, caps, errs, mtd, solt)\n",
    "    \n",
    "    sol = numpy.zeros((m, n))\n",
    "    for pa in path:\n",
    "        sol[pa[1], pa[2]] = pa[0]\n",
    "    \n",
    "    p.s = sol\n",
    "    \n",
    "    if stat:\n",
    "        s = {\n",
    "            \"title\": title,\n",
    "            \"loss\": (p.c * sol).sum(),\n",
    "        }\n",
    "        return p, s\n",
    "    else:\n",
    "        return p"
   ]
  },
  {
   "cell_type": "code",
   "execution_count": null,
   "metadata": {
    "collapsed": true
   },
   "outputs": [],
   "source": [
    "def solve_multiscale_point_mosek_interior_point(\n",
    "    p,\n",
    "    step, shrinks, caps, errs,\n",
    "    *args, **kwargs\n",
    "):\n",
    "    return solve_multiscale_point_mosek(\n",
    "        p, step, shrinks, caps, errs, \n",
    "        mtd=mosek.optimizertype.intpnt,\n",
    "        solt=mosek.soltype.itr,\n",
    "        title=\"Multiscale for image using mosek interior point\",\n",
    "        *args, **kwargs\n",
    "    )\n",
    "\n",
    "def solve_multiscale_point_mosek_primal_simplex(\n",
    "    p,\n",
    "    step, shrinks, caps, errs,\n",
    "    *args, **kwargs\n",
    "):\n",
    "    return solve_multiscale_point_mosek(\n",
    "        p, step, shrinks, caps, errs, \n",
    "        mtd=mosek.optimizertype.primal_simplex,\n",
    "        solt=mosek.soltype.bas,\n",
    "        title=\"Multiscale for image using mosek primal simplex\",\n",
    "        *args, **kwargs\n",
    "    )"
   ]
  },
  {
   "cell_type": "code",
   "execution_count": null,
   "metadata": {
    "collapsed": true
   },
   "outputs": [],
   "source": [
    "# !ConvertEnd*"
   ]
  },
  {
   "cell_type": "code",
   "execution_count": null,
   "metadata": {
    "collapsed": true
   },
   "outputs": [],
   "source": [
    "# !Convert*multiscale_point_mosek_test.py*w*sehx*"
   ]
  },
  {
   "cell_type": "code",
   "execution_count": null,
   "metadata": {
    "collapsed": true
   },
   "outputs": [],
   "source": [
    "# !Switch*\n",
    "from handler import FigureHandler\n",
    "from dataset import ot_2d_Caffarelli, ot_2d_ellipse\n",
    "from stats import Statistics\n",
    "# !SwitchCase*\n",
    "# import font\n",
    "# from handler import FigureHandler\n",
    "from dataset import ot_2d_Caffarelli, ot_2d_ellipse\n",
    "# from stats import Statistics\n",
    "# from multiscale_point_mosek import *\n",
    "# !SwitchEnd*"
   ]
  },
  {
   "cell_type": "code",
   "execution_count": null,
   "metadata": {},
   "outputs": [],
   "source": [
    "# !Switch*\n",
    "fh = FigureHandler(redir=True)\n",
    "# !SwitchCase*\n",
    "# fh = FigureHandler(sav=True, disp=False, ext=\".pgf\", redir=True)\n",
    "# !SwitchEnd*"
   ]
  },
  {
   "cell_type": "code",
   "execution_count": null,
   "metadata": {
    "collapsed": true
   },
   "outputs": [],
   "source": [
    "prob = ot_2d_ellipse(100, 100, 1)"
   ]
  },
  {
   "cell_type": "code",
   "execution_count": null,
   "metadata": {},
   "outputs": [],
   "source": [
    "fh.fast(prob.plot_mu_scatter_plain)"
   ]
  },
  {
   "cell_type": "code",
   "execution_count": null,
   "metadata": {
    "collapsed": true
   },
   "outputs": [],
   "source": [
    "con_m, rep_m, new_m, new_mu, new_mup = shrink_u(prob.c.shape[0], prob.mu, prob.mup, 5, 0)"
   ]
  },
  {
   "cell_type": "code",
   "execution_count": null,
   "metadata": {
    "collapsed": true
   },
   "outputs": [],
   "source": [
    "con_n, rep_n, new_n, new_nu, new_nup = shrink_u(prob.c.shape[1], prob.nu, prob.nup, 5, 0)"
   ]
  },
  {
   "cell_type": "code",
   "execution_count": null,
   "metadata": {
    "collapsed": true
   },
   "outputs": [],
   "source": [
    "new_c = shrink_c(prob.c, rep_n, rep_m)"
   ]
  },
  {
   "cell_type": "code",
   "execution_count": null,
   "metadata": {
    "collapsed": true
   },
   "outputs": [],
   "source": [
    "prob.mup, prob.nup, prob.c = new_mup, new_nup, new_c"
   ]
  },
  {
   "cell_type": "code",
   "execution_count": null,
   "metadata": {},
   "outputs": [],
   "source": [
    "fh.fast(prob.plot_mu_scatter_plain)"
   ]
  },
  {
   "cell_type": "code",
   "execution_count": null,
   "metadata": {
    "collapsed": true
   },
   "outputs": [],
   "source": [
    "stat = Statistics(\n",
    "    probs=[\n",
    "        ot_2d_Caffarelli(500, 500, 1)\n",
    "    ],\n",
    "    prob=\"Test problems\",\n",
    "    log=fh.write,\n",
    ")"
   ]
  },
  {
   "cell_type": "code",
   "execution_count": null,
   "metadata": {
    "scrolled": false
   },
   "outputs": [],
   "source": [
    "stat.test(\n",
    "    solve_multiscale_point_mosek_interior_point,\n",
    "    step=4, shrinks=[50, 25, 10, 0],\n",
    "    caps=[1., 0.3, 0.1, 0.1],\n",
    "    errs=[0.001, 0.001, 0.001, 0.00],\n",
    "    clean=False\n",
    ")\n",
    "stat.output_last()\n",
    "fh.fast(stat.probs[0].plot_link)\n",
    "stat.probs[0].clean()"
   ]
  },
  {
   "cell_type": "code",
   "execution_count": null,
   "metadata": {
    "collapsed": true
   },
   "outputs": [],
   "source": [
    "from solver_mosek import solve_mosek_interior_point"
   ]
  },
  {
   "cell_type": "code",
   "execution_count": null,
   "metadata": {
    "scrolled": false
   },
   "outputs": [],
   "source": [
    "stat.test(\n",
    "    solve_mosek_interior_point,\n",
    "    clean=False\n",
    ")\n",
    "stat.output_last()\n",
    "fh.fast(stat.probs[0].plot_link)\n",
    "stat.probs[0].clean()"
   ]
  },
  {
   "cell_type": "code",
   "execution_count": null,
   "metadata": {
    "collapsed": true
   },
   "outputs": [],
   "source": [
    "# !ConvertEnd*"
   ]
  },
  {
   "cell_type": "code",
   "execution_count": null,
   "metadata": {
    "collapsed": true
   },
   "outputs": [],
   "source": []
  }
 ],
 "metadata": {
  "kernelspec": {
   "display_name": "Python 3",
   "language": "python",
   "name": "python3"
  },
  "language_info": {
   "codemirror_mode": {
    "name": "ipython",
    "version": 3
   },
   "file_extension": ".py",
   "mimetype": "text/x-python",
   "name": "python",
   "nbconvert_exporter": "python",
   "pygments_lexer": "ipython3",
   "version": "3.6.2"
  }
 },
 "nbformat": 4,
 "nbformat_minor": 2
}
