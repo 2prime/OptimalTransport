{
 "cells": [
  {
   "cell_type": "code",
   "execution_count": null,
   "metadata": {
    "collapsed": true
   },
   "outputs": [],
   "source": [
    "# !Convert*multiscale_image_func.py*w*sh*"
   ]
  },
  {
   "cell_type": "code",
   "execution_count": null,
   "metadata": {
    "collapsed": true
   },
   "outputs": [],
   "source": [
    "import math\n",
    "\n",
    "import numpy\n",
    "\n",
    "from dataset import OTProblem"
   ]
  },
  {
   "cell_type": "code",
   "execution_count": null,
   "metadata": {
    "collapsed": true
   },
   "outputs": [],
   "source": [
    "def shrink_u(m, mu, shrink):\n",
    "    ''' First we change the array mu back to image\n",
    "       then shrink the image by combining scale_shrink ** 2 pixels into one pixel\n",
    "       then we change the image_shrink to an array\n",
    "    '''\n",
    "    mu_matrix = mu.reshape(m)\n",
    "    # Suppose shrink divide m[0] and m[1]\n",
    "    new_m = (m[0] // shrink, m[1] // shrink)\n",
    "    mu_shrink_matrix = numpy.zeros(new_m)\n",
    "    \n",
    "    for i in range(new_m[0]):\n",
    "        for j in range(new_m[1]):\n",
    "            for i1 in range(shrink):\n",
    "                for j1 in range(shrink):\n",
    "                    mu_shrink_matrix[i, j] += mu_matrix[i * shrink + i1, j * shrink + j1]\n",
    "\n",
    "    return mu_shrink_matrix.reshape(new_m[0] * new_m[1])"
   ]
  },
  {
   "cell_type": "code",
   "execution_count": null,
   "metadata": {
    "collapsed": true
   },
   "outputs": [],
   "source": [
    "def shrink_c(m, n, c, shrink):\n",
    "    new_m = (m[0] // shrink, m[1] // shrink)\n",
    "    new_n = (n[0] // shrink, n[1] // shrink)\n",
    "    new_ms = new_m[0] * new_m[1]\n",
    "    new_ns = new_n[0] * new_n[1]\n",
    "    \n",
    "    new_c = c.reshape(m[0], m[1], n[0], n[1])[::shrink, ::shrink, ::shrink, ::shrink]\n",
    "    return new_m, new_n, new_c.reshape(new_ms, new_ns)"
   ]
  },
  {
   "cell_type": "code",
   "execution_count": null,
   "metadata": {
    "collapsed": true
   },
   "outputs": [],
   "source": [
    "def small(m, n, mu, nu, c, cfgs, capacity, error, ris=None, first=False):\n",
    "    ms = m[0] * m[1]\n",
    "    ns = n[0] * n[1]\n",
    "    \n",
    "    if ris is None:\n",
    "        ris = numpy.minimum(mu.reshape((ms, 1)), nu.reshape((1, ns)))\n",
    "    \n",
    "    p = OTProblem()\n",
    "    p.mu, p.nu, p.c = mu, nu, c\n",
    "    \n",
    "    p.ubox = ris * capacity[0]\n",
    "    \n",
    "    if first:\n",
    "        _, st = cfgs[0][\"func\"](p, *cfgs[0][\"args\"], stat=True, **cfgs[0][\"kwargs\"])\n",
    "        return p.s, st\n",
    "    else:\n",
    "        cfgs[0][\"func\"](p, *cfgs[0][\"args\"], **cfgs[0][\"kwargs\"])\n",
    "        return p.s"
   ]
  },
  {
   "cell_type": "code",
   "execution_count": null,
   "metadata": {
    "collapsed": true
   },
   "outputs": [],
   "source": [
    "def multi(m, n, mu, nu, c, cfgs, stop, shrink, capacity, error, ris=None, first=False):\n",
    "    if min(*m, *n) <= stop:\n",
    "        return small(m, n, mu, nu, c, cfgs, capacity, error, ris=ris, first=first)\n",
    "    \n",
    "    ms = m[0] * m[1]\n",
    "    ns = n[0] * n[1]\n",
    "    \n",
    "    if ris is None:\n",
    "        ris = numpy.minimum(mu.reshape((ms, 1)), nu.reshape((1, ns)))\n",
    "    \n",
    "    mu_shrink = shrink_u(m, mu, shrink)\n",
    "    nu_shrink = shrink_u(n, nu, shrink)\n",
    "    m_shrink, n_shrink, c_shrink = shrink_c(m, n, c, shrink)\n",
    "    \n",
    "    ms_shrink = n_shrink[0] * m_shrink[1]\n",
    "    ns_shrink = n_shrink[0] * n_shrink[1]\n",
    "    \n",
    "    ris_shrink = numpy.minimum(mu_shrink.reshape((ms_shrink, 1)), nu_shrink.reshape((1, ns_shrink)))\n",
    "    \n",
    "    sol_shrink = multi(m_shrink, n_shrink, mu_shrink, nu_shrink, c_shrink, cfgs[1:], stop, shrink, capacity[1:], error[1:], ris=ris_shrink)\n",
    "    \n",
    "    cc_shrink = numpy.zeros((ms_shrink, ns_shrink))\n",
    "    cc_shrink[sol_shrink > error[0]*ris_shrink] = 1.\n",
    "    \n",
    "    cc = cc_shrink.reshape((*m_shrink, *n_shrink))\n",
    "    for i in range(4):\n",
    "        cc = cc.repeat(shrink, axis=i)\n",
    "    cc = cc.reshape((ms, ns))\n",
    "    \n",
    "    p = OTProblem()\n",
    "    p.mu, p.nu, p.c = mu, nu, c\n",
    "    \n",
    "    p.ubox = ris * capacity[0] * cc\n",
    "    \n",
    "    if first:\n",
    "        _, st = cfgs[0][\"func\"](p, *cfgs[0][\"args\"], stat=True, **cfgs[0][\"kwargs\"])\n",
    "        return p.s, st\n",
    "    else:\n",
    "        cfgs[0][\"func\"](p, *cfgs[0][\"args\"], **cfgs[0][\"kwargs\"])\n",
    "        return p.s"
   ]
  },
  {
   "cell_type": "code",
   "execution_count": null,
   "metadata": {
    "collapsed": true
   },
   "outputs": [],
   "source": [
    "def solve_multiscale_image_func(\n",
    "    p,\n",
    "    cfgs, stop, shrink, caps, errs,\n",
    "    log=None, stat=False,\n",
    "    *args, **kwargs\n",
    "):\n",
    "    s = multi(p.m, p.n, p.mu, p.nu, p.c, cfgs, stop, shrink, caps, errs, first=True)\n",
    "    \n",
    "    p.s, st = s\n",
    "    \n",
    "    if stat:\n",
    "        st[\"title\"]: \"multiscale for image using func\"\n",
    "        st[\"loss\"]: (p.c * s).sum()\n",
    "        return p, st\n",
    "    else:\n",
    "        return p"
   ]
  },
  {
   "cell_type": "code",
   "execution_count": null,
   "metadata": {
    "collapsed": true
   },
   "outputs": [],
   "source": [
    "# !ConvertEnd*"
   ]
  },
  {
   "cell_type": "code",
   "execution_count": null,
   "metadata": {
    "collapsed": true
   },
   "outputs": [],
   "source": [
    "# !Convert*multiscale_image_func_test.py*w*sehx*"
   ]
  },
  {
   "cell_type": "code",
   "execution_count": null,
   "metadata": {
    "collapsed": true
   },
   "outputs": [],
   "source": [
    "# !Switch*\n",
    "from handler import FigureHandler\n",
    "from dataset import ot_im_general, samp_2d_mid, val_unif, dist_2d_euc_2\n",
    "from stats import Statistics\n",
    "# !SwitchCase*\n",
    "# import font\n",
    "# from handler import FigureHandler\n",
    "# from dataset import ot_im_general, samp_2d_mid, val_unif, dist_2d_euc_2\n",
    "# from stats import Statistics\n",
    "# from multiscale_image_func import solve_multiscale_image_func\n",
    "# !SwitchEnd*"
   ]
  },
  {
   "cell_type": "code",
   "execution_count": null,
   "metadata": {},
   "outputs": [],
   "source": [
    "# !Switch*\n",
    "fh = FigureHandler(redir=True)\n",
    "# !SwitchCase*\n",
    "# fh = FigureHandler(sav=True, disp=False, ext=\".pgf\", redir=True)\n",
    "# !SwitchEnd*"
   ]
  },
  {
   "cell_type": "code",
   "execution_count": null,
   "metadata": {
    "collapsed": true
   },
   "outputs": [],
   "source": [
    "stat = Statistics(\n",
    "    probs=[\n",
    "        ot_im_general(\n",
    "            m=[32, 32], n=[32, 32],\n",
    "            mw=[0., 1., 0., 1.], nw=[0., 1., 0., 1.],\n",
    "            mup_gen=samp_2d_mid(0., 1., 0., 1.),\n",
    "            nup_gen=samp_2d_mid(0., 1., 0., 1.),\n",
    "            mu_gen=val_unif(0., 1.),\n",
    "            nu_gen=val_unif(0., 1.),\n",
    "            dist=dist_2d_euc_2,\n",
    "            seed=1,\n",
    "        )\n",
    "    ],\n",
    "    prob=\"Test problems\",\n",
    ")"
   ]
  },
  {
   "cell_type": "code",
   "execution_count": null,
   "metadata": {
    "collapsed": true
   },
   "outputs": [],
   "source": [
    "from first_ADMM_primal import solve_ADMM_primal"
   ]
  },
  {
   "cell_type": "code",
   "execution_count": null,
   "metadata": {},
   "outputs": [],
   "source": [
    "stat.test(\n",
    "    solve_multiscale_image_func,\n",
    "    cfgs=[\n",
    "        {\n",
    "            \"func\": solve_ADMM_primal,\n",
    "            \"args\": (),\n",
    "            \"kwargs\": dict(\n",
    "                its=[20000],\n",
    "                rhos=[3.],\n",
    "                alphas=[1.618],\n",
    "                epss=[1e-3],\n",
    "                fh=fh, figs={\"error\", \"loss\"},\n",
    "            )\n",
    "        },\n",
    "        {\n",
    "            \"func\": solve_ADMM_primal,\n",
    "            \"args\": (),\n",
    "            \"kwargs\": dict(\n",
    "                its=[2000],\n",
    "                rhos=[3.],\n",
    "                alphas=[1.618],\n",
    "                epss=[1e-4],\n",
    "                fh=fh, figs={\"error\", \"loss\"},\n",
    "            )\n",
    "        },\n",
    "        {\n",
    "            \"func\": solve_ADMM_primal,\n",
    "            \"args\": (),\n",
    "            \"kwargs\": dict(\n",
    "                its=[1000],\n",
    "                rhos=[3.],\n",
    "                alphas=[1.618],\n",
    "                epss=[1e-4],\n",
    "                fh=fh, figs={\"error\", \"loss\"},\n",
    "            )\n",
    "        },\n",
    "        {\n",
    "            \"func\": solve_ADMM_primal,\n",
    "            \"args\": (),\n",
    "            \"kwargs\": dict(\n",
    "                its=[200],\n",
    "                rhos=[3.],\n",
    "                alphas=[1.618],\n",
    "                epss=[1e-4],\n",
    "                fh=fh, figs={\"error\", \"loss\"},\n",
    "            )\n",
    "        },\n",
    "    ],\n",
    "    stop=4,\n",
    "    shrink=2,\n",
    "    caps=[1., 0.1, 0.1, 0.1],\n",
    "    errs=[0.05, 0.05, 0.02, 0.00],\n",
    ")\n",
    "stat.output_last()"
   ]
  },
  {
   "cell_type": "code",
   "execution_count": null,
   "metadata": {},
   "outputs": [],
   "source": [
    "stat.test(\n",
    "    solve_ADMM_primal,\n",
    "    its=[20000],\n",
    "    rhos=[3.],\n",
    "    alphas=[1.618],\n",
    "    epss=[1e-3],\n",
    "    fh=fh, figs={\"error\", \"loss\"},\n",
    ")\n",
    "stat.output_last()"
   ]
  },
  {
   "cell_type": "code",
   "execution_count": null,
   "metadata": {
    "collapsed": true
   },
   "outputs": [],
   "source": [
    "from solver_mosek import solve_mosek_interior_point"
   ]
  },
  {
   "cell_type": "code",
   "execution_count": null,
   "metadata": {},
   "outputs": [],
   "source": [
    "stat.test(solve_mosek_interior_point)\n",
    "stat.output_last()"
   ]
  },
  {
   "cell_type": "code",
   "execution_count": null,
   "metadata": {
    "collapsed": true
   },
   "outputs": [],
   "source": [
    "# !ConvertEnd*"
   ]
  },
  {
   "cell_type": "code",
   "execution_count": null,
   "metadata": {
    "collapsed": true
   },
   "outputs": [],
   "source": []
  }
 ],
 "metadata": {
  "kernelspec": {
   "display_name": "Python 3",
   "language": "python",
   "name": "python3"
  },
  "language_info": {
   "codemirror_mode": {
    "name": "ipython",
    "version": 3
   },
   "file_extension": ".py",
   "mimetype": "text/x-python",
   "name": "python",
   "nbconvert_exporter": "python",
   "pygments_lexer": "ipython3",
   "version": "3.6.2"
  }
 },
 "nbformat": 4,
 "nbformat_minor": 2
}
