{
 "cells": [
  {
   "cell_type": "code",
   "execution_count": null,
   "metadata": {
    "collapsed": true
   },
   "outputs": [],
   "source": [
    "# !Convert*solver_mosek.py*w*sh*"
   ]
  },
  {
   "cell_type": "code",
   "execution_count": null,
   "metadata": {
    "collapsed": true
   },
   "outputs": [],
   "source": [
    "import time\n",
    "import math\n",
    "\n",
    "import numpy\n",
    "\n",
    "import mosek"
   ]
  },
  {
   "cell_type": "code",
   "execution_count": null,
   "metadata": {
    "collapsed": true
   },
   "outputs": [],
   "source": [
    "def mosek_set_model(mu, nu, c, task):\n",
    "    m, n = c.shape\n",
    "    \n",
    "    inf = 0.\n",
    "    \n",
    "    task.appendvars(m*n)\n",
    "    task.appendcons(m+n)\n",
    "    \n",
    "    task.putvarboundlist(\n",
    "        range(m*n),\n",
    "        [mosek.boundkey.lo]*(m*n),\n",
    "        [0.]*(m*n),\n",
    "        [inf]*(m*n)\n",
    "    )\n",
    "    \n",
    "    for i in range(m):\n",
    "        task.putarow(\n",
    "            i,\n",
    "            range(i*n, (i+1)*n),\n",
    "            [1.]*n\n",
    "        )\n",
    "    task.putconboundlist(\n",
    "        range(0, m),\n",
    "        [mosek.boundkey.fx]*m,\n",
    "        mu,\n",
    "        mu\n",
    "    )\n",
    "    \n",
    "    for i in range(n):\n",
    "        task.putarow(\n",
    "            i+m,\n",
    "            range(i, i+m*n, n),\n",
    "            [1.]*m\n",
    "        )\n",
    "    task.putconboundlist(\n",
    "        range(m, m+n),\n",
    "        [mosek.boundkey.fx]*n,\n",
    "        nu,\n",
    "        nu\n",
    "    )\n",
    "    \n",
    "    task.putclist(range(m*n), c.reshape(m*n))\n",
    "    \n",
    "    task.putobjsense(mosek.objsense.minimize)\n",
    "\n",
    "def solve_mosek(\n",
    "    p,\n",
    "    scale=None,\n",
    "    mtd=None, sol=None, var=None, it=None,\n",
    "    log=None, stat=False, title=\"\",\n",
    "    *args, **kwargs\n",
    "):    \n",
    "    if stat:\n",
    "        start_time = time.time()\n",
    "    \n",
    "    m, n = p.c.shape\n",
    "    \n",
    "    if scale is None:\n",
    "        scale = math.sqrt(m * n)\n",
    "    \n",
    "    with mosek.Env() as env:\n",
    "        env.set_Stream(mosek.streamtype.log, log)\n",
    "        \n",
    "        with env.Task() as task:\n",
    "            task.set_Stream(mosek.streamtype.log, log)\n",
    "            \n",
    "            task.putintparam(mosek.iparam.optimizer, mtd)\n",
    "            \n",
    "            mosek_set_model(scale*p.mu, scale*p.nu, p.c, task)\n",
    "            \n",
    "            if stat:\n",
    "                end_time = time.time()\n",
    "            \n",
    "            task.optimize()\n",
    "            \n",
    "            xx = [0.] * (m*n)\n",
    "            task.getxx(sol, xx)\n",
    "            \n",
    "            p.s = numpy.array(xx).reshape(m, n) / scale\n",
    "    \n",
    "            if stat:\n",
    "                setup_time = end_time - start_time\n",
    "                s = {\n",
    "                    \"title\": title,\n",
    "                    \"size\": [m, n],\n",
    "                    \"loss\": task.getprimalobj(sol) / scale,\n",
    "                    \"vars\": task.getintinf(var),\n",
    "                    \"iters\": task.getintinf(it),\n",
    "                    \"setup\": setup_time,\n",
    "                    \"solve\": task.getdouinf(mosek.dinfitem.optimizer_time),\n",
    "                }\n",
    "                return p, s\n",
    "            else:\n",
    "                return p"
   ]
  },
  {
   "cell_type": "code",
   "execution_count": null,
   "metadata": {
    "collapsed": true
   },
   "outputs": [],
   "source": [
    "def solve_mosek_primal_simplex(p, *args, **kwargs):\n",
    "    return solve_mosek(\n",
    "        p,\n",
    "        mtd=mosek.optimizertype.primal_simplex,\n",
    "        sol=mosek.soltype.bas,\n",
    "        var=mosek.iinfitem.opt_numvar,\n",
    "        it=mosek.iinfitem.sim_primal_iter,\n",
    "        title=\"MOSEK, simplex for primal\",\n",
    "        *args, **kwargs\n",
    "    )\n",
    "\n",
    "def solve_mosek_dual_simplex(p, *args, **kwargs):\n",
    "    return solve_mosek(\n",
    "        p,\n",
    "        mtd=mosek.optimizertype.dual_simplex,\n",
    "        sol=mosek.soltype.bas,\n",
    "        var=mosek.iinfitem.opt_numvar,\n",
    "        it=mosek.iinfitem.sim_dual_iter,\n",
    "        title=\"MOSEK, simplex for dual\",\n",
    "        *args, **kwargs\n",
    "    )\n",
    "\n",
    "def solve_mosek_interior_point(p, *args, **kwargs):\n",
    "    return solve_mosek(\n",
    "        p,\n",
    "        mtd=mosek.optimizertype.intpnt,\n",
    "        sol=mosek.soltype.itr,\n",
    "        var=mosek.iinfitem.opt_numvar,\n",
    "        it=mosek.iinfitem.intpnt_iter,\n",
    "        title=\"MOSEK, interior point\",\n",
    "        *args, **kwargs\n",
    "    )"
   ]
  },
  {
   "cell_type": "code",
   "execution_count": null,
   "metadata": {
    "collapsed": true
   },
   "outputs": [],
   "source": [
    "# !ConvertEnd*"
   ]
  },
  {
   "cell_type": "code",
   "execution_count": null,
   "metadata": {
    "collapsed": true
   },
   "outputs": [],
   "source": [
    "# !Convert*solver_mosek_test.py*w*sehx*"
   ]
  },
  {
   "cell_type": "code",
   "execution_count": null,
   "metadata": {
    "collapsed": true
   },
   "outputs": [],
   "source": [
    "# !Switch*\n",
    "from handler import FigureHandler\n",
    "from dataset import ot_2d_Caffarelli\n",
    "from stats import Statistics\n",
    "# !SwitchCase*\n",
    "# import font\n",
    "# from handler import FigureHandler\n",
    "# from dataset import ot_2d_Caffarelli\n",
    "# from stats import Statistics\n",
    "# from solver_mosek import solve_mosek_primal_simplex, solve_mosek_dual_simplex, solve_mosek_interior_point\n",
    "# !SwitchEnd*"
   ]
  },
  {
   "cell_type": "code",
   "execution_count": null,
   "metadata": {},
   "outputs": [],
   "source": [
    "# !Switch*\n",
    "fh = FigureHandler(redir=True)\n",
    "# !SwitchCase*\n",
    "# fh = FigureHandler(sav=True, disp=False, ext=\".pgf\", redir=True)\n",
    "# !SwitchEnd*"
   ]
  },
  {
   "cell_type": "code",
   "execution_count": null,
   "metadata": {
    "collapsed": true
   },
   "outputs": [],
   "source": [
    "stat = Statistics(\n",
    "    probs=[\n",
    "        ot_2d_Caffarelli(100, 100, 1)\n",
    "    ],\n",
    "    prob=\"Test problems\",\n",
    "    log=fh.write,\n",
    ")"
   ]
  },
  {
   "cell_type": "code",
   "execution_count": null,
   "metadata": {},
   "outputs": [],
   "source": [
    "stat.test(solve_mosek_primal_simplex, title=\"MOSEK, test\", memory=True, prog=fh.write, clean=False)\n",
    "stat.output_last()"
   ]
  },
  {
   "cell_type": "code",
   "execution_count": null,
   "metadata": {},
   "outputs": [],
   "source": [
    "fh.fast(stat.probs[0].plot_link, aspect=\"equal\")\n",
    "stat.clean_last()"
   ]
  },
  {
   "cell_type": "code",
   "execution_count": null,
   "metadata": {},
   "outputs": [],
   "source": [
    "stat.test(solve_mosek_primal_simplex, log=fh.write, prog=fh.write)\n",
    "stat.output_last()"
   ]
  },
  {
   "cell_type": "code",
   "execution_count": null,
   "metadata": {},
   "outputs": [],
   "source": [
    "stat.test(solve_mosek_dual_simplex, log=fh.write, prog=fh.write)\n",
    "stat.output_last()"
   ]
  },
  {
   "cell_type": "code",
   "execution_count": null,
   "metadata": {
    "scrolled": false
   },
   "outputs": [],
   "source": [
    "stat.test(solve_mosek_interior_point, log=fh.write, prog=fh.write)\n",
    "stat.output_last()"
   ]
  },
  {
   "cell_type": "code",
   "execution_count": null,
   "metadata": {
    "collapsed": true
   },
   "outputs": [],
   "source": [
    "# !ConvertEnd*"
   ]
  },
  {
   "cell_type": "code",
   "execution_count": null,
   "metadata": {
    "collapsed": true
   },
   "outputs": [],
   "source": []
  }
 ],
 "metadata": {
  "kernelspec": {
   "display_name": "Python 3",
   "language": "python",
   "name": "python3"
  },
  "language_info": {
   "codemirror_mode": {
    "name": "ipython",
    "version": 3
   },
   "file_extension": ".py",
   "mimetype": "text/x-python",
   "name": "python",
   "nbconvert_exporter": "python",
   "pygments_lexer": "ipython3",
   "version": "3.6.2"
  }
 },
 "nbformat": 4,
 "nbformat_minor": 2
}
