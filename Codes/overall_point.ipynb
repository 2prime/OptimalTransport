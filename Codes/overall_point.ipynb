{
 "cells": [
  {
   "cell_type": "code",
   "execution_count": null,
   "metadata": {
    "collapsed": true
   },
   "outputs": [],
   "source": [
    "# !Convert*overall_point.py*w*sehx*"
   ]
  },
  {
   "cell_type": "code",
   "execution_count": null,
   "metadata": {
    "collapsed": true
   },
   "outputs": [],
   "source": [
    "# !Switch*\n",
    "from handler import FigureHandler\n",
    "from dataset import ot_2d_random, ot_2d_ellipse, ot_2d_Caffarelli\n",
    "from stats import Statistics\n",
    "# !SwitchCase*\n",
    "# import font\n",
    "# from handler import FigureHandler\n",
    "# from dataset import ot_2d_random, ot_2d_ellipse, ot_2d_Caffarelli\n",
    "# from stats import Statistics\n",
    "# !SwitchEnd*"
   ]
  },
  {
   "cell_type": "code",
   "execution_count": null,
   "metadata": {
    "collapsed": true
   },
   "outputs": [],
   "source": [
    "from solver_mosek import solve_mosek_primal_simplex, solve_mosek_dual_simplex, solve_mosek_interior_point\n",
    "from solver_gurobi import solve_gurobi_primal_simplex, solve_gurobi_dual_simplex, solve_gurobi_barrier\n",
    "from first_ADMM_primal import solve_ADMM_primal\n",
    "from first_grad_primal import solve_grad_primal, solve_combine\n",
    "from discrete_transportation_simplex import solve_transportation_simplex\n",
    "from multiscale_point_mosek import solve_multiscale_point_mosek_primal_simplex"
   ]
  },
  {
   "cell_type": "code",
   "execution_count": null,
   "metadata": {},
   "outputs": [],
   "source": [
    "# !Switch*\n",
    "fh = FigureHandler(redir=True)\n",
    "# !SwitchCase*\n",
    "# fh = FigureHandler(sav=True, disp=False, ext=\".pgf\", redir=True)\n",
    "# !SwitchEnd*"
   ]
  },
  {
   "cell_type": "code",
   "execution_count": null,
   "metadata": {
    "collapsed": true
   },
   "outputs": [],
   "source": [
    "def suite(stat, size):\n",
    "    stat.set_objx(solve_mosek_interior_point, prog=fh.write)\n",
    "    stat.test(solve_mosek_primal_simplex, prog=fh.write)\n",
    "    stat.output_last()\n",
    "    stat.test(solve_mosek_dual_simplex, prog=fh.write)\n",
    "    stat.output_last()\n",
    "    stat.test(solve_mosek_interior_point, prog=fh.write)\n",
    "    stat.output_last()\n",
    "    stat.test(solve_gurobi_primal_simplex, prog=fh.write)\n",
    "    stat.output_last()\n",
    "    stat.test(solve_gurobi_dual_simplex, prog=fh.write)\n",
    "    stat.output_last()\n",
    "    stat.test(solve_gurobi_barrier, prog=fh.write)\n",
    "    stat.output_last()\n",
    "    stat.test(\n",
    "        solve_combine,\n",
    "        cfgs=[\n",
    "            {\n",
    "                \"func\": solve_ADMM_primal,\n",
    "                \"args\": (),\n",
    "                \"kwargs\": dict(\n",
    "                    its=[5000],\n",
    "                    rhos=[3.],\n",
    "                    alphas=[1.618],\n",
    "                    epss=[1e-3],\n",
    "                )\n",
    "            },\n",
    "            {\n",
    "                \"func\": solve_grad_primal,\n",
    "                \"args\": (),\n",
    "                \"kwargs\": dict(\n",
    "                    its=[max(size, 500), max(size, 500), max(size, 500)],\n",
    "                    pi0s=[10., 10., 10.],\n",
    "                    pi1s=[1000., 10000., 100000.],\n",
    "                    pi2s=[1000., 10000., 100000.],\n",
    "                    lrs=[1e-6, 1e-7, 1e-8],\n",
    "                )\n",
    "            },\n",
    "        ],\n",
    "        prog=fh.write,\n",
    "    )\n",
    "    stat.output_last()\n",
    "    stat.test(\n",
    "        solve_transportation_simplex,\n",
    "        eps=1e-12,\n",
    "        it=15000,\n",
    "        prog=fh.write,\n",
    "    )\n",
    "    stat.output_last()\n",
    "    stat.test(\n",
    "        solve_multiscale_point_mosek_primal_simplex,\n",
    "        step=4, shrinks=[50, 25, 10, 0],\n",
    "        caps=[1., 0.3, 0.1, 0.1],\n",
    "        errs=[0.001, 0.001, 0.001, 0.00],\n",
    "        prog=fh.write,\n",
    "    )\n",
    "    stat.output_last()"
   ]
  },
  {
   "cell_type": "code",
   "execution_count": null,
   "metadata": {
    "collapsed": true
   },
   "outputs": [],
   "source": [
    "rep = 1"
   ]
  },
  {
   "cell_type": "code",
   "execution_count": null,
   "metadata": {
    "collapsed": true
   },
   "outputs": [],
   "source": [
    "size_list = [100, 250, 500, 750, 1000, 1250, 1500, 1750, 2000]"
   ]
  },
  {
   "cell_type": "code",
   "execution_count": null,
   "metadata": {},
   "outputs": [],
   "source": [
    "for size in size_list:\n",
    "    stat = Statistics(\n",
    "        probs=[\n",
    "            ot_2d_random(size, size, i) for i in range(1, rep+1)\n",
    "        ],\n",
    "        prob=\"random {0}*{0}\".format(size),\n",
    "        log=fh.write,\n",
    "    )\n",
    "    suite(stat, size)"
   ]
  },
  {
   "cell_type": "code",
   "execution_count": null,
   "metadata": {},
   "outputs": [],
   "source": [
    "for size in size_list:\n",
    "    stat = Statistics(\n",
    "        probs=[\n",
    "            ot_2d_Caffarelli(size, size, i) for i in range(1, rep+1)\n",
    "        ],\n",
    "        prob=\"Caffarelli {0}*{0}\".format(size),\n",
    "        log=fh.write,\n",
    "    )\n",
    "    suite(stat, size)"
   ]
  },
  {
   "cell_type": "code",
   "execution_count": null,
   "metadata": {},
   "outputs": [],
   "source": [
    "for size in size_list:\n",
    "    stat = Statistics(\n",
    "        probs=[\n",
    "            ot_2d_ellipse(size, size, i) for i in range(1, rep+1)\n",
    "        ],\n",
    "        prob=\"ellipse {0}*{0}\".format(size),\n",
    "        log=fh.write,\n",
    "    )\n",
    "    suite(stat, size)"
   ]
  },
  {
   "cell_type": "code",
   "execution_count": null,
   "metadata": {
    "collapsed": true
   },
   "outputs": [],
   "source": [
    "# !ConvertEnd*"
   ]
  },
  {
   "cell_type": "code",
   "execution_count": null,
   "metadata": {
    "collapsed": true
   },
   "outputs": [],
   "source": []
  }
 ],
 "metadata": {
  "kernelspec": {
   "display_name": "Python 3",
   "language": "python",
   "name": "python3"
  },
  "language_info": {
   "codemirror_mode": {
    "name": "ipython",
    "version": 3
   },
   "file_extension": ".py",
   "mimetype": "text/x-python",
   "name": "python",
   "nbconvert_exporter": "python",
   "pygments_lexer": "ipython3",
   "version": "3.6.2"
  }
 },
 "nbformat": 4,
 "nbformat_minor": 2
}
