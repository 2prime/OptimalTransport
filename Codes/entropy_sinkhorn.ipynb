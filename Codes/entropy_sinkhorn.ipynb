{
 "cells": [
  {
   "cell_type": "code",
   "execution_count": null,
   "metadata": {
    "collapsed": true
   },
   "outputs": [],
   "source": [
    "# !Convert*entropy_sinkhorn.py*w*sh*"
   ]
  },
  {
   "cell_type": "code",
   "execution_count": null,
   "metadata": {
    "collapsed": true
   },
   "outputs": [],
   "source": [
    "import math\n",
    "\n",
    "import numpy"
   ]
  },
  {
   "cell_type": "code",
   "execution_count": null,
   "metadata": {
    "collapsed": true
   },
   "outputs": [],
   "source": [
    "def init(m, n, c, gamma):\n",
    "    u = numpy.ones(m)\n",
    "    v = numpy.ones(n)\n",
    "    xi = numpy.exp(-c / gamma)\n",
    "    return u, v, xi"
   ]
  },
  {
   "cell_type": "code",
   "execution_count": null,
   "metadata": {
    "collapsed": true
   },
   "outputs": [],
   "source": [
    "def update(u, v, xi, mu, nu):\n",
    "    u = mu / (xi.dot(v))\n",
    "    v = nu / (xi.T.dot(u))\n",
    "    return u, v"
   ]
  },
  {
   "cell_type": "code",
   "execution_count": null,
   "metadata": {
    "collapsed": true
   },
   "outputs": [],
   "source": [
    "def recover(m, n, u, v, xi):\n",
    "    pi = u.reshape((m, 1)) * xi * v.reshape((1, n))\n",
    "    return pi"
   ]
  },
  {
   "cell_type": "code",
   "execution_count": null,
   "metadata": {
    "collapsed": true
   },
   "outputs": [],
   "source": [
    "def solve_sinkhorn(\n",
    "    p,\n",
    "    it, gamma, scale=None,\n",
    "    fh=None, figs={}, stat=False,\n",
    "    *args, **kwargs\n",
    "):\n",
    "    m, n = p.c.shape\n",
    "    \n",
    "    if scale is None:\n",
    "        scale = math.sqrt(m*n)\n",
    "    \n",
    "    mu, nu = scale*p.mu, scale*p.nu\n",
    "    c = p.c\n",
    "    \n",
    "    if fh is not None:\n",
    "        if \"error\" in figs:\n",
    "            error_mu = []\n",
    "            error_nu = []\n",
    "        if \"loss\" in figs:\n",
    "            loss = []\n",
    "    \n",
    "    u, v, xi = init(m, n, c, gamma)\n",
    "    \n",
    "    itc = 0\n",
    "    \n",
    "    for i in range(it):\n",
    "        u, v = update(u, v, xi, mu, nu)\n",
    "        \n",
    "        itc += 1\n",
    "        \n",
    "        if fh is not None:\n",
    "            s = recover(m, n, u, v, xi)\n",
    "            if \"error\" in figs:\n",
    "                error_mu.append(numpy.linalg.norm(s.sum(axis=1) - mu, 1) / scale)\n",
    "                error_nu.append(numpy.linalg.norm(s.sum(axis=0) - nu, 1) / scale)\n",
    "            if \"loss\" in figs:\n",
    "                loss.append((c * s).sum() / scale)\n",
    "    \n",
    "    p.s = recover(m, n, u, v, xi) / scale\n",
    "    \n",
    "    if fh is not None:\n",
    "        if \"error\" in figs:\n",
    "            fh.new(1, 1, 1)\n",
    "            fh.ax.semilogy(numpy.array(error_mu), label=\"Error of mu\")\n",
    "            fh.ax.semilogy(numpy.array(error_nu), label=\"Error of nu\")\n",
    "            fh.ax.legend()\n",
    "            fh.show()\n",
    "            fh.close()\n",
    "        if \"loss\" in figs:\n",
    "            fh.new(1, 1, 1)\n",
    "            fh.ax.plot(numpy.array(loss), label=\"Loss\")\n",
    "            fh.ax.legend()\n",
    "            fh.show()\n",
    "            fh.close()\n",
    "    \n",
    "    if stat:\n",
    "        s = {\n",
    "            \"title\": \"Sinkhorn algorithm\",\n",
    "            \"size\": [m, n],\n",
    "            \"loss\": (c * p.s).sum(),\n",
    "            \"vars\": m*n + m + n,\n",
    "            \"iters\": itc,\n",
    "        }\n",
    "        return p, s\n",
    "    else:\n",
    "        return p\n",
    "        \n",
    "        return p"
   ]
  },
  {
   "cell_type": "code",
   "execution_count": null,
   "metadata": {
    "collapsed": true
   },
   "outputs": [],
   "source": [
    "# !ConvertEnd*"
   ]
  },
  {
   "cell_type": "code",
   "execution_count": null,
   "metadata": {
    "collapsed": true
   },
   "outputs": [],
   "source": [
    "# !Convert*entropy_sinkhorn_test.py*w*sehx*"
   ]
  },
  {
   "cell_type": "code",
   "execution_count": null,
   "metadata": {
    "collapsed": true
   },
   "outputs": [],
   "source": [
    "# !Switch*\n",
    "from handler import FigureHandler\n",
    "from dataset import ot_2d_Caffarelli\n",
    "from stats import Statistics\n",
    "# !SwitchCase*\n",
    "# import font\n",
    "# from handler import FigureHandler\n",
    "# from dataset import ot_2d_Caffarelli\n",
    "# from stats import Statistics\n",
    "# from entropy_sinkhorn import solve_sinkhorn\n",
    "# !SwitchEnd*"
   ]
  },
  {
   "cell_type": "code",
   "execution_count": null,
   "metadata": {},
   "outputs": [],
   "source": [
    "# !Switch*\n",
    "fh = FigureHandler(redir=True)\n",
    "# !SwitchCase*\n",
    "# fh = FigureHandler(sav=True, disp=False, ext=\".pgf\", redir=True)\n",
    "# !SwitchEnd*"
   ]
  },
  {
   "cell_type": "code",
   "execution_count": null,
   "metadata": {
    "collapsed": true
   },
   "outputs": [],
   "source": [
    "stat = Statistics(\n",
    "    probs=[\n",
    "        ot_2d_Caffarelli(500, 500, 1)\n",
    "    ],\n",
    "    prob=\"Test problems\",\n",
    "    log=fh.write,\n",
    ")"
   ]
  },
  {
   "cell_type": "code",
   "execution_count": null,
   "metadata": {},
   "outputs": [],
   "source": [
    "stat.test(\n",
    "    solve_sinkhorn,\n",
    "    it=2000, gamma=1e-2,\n",
    ")\n",
    "stat.output_last()"
   ]
  },
  {
   "cell_type": "code",
   "execution_count": null,
   "metadata": {
    "collapsed": true
   },
   "outputs": [],
   "source": [
    "from solver_mosek import solve_mosek_interior_point"
   ]
  },
  {
   "cell_type": "code",
   "execution_count": null,
   "metadata": {},
   "outputs": [],
   "source": [
    "stat.test(\n",
    "    solve_mosek_interior_point,\n",
    ")\n",
    "stat.output_last()"
   ]
  },
  {
   "cell_type": "code",
   "execution_count": null,
   "metadata": {
    "collapsed": true
   },
   "outputs": [],
   "source": [
    "# !ConvertEnd*"
   ]
  },
  {
   "cell_type": "code",
   "execution_count": null,
   "metadata": {
    "collapsed": true
   },
   "outputs": [],
   "source": []
  }
 ],
 "metadata": {
  "kernelspec": {
   "display_name": "Python 3",
   "language": "python",
   "name": "python3"
  },
  "language_info": {
   "codemirror_mode": {
    "name": "ipython",
    "version": 3
   },
   "file_extension": ".py",
   "mimetype": "text/x-python",
   "name": "python",
   "nbconvert_exporter": "python",
   "pygments_lexer": "ipython3",
   "version": "3.6.2"
  }
 },
 "nbformat": 4,
 "nbformat_minor": 2
}
