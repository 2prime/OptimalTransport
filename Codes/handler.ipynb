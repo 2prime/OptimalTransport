{
 "cells": [
  {
   "cell_type": "code",
   "execution_count": null,
   "metadata": {
    "collapsed": true
   },
   "outputs": [],
   "source": [
    "# !Convert*handler.py*w*sh*"
   ]
  },
  {
   "cell_type": "code",
   "execution_count": null,
   "metadata": {
    "collapsed": true
   },
   "outputs": [],
   "source": [
    "import datetime\n",
    "\n",
    "import matplotlib.pyplot as plt\n",
    "from mpl_toolkits.mplot3d import Axes3D"
   ]
  },
  {
   "cell_type": "code",
   "execution_count": null,
   "metadata": {
    "collapsed": true
   },
   "outputs": [],
   "source": [
    "class FigureHandler(object):\n",
    "    def __init__(self, fig=None, ax=None, echo=True, sav=False, disp=True, redir=False, ext=\".pdf\", log=print):\n",
    "        self.fig = fig\n",
    "        self.ax = ax\n",
    "        self.echo = echo\n",
    "        self.sav = sav\n",
    "        self.disp = disp\n",
    "        self.ext = ext\n",
    "        self.log = log\n",
    "        self.fig_ctr = 0\n",
    "        self.log_ctr = 0\n",
    "        self.log_filename = None\n",
    "        if redir:\n",
    "            self.bind()\n",
    "    \n",
    "    def now_str(self):\n",
    "        dt = datetime.datetime.now()\n",
    "        dt_str = dt.strftime(\"%Y%m%d-%H%M%S-%f\")\n",
    "        return dt_str\n",
    "    \n",
    "    def log_filename_gen(self):\n",
    "        self.log_ctr += 1\n",
    "        fn = \"Log-{0:02}-{1:}.log\".format(self.log_ctr, self.now_str())\n",
    "        return fn\n",
    "    \n",
    "    def fig_filename_gen(self):\n",
    "        self.fig_ctr += 1\n",
    "        fn = \"Figure-{0:04}-{1:}\".format(self.fig_ctr, self.now_str()) + self.ext\n",
    "        return fn\n",
    "    \n",
    "    def bind(self, *args, **kwargs):\n",
    "        self.log_filename = self.log_filename_gen()\n",
    "        with open(self.log_filename, \"w\") as f:\n",
    "            pass\n",
    "        self.log = self.write\n",
    "        self.write(\"{} created\".format(self.log_filename))\n",
    "    \n",
    "    def write(self, *args, **kwargs):\n",
    "        if self.echo:\n",
    "            print(*args, **kwargs)\n",
    "        with open(self.log_filename, \"a\") as f:\n",
    "            f.write(*(u+\"\\n\" for u in args), **kwargs)\n",
    "    \n",
    "    def new(self, *args, **kwargs):\n",
    "        self.fig = plt.figure()\n",
    "        self.ax = self.fig.add_subplot(*args, **kwargs)\n",
    "    \n",
    "    def refresh(self, *args, **kwargs):\n",
    "        self.fig = plt.figure(*args, **kwargs)\n",
    "    \n",
    "    def subplot(self, *args, **kwargs):\n",
    "        self.ax = self.fig.add_subplot(*args, **kwargs)\n",
    "    \n",
    "    def colorbar(self, mpbl, *args, **kwargs):\n",
    "        self.fig.colorbar(mpbl, *args, **kwargs)\n",
    "    \n",
    "    def close(self, *args, **kwargs):\n",
    "        plt.close(self.fig, *args, **kwargs)\n",
    "    \n",
    "    def save(self):\n",
    "        fn = self.fig_filename_gen()\n",
    "        plt.savefig(fn)\n",
    "        if self.log is not None:\n",
    "            self.log(\"{} saved\".format(fn))\n",
    "    \n",
    "    def show(self):\n",
    "        if self.sav:\n",
    "            self.save()\n",
    "        if self.disp:\n",
    "            plt.show()\n",
    "    \n",
    "    def fast(self, func, new_pos=(), new_kw={}, *args, **kwargs):\n",
    "        self.new(1, 1, 1, *new_pos, **new_kw)\n",
    "        func(self, *args, **kwargs)\n",
    "        self.show()\n",
    "        self.close()"
   ]
  },
  {
   "cell_type": "code",
   "execution_count": null,
   "metadata": {
    "collapsed": true
   },
   "outputs": [],
   "source": [
    "# !ConvertEnd*"
   ]
  },
  {
   "cell_type": "code",
   "execution_count": null,
   "metadata": {
    "collapsed": true
   },
   "outputs": [],
   "source": [
    "# !Convert*handler_test.py*w*sehx*"
   ]
  },
  {
   "cell_type": "code",
   "execution_count": null,
   "metadata": {
    "collapsed": true
   },
   "outputs": [],
   "source": [
    "# !Switch*\n",
    "# !SwitchCase*\n",
    "# import font\n",
    "# from handler import *\n",
    "# !SwitchEnd*"
   ]
  },
  {
   "cell_type": "code",
   "execution_count": null,
   "metadata": {},
   "outputs": [],
   "source": [
    "# !Switch*\n",
    "fh = FigureHandler(redir=True)\n",
    "# !SwitchCase*\n",
    "# fh = FigureHandler(sav=True, disp=False, ext=\".pgf\", redir=True)\n",
    "# !SwitchEnd*"
   ]
  },
  {
   "cell_type": "code",
   "execution_count": null,
   "metadata": {},
   "outputs": [],
   "source": [
    "fh.new(1, 1, 1, projection=\"3d\")\n",
    "fh.ax.scatter([1., 2.], [3., 4.], [5., 6.])\n",
    "fh.show()\n",
    "fh.close()"
   ]
  },
  {
   "cell_type": "code",
   "execution_count": null,
   "metadata": {
    "collapsed": true
   },
   "outputs": [],
   "source": [
    "# !ConvertEnd*"
   ]
  },
  {
   "cell_type": "code",
   "execution_count": null,
   "metadata": {
    "collapsed": true
   },
   "outputs": [],
   "source": []
  }
 ],
 "metadata": {
  "kernelspec": {
   "display_name": "Python 3",
   "language": "python",
   "name": "python3"
  },
  "language_info": {
   "codemirror_mode": {
    "name": "ipython",
    "version": 3
   },
   "file_extension": ".py",
   "mimetype": "text/x-python",
   "name": "python",
   "nbconvert_exporter": "python",
   "pygments_lexer": "ipython3",
   "version": "3.6.2"
  }
 },
 "nbformat": 4,
 "nbformat_minor": 2
}
