{
 "cells": [
  {
   "cell_type": "code",
   "execution_count": null,
   "metadata": {
    "collapsed": true
   },
   "outputs": [],
   "source": [
    "# !Convert*solver_gurobi.py*w*sh*"
   ]
  },
  {
   "cell_type": "code",
   "execution_count": null,
   "metadata": {
    "collapsed": true
   },
   "outputs": [],
   "source": [
    "import time\n",
    "import math\n",
    "\n",
    "import numpy\n",
    "\n",
    "from gurobipy import *\n",
    "\n",
    "from utils import *"
   ]
  },
  {
   "cell_type": "code",
   "execution_count": null,
   "metadata": {
    "collapsed": true
   },
   "outputs": [],
   "source": [
    "def gurobi_set_model(mu, nu, c, M):\n",
    "    m, n = c.shape\n",
    "    \n",
    "    s = M.addVars(m, n, lb=0., ub=GRB.INFINITY)\n",
    "    \n",
    "    # LinExpr is much faster than tuplelist.prod or quicksum\n",
    "    M.addConstrs(LinExpr([(1., s[i, j]) for j in range(n)]) == mu[i] for i in range(m))\n",
    "    M.addConstrs(LinExpr([(1., s[i, j]) for i in range(m)]) == nu[j] for j in range(n))\n",
    "    \n",
    "    M.setObjective(LinExpr([(c[i, j], s[i, j]) for i in range(m) for j in range(n)]))\n",
    "    \n",
    "    return s\n",
    "\n",
    "def solve_gurobi(\n",
    "    p,\n",
    "    scale=None,\n",
    "    mtd=-1, it_name=None,\n",
    "    log=None, stat=False, title=\"\",\n",
    "    *args, **kwargs\n",
    "):\n",
    "    if stat:\n",
    "        start_time = time.time()\n",
    "        \n",
    "    m, n = p.c.shape\n",
    "    \n",
    "    if scale is None:\n",
    "        scale = numpy.sqrt(m * n)\n",
    "    \n",
    "    M = Model(\"OT\")\n",
    "    \n",
    "    if log is None:\n",
    "        M.setParam(GRB.Param.OutputFlag, 0)\n",
    "    else:\n",
    "        M.setParam(GRB.Param.OutputFlag, 1)\n",
    "    \n",
    "    M.setParam(GRB.Param.Method, mtd)\n",
    "    \n",
    "    s = gurobi_set_model(scale*p.mu, scale*p.nu, p.c, M)\n",
    "    \n",
    "    if stat:\n",
    "        end_time = time.time()\n",
    "    \n",
    "    M.optimize()\n",
    "    \n",
    "    sx = M.getAttr(\"x\", s)\n",
    "    p.s = numpy.array([sx[i, j] for i in range(m) for j in range(n)]).reshape(m, n) / scale\n",
    "    \n",
    "    if stat:\n",
    "        setup_time = end_time - start_time\n",
    "        s = {\n",
    "            \"title\": title,\n",
    "            \"loss\": M.getAttr(\"ObjVal\") / scale,\n",
    "            \"vars\": M.getAttr(\"NumVars\"),\n",
    "            \"iters\": M.getAttr(it_name),\n",
    "            \"setup\": setup_time,\n",
    "            \"solve\": M.getAttr(\"Runtime\")\n",
    "        }\n",
    "        return p, s\n",
    "    else:\n",
    "        return p"
   ]
  },
  {
   "cell_type": "code",
   "execution_count": null,
   "metadata": {
    "collapsed": true
   },
   "outputs": [],
   "source": [
    "def solve_gurobi_primal_simplex(p, *args, **kwargs):\n",
    "    return solve_gurobi(\n",
    "        p,\n",
    "        mtd=0, it_name=\"IterCount\", title=\"Gurobi, primal simplex\",\n",
    "        *args, **kwargs\n",
    "    )\n",
    "\n",
    "def solve_gurobi_dual_simplex(p, *args, **kwargs):\n",
    "    return solve_gurobi(\n",
    "        p,\n",
    "        mtd=1, it_name=\"IterCount\", title=\"Gurobi, dual simplex\",\n",
    "        *args, **kwargs\n",
    "    )\n",
    "\n",
    "def solve_gurobi_barrier(p, *args, **kwargs):\n",
    "    return solve_gurobi(\n",
    "        p,\n",
    "        mtd=2, it_name=\"BarIterCount\", title=\"Gurobi, barrier\",\n",
    "        *args, **kwargs\n",
    "    )"
   ]
  },
  {
   "cell_type": "code",
   "execution_count": null,
   "metadata": {
    "collapsed": true
   },
   "outputs": [],
   "source": [
    "# !ConvertEnd*"
   ]
  },
  {
   "cell_type": "code",
   "execution_count": null,
   "metadata": {
    "collapsed": true
   },
   "outputs": [],
   "source": [
    "# !Convert*solver_gurobi_test.py*w*sehx*"
   ]
  },
  {
   "cell_type": "code",
   "execution_count": null,
   "metadata": {
    "collapsed": true
   },
   "outputs": [],
   "source": [
    "# !Switch*\n",
    "# !SwitchCase*\n",
    "# import font\n",
    "# from utils import *\n",
    "# from solver_gurobi import solve_gurobi_primal_simplex, solve_gurobi_dual_simplex, solve_gurobi_barrier\n",
    "# !SwitchEnd*"
   ]
  },
  {
   "cell_type": "code",
   "execution_count": null,
   "metadata": {
    "collapsed": true
   },
   "outputs": [],
   "source": [
    "# !Switch*\n",
    "fh = FigureHandler(sav=False, log=print)\n",
    "# !SwitchCase*\n",
    "# fh = FigureHandler(sav=True, disp=False, ext=\".pgf\", log=print)\n",
    "# !SwitchEnd*"
   ]
  },
  {
   "cell_type": "code",
   "execution_count": null,
   "metadata": {
    "collapsed": true
   },
   "outputs": [],
   "source": [
    "prob = ot_2d_general(\n",
    "    m=500, n=500,\n",
    "    mup_gen=samp_2d_Caffarelli(0., 0., 1., 0.),\n",
    "    nup_gen=samp_2d_Caffarelli(0., 0., 1., 2.),\n",
    "    mu_gen=val_const(),\n",
    "    nu_gen=val_const(),\n",
    "    dist=dist_2d_euc_2,\n",
    ")"
   ]
  },
  {
   "cell_type": "code",
   "execution_count": null,
   "metadata": {},
   "outputs": [],
   "source": [
    "solve_gurobi_primal_simplex(prob)"
   ]
  },
  {
   "cell_type": "code",
   "execution_count": null,
   "metadata": {},
   "outputs": [],
   "source": [
    "fh.fast(prob.plot_link)"
   ]
  },
  {
   "cell_type": "code",
   "execution_count": null,
   "metadata": {},
   "outputs": [],
   "source": [
    "solve_gurobi_primal_simplex(prob, log=print, stat=True)"
   ]
  },
  {
   "cell_type": "code",
   "execution_count": null,
   "metadata": {},
   "outputs": [],
   "source": [
    "solve_gurobi_dual_simplex(prob, log=print, stat=True)"
   ]
  },
  {
   "cell_type": "code",
   "execution_count": null,
   "metadata": {},
   "outputs": [],
   "source": [
    "solve_gurobi_barrier(prob, log=print, stat=True)"
   ]
  },
  {
   "cell_type": "code",
   "execution_count": null,
   "metadata": {
    "collapsed": true
   },
   "outputs": [],
   "source": [
    "# !ConvertEnd*"
   ]
  },
  {
   "cell_type": "code",
   "execution_count": null,
   "metadata": {
    "collapsed": true
   },
   "outputs": [],
   "source": []
  }
 ],
 "metadata": {
  "kernelspec": {
   "display_name": "Python 3",
   "language": "python",
   "name": "python3"
  },
  "language_info": {
   "codemirror_mode": {
    "name": "ipython",
    "version": 3
   },
   "file_extension": ".py",
   "mimetype": "text/x-python",
   "name": "python",
   "nbconvert_exporter": "python",
   "pygments_lexer": "ipython3",
   "version": "3.6.2"
  }
 },
 "nbformat": 4,
 "nbformat_minor": 2
}
