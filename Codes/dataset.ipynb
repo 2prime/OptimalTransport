{
 "cells": [
  {
   "cell_type": "code",
   "execution_count": null,
   "metadata": {
    "collapsed": true
   },
   "outputs": [],
   "source": [
    "# !Convert*dataset.py*w*sh*"
   ]
  },
  {
   "cell_type": "code",
   "execution_count": null,
   "metadata": {
    "collapsed": true
   },
   "outputs": [],
   "source": [
    "import time\n",
    "import random\n",
    "import math\n",
    "import csv\n",
    "\n",
    "import numpy\n",
    "import scipy.stats"
   ]
  },
  {
   "cell_type": "code",
   "execution_count": null,
   "metadata": {
    "collapsed": true
   },
   "outputs": [],
   "source": [
    "default_sigma = 1."
   ]
  },
  {
   "cell_type": "code",
   "execution_count": null,
   "metadata": {
    "collapsed": true
   },
   "outputs": [],
   "source": [
    "class OTProblem(object):\n",
    "    def __init__(self, mu=None, nu=None, c=None):\n",
    "        self.mu = mu\n",
    "        self.nu = nu\n",
    "        self.c = c\n",
    "        self.ubox = None\n",
    "        self.s = None\n",
    "        self.sx = None\n",
    "        self.objx = None\n",
    "    \n",
    "    def set_sx(self):\n",
    "        self.sx = self.s\n",
    "        self.objx = (self.s * self.c).sum()\n",
    "    \n",
    "    def set_objx(self):\n",
    "        self.objx = (self.s * self.c).sum()\n",
    "    \n",
    "    def clean(self):\n",
    "        self.s = None\n",
    "    \n",
    "    def plot_hotline(self, fh, colorbar=True, *args, **kwargs):\n",
    "        mpbl = fh.ax.imshow(self.s, *args, **kwargs)\n",
    "        if colorbar:\n",
    "            fh.fig.colorbar(mpbl)\n",
    "        return mpbl"
   ]
  },
  {
   "cell_type": "code",
   "execution_count": null,
   "metadata": {
    "collapsed": true
   },
   "outputs": [],
   "source": [
    "class OTProblem1d(OTProblem):\n",
    "    def __init__(self, *args, **kwargs):\n",
    "        super(OTProblem1d, self).__init__(*args, **kwargs)\n",
    "    \n",
    "    def plot_mu_scatter(self, fh, *args, **kwargs):\n",
    "        fh.ax.scatter(self.mup, self.mu, *args, **kwargs)\n",
    "    \n",
    "    def plot_nu_scatter(self, fh, *args, **kwargs):\n",
    "        fh.ax.scatter(self.nup, self.nu, *args, **kwargs)\n",
    "    \n",
    "    def plot_scatter(\n",
    "        self, fh,\n",
    "        cutoff=0.2,\n",
    "        aspect=\"auto\", colorbar=True,\n",
    "        *args, **kwargs\n",
    "    ):\n",
    "        m, n = self.c.shape\n",
    "        \n",
    "        mean = self.s.mean() * numpy.sqrt(m * n)\n",
    "        mask = self.s > cutoff * mean\n",
    "        \n",
    "        ind = numpy.indices((m, n))\n",
    "        \n",
    "        dot_x, dot_y = self.mup[ind[0]][mask], self.nup[ind[1]][mask]\n",
    "        dot_c = self.s[mask]\n",
    "        \n",
    "        mpbl = fh.ax.scatter(dot_x, dot_y, c=dot_c, *args, **kwargs)\n",
    "        if colorbar:\n",
    "            fh.fig.colorbar(mpbl)\n",
    "        \n",
    "        fh.ax.set_aspect(aspect)\n",
    "        return mpbl\n",
    "    \n",
    "    def plot_link(\n",
    "        self, fh,\n",
    "        off_bx=0., off_by=0., off_ex=0., off_ey=1.,\n",
    "        scatter=True, \n",
    "        cutoff=0.2, scale=30.,\n",
    "        aspect=\"auto\", colorbar=True,\n",
    "        sca_pos=(), sca_kw={},\n",
    "        *args, **kwargs\n",
    "    ):\n",
    "        m, n = self.c.shape\n",
    "        \n",
    "        if scatter:\n",
    "            mus = self.mu / self.mu.mean() * scale\n",
    "            nus = self.nu / self.nu.mean() * scale\n",
    "            fh.ax.scatter(self.mup + off_bx, numpy.zeros_like(self.mup) + off_by, s=mus, *sca_pos, **sca_kw)\n",
    "            fh.ax.scatter(self.nup + off_ex, numpy.zeros_like(self.nup) + off_ey, s=nus, *sca_pos, **sca_kw)\n",
    "        \n",
    "        mean = self.s.mean() * numpy.sqrt(m * n)\n",
    "        mask = self.s > cutoff * mean\n",
    "        \n",
    "        ind = numpy.indices((m, n))\n",
    "\n",
    "        arr_bx = self.mup[ind[0]][mask] + off_bx\n",
    "        arr_by = numpy.zeros_like(arr_bx) + off_by\n",
    "\n",
    "        arr_ex = self.nup[ind[1]][mask] + off_ex\n",
    "        arr_ey = numpy.zeros_like(arr_ex) + off_ey\n",
    "\n",
    "        arr_dx = arr_ex - arr_bx\n",
    "        arr_dy = arr_ey - arr_by\n",
    "\n",
    "        arr_c = self.s[mask]\n",
    "\n",
    "        mpbl = fh.ax.quiver(arr_bx, arr_by, arr_dx, arr_dy, arr_c, angles=\"xy\", scale_units=\"xy\", scale=1., *args, **kwargs)\n",
    "        if colorbar:\n",
    "            fh.fig.colorbar(mpbl)\n",
    "        \n",
    "        fh.ax.set_aspect(aspect)\n",
    "        return mpbl"
   ]
  },
  {
   "cell_type": "code",
   "execution_count": null,
   "metadata": {
    "collapsed": true
   },
   "outputs": [],
   "source": [
    "def samp_1d_grid(start, stop):\n",
    "    def samp_1d_grid_gen(num):\n",
    "        p = numpy.linspace(start, stop, num)\n",
    "        return p\n",
    "    return samp_1d_grid_gen"
   ]
  },
  {
   "cell_type": "code",
   "execution_count": null,
   "metadata": {
    "collapsed": true
   },
   "outputs": [],
   "source": [
    "def samp_1d_norm(loc, scale):\n",
    "    def samp_1d_norm_gen(num):\n",
    "        p = numpy.random.normal(loc, scale, num)\n",
    "        p.sort()\n",
    "        return p\n",
    "    return samp_1d_norm_gen"
   ]
  },
  {
   "cell_type": "code",
   "execution_count": null,
   "metadata": {
    "collapsed": true
   },
   "outputs": [],
   "source": [
    "def val_const(sigma=default_sigma):\n",
    "    def val_const_gen(p):\n",
    "        num = p.shape[0]\n",
    "        v = numpy.ones(num) * sigma / num\n",
    "        return v\n",
    "    return val_const_gen"
   ]
  },
  {
   "cell_type": "code",
   "execution_count": null,
   "metadata": {
    "collapsed": true
   },
   "outputs": [],
   "source": [
    "def val_unif(low, high, sigma=default_sigma):\n",
    "    def val_unif_gen(p):\n",
    "        num = p.shape[0]\n",
    "        v = numpy.random.uniform(low, high, num)\n",
    "        v = v * sigma / numpy.sum(v)\n",
    "        return v\n",
    "    return val_unif_gen"
   ]
  },
  {
   "cell_type": "code",
   "execution_count": null,
   "metadata": {
    "collapsed": true
   },
   "outputs": [],
   "source": [
    "def val_1d_norm_pdf(loc, scale, sigma=default_sigma):\n",
    "    norm = scipy.stats.norm(loc=loc, scale=scale)\n",
    "    def val_1d_norm_pdf_gen(p):\n",
    "        v = norm.pdf(p)\n",
    "        v = v * sigma / numpy.sum(v)\n",
    "        return v\n",
    "    return val_1d_norm_pdf_gen"
   ]
  },
  {
   "cell_type": "code",
   "execution_count": null,
   "metadata": {},
   "outputs": [],
   "source": [
    "def val_1d_norm_pdf_2(loc1, scale1, loc2, scale2, sigma=default_sigma):\n",
    "    norm1 = scipy.stats.norm(loc=loc1, scale=scale1)\n",
    "    norm2 = scipy.stats.norm(loc=loc2, scale=scale2)\n",
    "    def val_1d_norm_pdf_2_gen(p):\n",
    "        v1 = norm1.pdf(p)\n",
    "        v2 = norm2.pdf(p)\n",
    "        v = v1 + v2\n",
    "        v = v * sigma / numpy.sum(v)\n",
    "        return v\n",
    "    return val_1d_norm_pdf_2_gen"
   ]
  },
  {
   "cell_type": "code",
   "execution_count": null,
   "metadata": {
    "collapsed": true
   },
   "outputs": [],
   "source": [
    "def dist_1d_euc_2(mup, nup):\n",
    "    m, n = mup.size, nup.size\n",
    "    ind = numpy.indices((m, n))\n",
    "    c = (mup[ind[0]] - nup[ind[1]])**2\n",
    "    return c"
   ]
  },
  {
   "cell_type": "code",
   "execution_count": null,
   "metadata": {
    "collapsed": true
   },
   "outputs": [],
   "source": [
    "def ot_1d_general(m, n, mu_gen, nu_gen, mup_gen, nup_gen, dist, seed):\n",
    "    random.seed(seed)\n",
    "    numpy.random.seed(seed)\n",
    "    p = OTProblem1d()\n",
    "    p.mup = mup_gen(m)\n",
    "    p.nup = nup_gen(n)\n",
    "    p.mu = mu_gen(p.mup)\n",
    "    p.nu = nu_gen(p.nup)\n",
    "    p.c = dist(p.mup, p.nup)\n",
    "    return p"
   ]
  },
  {
   "cell_type": "code",
   "execution_count": null,
   "metadata": {
    "collapsed": true
   },
   "outputs": [],
   "source": [
    "class OTProblem2d(OTProblem):\n",
    "    def __init__(self, *args, **kwargs):\n",
    "        super(OTProblem2d, self).__init__(*args, **kwargs)\n",
    "    \n",
    "    def plot_mu_scatter(self, fh, *args, **kwargs):\n",
    "        fh.ax.scatter(self.mup[:, 0], self.mup[:, 1], self.mu, *args, **kwargs)\n",
    "    \n",
    "    def plot_nu_scatter(self, fh, *args, **kwargs):\n",
    "        fh.ax.scatter(self.nup[:, 0], self.nup[:, 1], self.nu, *args, **kwargs)\n",
    "    \n",
    "    def plot_mu_scatter_plain(self, fh, scale=30., *args, **kwargs):\n",
    "        s = self.mu / self.mu.mean() * scale\n",
    "        fh.ax.scatter(self.mup[:, 0], self.mup[:, 1], s=s, *args, **kwargs)\n",
    "    \n",
    "    def plot_nu_scatter_plain(self, fh, scale=30., *args, **kwargs):\n",
    "        s = self.nu / self.nu.mean() * scale\n",
    "        fh.ax.scatter(self.nup[:, 0], self.nup[:, 1], s=s, *args, **kwargs)\n",
    "    \n",
    "    def plot_link(\n",
    "        self, fh,\n",
    "        off_bx=0., off_by=0., off_ex=0., off_ey=0.,\n",
    "        scatter=True,\n",
    "        cutoff=0.2, scale=30.,\n",
    "        aspect=\"auto\", colorbar=True,\n",
    "        sca_pos=(), sca_kw={},\n",
    "        *args, **kwargs\n",
    "    ):\n",
    "        m, n = self.c.shape\n",
    "        \n",
    "        if scatter:\n",
    "            mus = self.mu / self.mu.mean() * scale\n",
    "            nus = self.nu / self.nu.mean() * scale\n",
    "            fh.ax.scatter(self.mup[:, 0] + off_bx, self.mup[:, 1] + off_by, s=mus, *sca_pos, **sca_kw)\n",
    "            fh.ax.scatter(self.nup[:, 0] + off_ex, self.nup[:, 1] + off_ey, s=nus, *sca_pos, **sca_kw)\n",
    "        \n",
    "        mean = self.s.mean() * numpy.sqrt(m * n)\n",
    "        mask = self.s> cutoff * mean\n",
    "\n",
    "        ind = numpy.indices((m, n))\n",
    "\n",
    "        arr_b = self.mup[ind[0]][mask]\n",
    "        arr_bx, arr_by = arr_b[:, 0] + off_bx, arr_b[:, 1] + off_by\n",
    "\n",
    "        arr_e = self.nup[ind[1]][mask]\n",
    "        arr_ex, arr_ey = arr_e[:, 0] + off_ex, arr_e[:, 1] + off_ey\n",
    "\n",
    "        arr_dx = arr_ex - arr_bx\n",
    "        arr_dy = arr_ey - arr_by\n",
    "\n",
    "        arr_c = self.s[mask]\n",
    "\n",
    "        mpbl = fh.ax.quiver(arr_bx, arr_by, arr_dx, arr_dy, arr_c, angles=\"xy\", scale_units=\"xy\", scale=1., *args, **kwargs)\n",
    "        if colorbar:\n",
    "            fh.fig.colorbar(mpbl)\n",
    "        \n",
    "        fh.ax.set_aspect(aspect)\n",
    "        return mpbl"
   ]
  },
  {
   "cell_type": "code",
   "execution_count": null,
   "metadata": {
    "collapsed": true
   },
   "outputs": [],
   "source": [
    "def samp_norm(mean, cov):\n",
    "    def samp_norm_gen(num):\n",
    "        p = numpy.random.multivariate_normal(mean, cov, num)\n",
    "        return p\n",
    "    return samp_norm_gen"
   ]
  },
  {
   "cell_type": "code",
   "execution_count": null,
   "metadata": {
    "collapsed": true
   },
   "outputs": [],
   "source": [
    "def samp_2d_unif(size):\n",
    "    def samp_2d_unif(num):\n",
    "        p = size * (numpy.random.rand(num*2).reshape((num, 2)))\n",
    "        return p\n",
    "    return samp_2d_unif"
   ]
  },
  {
   "cell_type": "code",
   "execution_count": null,
   "metadata": {
    "collapsed": true
   },
   "outputs": [],
   "source": [
    "def samp_2d_grid(start_x, end_x, start_y, end_y):\n",
    "    def samp_2d_grid_gen(num):\n",
    "        num_t = num[0] * num[1]\n",
    "        x = numpy.linspace(start_x, end_x, num[0])\n",
    "        y = numpy.linspace(start_y, end_y, num[1])\n",
    "        xp, yp = numpy.meshgrid(x, y)\n",
    "        p = numpy.concatenate((xp.reshape((num_t, 1)), yp.reshape((num_t, 1))), axis=1)\n",
    "        return p\n",
    "    return samp_2d_grid_gen"
   ]
  },
  {
   "cell_type": "code",
   "execution_count": null,
   "metadata": {
    "collapsed": true
   },
   "outputs": [],
   "source": [
    "def samp_2d_mid(start_x, end_x, start_y, end_y):\n",
    "    def samp_2d_grid_gen(num):\n",
    "        num_t = num[0] * num[1]\n",
    "        step_x = (end_x - start_x) / num[0]\n",
    "        x = numpy.linspace(start_x + step_x / 2., end_x - step_x / 2., num[0])\n",
    "        step_y = (end_y - start_y) / num[1]\n",
    "        y = numpy.linspace(start_y + step_y / 2., end_y - step_y / 2., num[1])\n",
    "        xp, yp = numpy.meshgrid(x, y)\n",
    "        p = numpy.concatenate((xp.reshape((num_t, 1)), yp.reshape((num_t, 1))), axis=1)\n",
    "        return p\n",
    "    return samp_2d_grid_gen"
   ]
  },
  {
   "cell_type": "code",
   "execution_count": null,
   "metadata": {
    "collapsed": true
   },
   "outputs": [],
   "source": [
    "def samp_2d_ellipse(cen_x, r_x, cen_y, r_y, noi):\n",
    "    def samp_2d_ellipse_gen(num):\n",
    "        r = numpy.random.uniform(0, 2.*math.pi, num)\n",
    "        dx = numpy.cos(r) + noi / math.sqrt(2.) * numpy.random.randn(num)\n",
    "        dy = numpy.sin(r) + noi / math.sqrt(2.) * numpy.random.randn(num)\n",
    "        x = r_x * dx + cen_x\n",
    "        y = r_y * dy + cen_y\n",
    "        p = numpy.concatenate((x.reshape(num, 1), y.reshape(num, 1)), axis=1)\n",
    "        return p\n",
    "    return samp_2d_ellipse_gen"
   ]
  },
  {
   "cell_type": "code",
   "execution_count": null,
   "metadata": {
    "collapsed": true
   },
   "outputs": [],
   "source": [
    "def samp_2d_Caffarelli(cen_x, cen_y, r, d):\n",
    "    def samp_2d_Caffarelli_gen(num):\n",
    "        ox = numpy.random.uniform(-r, r, num)\n",
    "        oy = numpy.random.uniform(-r, r, num)\n",
    "        mask = ox**2 + oy**2 < r**2\n",
    "        fx, fy = ox[mask], oy[mask]\n",
    "        fx[fx < 0.] -= d / 2.\n",
    "        fx[fx >= 0.] += d / 2.\n",
    "        nnum = fx.size\n",
    "        x = fx + cen_x\n",
    "        y = fy + cen_y\n",
    "        p = numpy.concatenate((x.reshape(nnum, 1), y.reshape(nnum, 1)), axis=1)\n",
    "        return p\n",
    "    return samp_2d_Caffarelli_gen"
   ]
  },
  {
   "cell_type": "code",
   "execution_count": null,
   "metadata": {
    "collapsed": true
   },
   "outputs": [],
   "source": [
    "def val_norm_pdf(mean, cov, sigma=default_sigma):\n",
    "    norm = scipy.stats.multivariate_normal(mean=mean, cov=cov)\n",
    "    def val_norm_pdf_gen(p):\n",
    "        v = norm.pdf(p)\n",
    "        v = v * sigma / numpy.sum(v)\n",
    "        return v\n",
    "    return val_norm_pdf_gen"
   ]
  },
  {
   "cell_type": "code",
   "execution_count": null,
   "metadata": {
    "collapsed": true
   },
   "outputs": [],
   "source": [
    "def dist_2d_euc_2(mup, nup):\n",
    "    m, n = mup.shape[0], nup.shape[0]\n",
    "    ind = numpy.indices((m, n))\n",
    "    c = ((mup[ind[0]] - nup[ind[1]])**2).sum(axis=2)\n",
    "    return c"
   ]
  },
  {
   "cell_type": "code",
   "execution_count": null,
   "metadata": {
    "collapsed": true
   },
   "outputs": [],
   "source": [
    "def ot_2d_general(m, n, mu_gen, nu_gen, mup_gen, nup_gen, dist, seed):\n",
    "    random.seed(seed)\n",
    "    numpy.random.seed(seed)\n",
    "    p = OTProblem2d()\n",
    "    p.mup = mup_gen(m)\n",
    "    p.nup = nup_gen(n)\n",
    "    p.mu = mu_gen(p.mup)\n",
    "    p.nu = nu_gen(p.nup)\n",
    "    p.c = dist(p.mup, p.nup)\n",
    "    return p"
   ]
  },
  {
   "cell_type": "code",
   "execution_count": null,
   "metadata": {
    "collapsed": true
   },
   "outputs": [],
   "source": [
    "def ot_2d_random(m, n, seed):\n",
    "    prob = ot_2d_general(\n",
    "        m=m, n=n,\n",
    "        mup_gen=samp_2d_unif(1.),\n",
    "        nup_gen=samp_2d_unif(1.),\n",
    "        mu_gen=val_unif(0., 1.),\n",
    "        nu_gen=val_unif(0., 1.),\n",
    "        dist=dist_2d_euc_2,\n",
    "        seed=seed,\n",
    "    )\n",
    "    return prob"
   ]
  },
  {
   "cell_type": "code",
   "execution_count": null,
   "metadata": {
    "collapsed": true
   },
   "outputs": [],
   "source": [
    "def ot_2d_ellipse(m, n, seed):\n",
    "    prob = ot_2d_general(\n",
    "        m=m, n=n,\n",
    "        mup_gen=samp_2d_ellipse(0., 2., 0., 0.5, 0.1),\n",
    "        nup_gen=samp_2d_ellipse(0., 0.5, 0., 2., 0.1),\n",
    "        mu_gen=val_const(),\n",
    "        nu_gen=val_const(),\n",
    "        dist=dist_2d_euc_2,\n",
    "        seed=seed,\n",
    "    )\n",
    "    return prob"
   ]
  },
  {
   "cell_type": "code",
   "execution_count": null,
   "metadata": {
    "collapsed": true
   },
   "outputs": [],
   "source": [
    "def ot_2d_Caffarelli(m, n, seed):\n",
    "    prob = ot_2d_general(\n",
    "        m=m, n=n,\n",
    "        mup_gen=samp_2d_Caffarelli(0., 0., 1., 0.),\n",
    "        nup_gen=samp_2d_Caffarelli(0., 0., 1., 2.),\n",
    "        mu_gen=val_const(),\n",
    "        nu_gen=val_const(),\n",
    "        dist=dist_2d_euc_2,\n",
    "        seed=seed,\n",
    "    )\n",
    "    return prob"
   ]
  },
  {
   "cell_type": "code",
   "execution_count": null,
   "metadata": {
    "collapsed": true
   },
   "outputs": [],
   "source": [
    "class OTProblemImage(OTProblem2d):\n",
    "    def __init__(self, *args, **kwargs):\n",
    "        super(OTProblemImage, self).__init__(*args, **kwargs)\n",
    "    \n",
    "    def plot_mu_image(\n",
    "        self, fh,\n",
    "        origin=\"lower\",\n",
    "        colorbar=False,\n",
    "        *args, **kwargs\n",
    "    ):\n",
    "        mwn = [self.mw[0], self.mw[1], self.mw[2], self.mw[3]]\n",
    "        mpbl = fh.ax.imshow(self.mu.reshape(self.m[1], self.m[0]), extent=mwn, origin=origin, *args, **kwargs)\n",
    "        if colorbar:\n",
    "            fh.fig.colorbar(mpbl)\n",
    "    \n",
    "    def plot_nu_image(\n",
    "        self, fh,\n",
    "        origin=\"lower\",\n",
    "        colorbar=False,\n",
    "        *args, **kwargs\n",
    "    ):\n",
    "        nwn = [self.nw[0], self.nw[1], self.nw[2], self.nw[3]]\n",
    "        mpbl = fh.ax.imshow(self.nu.reshape(self.n[1], self.n[0]), extent=nwn, origin=origin, *args, **kwargs)\n",
    "        if colorbar:\n",
    "            fh.fig.colorbar(mpbl)\n",
    "    \n",
    "    def plot_link(\n",
    "        self, fh,\n",
    "        off_bx=0., off_by=0., off_ex=0., off_ey=0.,\n",
    "        image_m=False, image_n=False,\n",
    "        origin=\"lower\",\n",
    "        cutoff=0.2, scale=30.,\n",
    "        aspect=\"auto\", colorbar=False,\n",
    "        im_pos=(), im_kw={},\n",
    "        *args, **kwargs\n",
    "    ):\n",
    "        m, n = self.c.shape\n",
    "        \n",
    "        if image_m:\n",
    "            mwn = [self.mw[0] + off_bx, self.mw[1] + off_bx, self.mw[2] + off_by, self.mw[3] + off_by]\n",
    "            fh.ax.imshow(self.mu.reshape(self.m), extent=mwn, origin=origin, *im_pos, **im_kw)\n",
    "        \n",
    "        if image_n:\n",
    "            nwn = [self.nw[0] + off_ex, self.nw[1] + off_ex, self.nw[2] + off_ey, self.nw[3] + off_ey]\n",
    "            fh.ax.imshow(self.nu.reshape(self.n), extent=nwn, origin=origin, *im_pos, **im_kw)\n",
    "        \n",
    "        mean = self.s.mean() * numpy.sqrt(m * n)\n",
    "        mask = self.s> cutoff * mean\n",
    "\n",
    "        ind = numpy.indices((m, n))\n",
    "\n",
    "        arr_b = self.mup[ind[0]][mask]\n",
    "        arr_bx, arr_by = arr_b[:, 0] + off_bx, arr_b[:, 1] + off_by\n",
    "\n",
    "        arr_e = self.nup[ind[1]][mask]\n",
    "        arr_ex, arr_ey = arr_e[:, 0] + off_ex, arr_e[:, 1] + off_ey\n",
    "\n",
    "        arr_dx = arr_ex - arr_bx\n",
    "        arr_dy = arr_ey - arr_by\n",
    "\n",
    "        arr_c = self.s[mask]\n",
    "\n",
    "        mpbl = fh.ax.quiver(arr_bx, arr_by, arr_dx, arr_dy, arr_c, angles=\"xy\", scale_units=\"xy\", scale=1., *args, **kwargs)\n",
    "        if colorbar:\n",
    "            fh.fig.colorbar(mpbl)\n",
    "        \n",
    "        fh.ax.set_aspect(aspect)\n",
    "        return mpbl"
   ]
  },
  {
   "cell_type": "code",
   "execution_count": null,
   "metadata": {
    "collapsed": true
   },
   "outputs": [],
   "source": [
    "def ot_im_general(m, n, mw, nw, mu_gen, nu_gen, mup_gen, nup_gen, dist, seed):\n",
    "    random.seed(seed)\n",
    "    numpy.random.seed(seed)\n",
    "    p = OTProblemImage()\n",
    "    p.m = m\n",
    "    p.n = n\n",
    "    p.mw = mw\n",
    "    p.nw = nw\n",
    "    p.mup = mup_gen(m)\n",
    "    p.nup = nup_gen(n)\n",
    "    p.mu = mu_gen(p.mup)\n",
    "    p.nu = nu_gen(p.nup)\n",
    "    p.c = dist(p.mup, p.nup)\n",
    "    return p"
   ]
  },
  {
   "cell_type": "code",
   "execution_count": null,
   "metadata": {
    "collapsed": true
   },
   "outputs": [],
   "source": [
    "folder_name = [\n",
    "    \"WhiteNoise\",\n",
    "    \"GRFrough\",\n",
    "    \"GRFmoderate\",\n",
    "    \"GRFsmooth\",\n",
    "    \"LogGRF\",\n",
    "    \"LogitGRF\",\n",
    "    \"CauchyDensity\",\n",
    "    \"Shapes\",\n",
    "    \"ClassicImages\",\n",
    "    \"MicroscopyImages\"\n",
    "]"
   ]
  },
  {
   "cell_type": "code",
   "execution_count": null,
   "metadata": {
    "collapsed": true
   },
   "outputs": [],
   "source": [
    "def val_dotmark(cls, log=None, sigma=default_sigma):\n",
    "    def val_dotmark_gen(p):\n",
    "        s = int(math.sqrt(p.shape[0]))\n",
    "        i = random.randint(1, 10)\n",
    "        if log is not None:\n",
    "            log(\"Image {0} is chosen\".format(i))\n",
    "        fn = \"Data/{0}/data{1}_1{2:03}.csv\".format(folder_name[cls], s, i)\n",
    "        with open(fn) as f:\n",
    "            rd = csv.reader(f)\n",
    "            l = []\n",
    "            for r in rd:\n",
    "                l.append([int(v) for v in r])\n",
    "        a = numpy.array(l)\n",
    "        a = a * sigma / a.sum()\n",
    "        return a.reshape(s**2)\n",
    "    return val_dotmark_gen"
   ]
  },
  {
   "cell_type": "code",
   "execution_count": null,
   "metadata": {
    "collapsed": true
   },
   "outputs": [],
   "source": [
    "def ot_im_dotmark(cls, size, seed, log=None):\n",
    "    prob = ot_im_general(\n",
    "        m=[size, size], n=[size, size],\n",
    "        mw=[0., 1., 0., 1.], nw=[0., 1., 0., 1.],\n",
    "        mup_gen=samp_2d_mid(0., 1., 0., 1.),\n",
    "        nup_gen=samp_2d_mid(0., 1., 0., 1.),\n",
    "        mu_gen=val_dotmark(cls, log=log),\n",
    "        nu_gen=val_dotmark(cls, log=log),\n",
    "        dist=dist_2d_euc_2,\n",
    "        seed=seed,\n",
    "    )\n",
    "    return prob"
   ]
  },
  {
   "cell_type": "code",
   "execution_count": null,
   "metadata": {
    "collapsed": true
   },
   "outputs": [],
   "source": [
    "# !ConvertEnd*"
   ]
  },
  {
   "cell_type": "code",
   "execution_count": null,
   "metadata": {
    "collapsed": true
   },
   "outputs": [],
   "source": [
    "# !Convert*dataset_test.py*w*sehx*"
   ]
  },
  {
   "cell_type": "code",
   "execution_count": null,
   "metadata": {
    "collapsed": true
   },
   "outputs": [],
   "source": [
    "# !Switch*\n",
    "from handler import FigureHandler\n",
    "# !SwitchCase*\n",
    "# import font\n",
    "# from handler import FigureHandler\n",
    "# from dataset import *\n",
    "# !SwitchEnd*"
   ]
  },
  {
   "cell_type": "code",
   "execution_count": null,
   "metadata": {},
   "outputs": [],
   "source": [
    "# !Switch*\n",
    "fh = FigureHandler(redir=True)\n",
    "# !SwitchCase*\n",
    "# fh = FigureHandler(sav=True, disp=False, ext=\".pgf\", redir=True)\n",
    "# !SwitchEnd*"
   ]
  },
  {
   "cell_type": "code",
   "execution_count": null,
   "metadata": {
    "collapsed": true
   },
   "outputs": [],
   "source": [
    "import mosek\n",
    "\n",
    "def mosek_set_model(p, task):\n",
    "    m, n = p.c.shape\n",
    "    \n",
    "    inf = 0.\n",
    "    \n",
    "    task.appendvars(m*n)\n",
    "    task.appendcons(m+n)\n",
    "    \n",
    "    task.putvarboundlist(\n",
    "        range(m*n),\n",
    "        [mosek.boundkey.lo]*(m*n),\n",
    "        [0.]*(m*n),\n",
    "        [inf]*(m*n)\n",
    "    )\n",
    "    \n",
    "    for i in range(m):\n",
    "        task.putarow(\n",
    "            i,\n",
    "            range(i*n, (i+1)*n),\n",
    "            [1.]*n\n",
    "        )\n",
    "    task.putconboundlist(\n",
    "        range(0, m),\n",
    "        [mosek.boundkey.fx]*m,\n",
    "        p.mu,\n",
    "        p.mu\n",
    "    )\n",
    "    \n",
    "    for i in range(n):\n",
    "        task.putarow(\n",
    "            i+m,\n",
    "            range(i, i+m*n, n),\n",
    "            [1.]*m\n",
    "        )\n",
    "    task.putconboundlist(\n",
    "        range(m, m+n),\n",
    "        [mosek.boundkey.fx]*n,\n",
    "        p.nu,\n",
    "        p.nu\n",
    "    )\n",
    "    \n",
    "    task.putclist(range(m*n), p.c.reshape(m*n))\n",
    "    \n",
    "    task.putobjsense(mosek.objsense.minimize)\n",
    "\n",
    "def solve_mosek_primal_simplex(\n",
    "    p,\n",
    "    log=None, stat=False,\n",
    "    *args, **kwargs\n",
    "):\n",
    "    m, n = p.c.shape\n",
    "    \n",
    "    if stat:\n",
    "        start_time = time.time()\n",
    "    \n",
    "    with mosek.Env() as env:\n",
    "        env.set_Stream(mosek.streamtype.log, log)\n",
    "        \n",
    "        with env.Task() as task:\n",
    "            task.set_Stream(mosek.streamtype.log, log)\n",
    "            \n",
    "            task.putintparam(mosek.iparam.optimizer, mosek.optimizertype.primal_simplex)\n",
    "        \n",
    "            mosek_set_model(p, task)\n",
    "            \n",
    "            if stat:\n",
    "                end_time = time.time()\n",
    "            \n",
    "            task.optimize()\n",
    "            \n",
    "            xx = [0.] * (m*n)\n",
    "            task.getxx(mosek.soltype.bas, xx)\n",
    "            \n",
    "            p.s = numpy.array(xx).reshape(m, n)\n",
    "    \n",
    "            if stat:\n",
    "                setup_time = end_time - start_time\n",
    "                s = {\n",
    "                    \"loss\": task.getprimalobj(mosek.soltype.bas),\n",
    "                    \"vars\": task.getintinf(mosek.iinfitem.opt_numvar),\n",
    "                    \"iters\": task.getintinf(mosek.iinfitem.sim_primal_iter),\n",
    "                    \"setup\": setup_time,\n",
    "                    \"solve\": task.getdouinf(mosek.dinfitem.optimizer_time)\n",
    "                }\n",
    "                return p, s\n",
    "            else:\n",
    "                return p"
   ]
  },
  {
   "cell_type": "code",
   "execution_count": null,
   "metadata": {
    "collapsed": true
   },
   "outputs": [],
   "source": [
    "prob = OTProblem()\n",
    "prob.s = numpy.fromfunction(lambda i, j: numpy.sin(i / 3) * j**2, (50, 50))"
   ]
  },
  {
   "cell_type": "code",
   "execution_count": null,
   "metadata": {},
   "outputs": [],
   "source": [
    "fh.fast(prob.plot_hotline)"
   ]
  },
  {
   "cell_type": "code",
   "execution_count": null,
   "metadata": {
    "collapsed": true
   },
   "outputs": [],
   "source": [
    "prob = OTProblem1d()\n",
    "prob.mup = numpy.linspace(0., 1., 50)\n",
    "prob.nup = numpy.linspace(2., 3., 50)\n",
    "prob.mu = numpy.linspace(2., 1., 50)\n",
    "prob.nu = numpy.linspace(4., 3., 50)\n",
    "prob.c = numpy.eye(50)\n",
    "prob.s= numpy.eye(50)"
   ]
  },
  {
   "cell_type": "code",
   "execution_count": null,
   "metadata": {},
   "outputs": [],
   "source": [
    "fh.fast(prob.plot_mu_scatter, alpha=0.5)"
   ]
  },
  {
   "cell_type": "code",
   "execution_count": null,
   "metadata": {},
   "outputs": [],
   "source": [
    "fh.fast(prob.plot_scatter, alpha=0.5)"
   ]
  },
  {
   "cell_type": "code",
   "execution_count": null,
   "metadata": {
    "collapsed": true
   },
   "outputs": [],
   "source": [
    "prob = ot_1d_general(\n",
    "    m=50, n=50,\n",
    "    mup_gen=samp_1d_norm(-5., 1.),\n",
    "    nup_gen=samp_1d_grid(-5., -4.),\n",
    "    mu_gen=val_unif(0., 1.),\n",
    "    nu_gen=val_unif(0., 1.),\n",
    "    dist=dist_1d_euc_2,\n",
    "    seed=1,\n",
    ")"
   ]
  },
  {
   "cell_type": "code",
   "execution_count": null,
   "metadata": {},
   "outputs": [],
   "source": [
    "fh.fast(prob.plot_mu_scatter)"
   ]
  },
  {
   "cell_type": "code",
   "execution_count": null,
   "metadata": {},
   "outputs": [],
   "source": [
    "_, s = solve_mosek_primal_simplex(prob, stat=True)\n",
    "fh.write(repr(s))"
   ]
  },
  {
   "cell_type": "code",
   "execution_count": null,
   "metadata": {},
   "outputs": [],
   "source": [
    "fh.fast(prob.plot_hotline)"
   ]
  },
  {
   "cell_type": "code",
   "execution_count": null,
   "metadata": {},
   "outputs": [],
   "source": [
    "fh.fast(prob.plot_scatter, alpha=0.5)"
   ]
  },
  {
   "cell_type": "code",
   "execution_count": null,
   "metadata": {},
   "outputs": [],
   "source": [
    "fh.fast(prob.plot_link)"
   ]
  },
  {
   "cell_type": "code",
   "execution_count": null,
   "metadata": {
    "collapsed": true
   },
   "outputs": [],
   "source": [
    "prob = ot_1d_general(\n",
    "    m=50, n=100,\n",
    "    mup_gen=samp_1d_grid(-7., -3.),\n",
    "    nup_gen=samp_1d_grid(-3., -1.),\n",
    "    mu_gen=val_1d_norm_pdf(-5., 0.8),\n",
    "    nu_gen=val_1d_norm_pdf(-2., 0.4),\n",
    "    dist=dist_1d_euc_2,\n",
    "    seed=1,\n",
    ")"
   ]
  },
  {
   "cell_type": "code",
   "execution_count": null,
   "metadata": {},
   "outputs": [],
   "source": [
    "fh.fast(prob.plot_mu_scatter)"
   ]
  },
  {
   "cell_type": "code",
   "execution_count": null,
   "metadata": {},
   "outputs": [],
   "source": [
    "solve_mosek_primal_simplex(prob)"
   ]
  },
  {
   "cell_type": "code",
   "execution_count": null,
   "metadata": {},
   "outputs": [],
   "source": [
    "fh.fast(prob.plot_link)"
   ]
  },
  {
   "cell_type": "code",
   "execution_count": null,
   "metadata": {},
   "outputs": [],
   "source": [
    "fh.fast(prob.plot_hotline)"
   ]
  },
  {
   "cell_type": "code",
   "execution_count": null,
   "metadata": {
    "collapsed": true
   },
   "outputs": [],
   "source": [
    "prob = ot_2d_general(\n",
    "    m=[5, 5], n=50,\n",
    "    mup_gen=samp_2d_mid(0., 1., 0., 1.),\n",
    "    nup_gen=samp_norm([2., 2.], [[1., 0.5], [0.5, 1.]]),\n",
    "    mu_gen=val_unif(0., 1.),\n",
    "    nu_gen=val_unif(0., 1.),\n",
    "    dist=dist_2d_euc_2,\n",
    "    seed=1,\n",
    ")"
   ]
  },
  {
   "cell_type": "code",
   "execution_count": null,
   "metadata": {},
   "outputs": [],
   "source": [
    "solve_mosek_primal_simplex(prob)"
   ]
  },
  {
   "cell_type": "code",
   "execution_count": null,
   "metadata": {},
   "outputs": [],
   "source": [
    "fh.fast(prob.plot_hotline)"
   ]
  },
  {
   "cell_type": "code",
   "execution_count": null,
   "metadata": {},
   "outputs": [],
   "source": [
    "fh.fast(prob.plot_mu_scatter, new_kw={\"projection\": \"3d\"})"
   ]
  },
  {
   "cell_type": "code",
   "execution_count": null,
   "metadata": {},
   "outputs": [],
   "source": [
    "fh.fast(prob.plot_mu_scatter_plain)"
   ]
  },
  {
   "cell_type": "code",
   "execution_count": null,
   "metadata": {},
   "outputs": [],
   "source": [
    "fh.fast(prob.plot_nu_scatter_plain)"
   ]
  },
  {
   "cell_type": "code",
   "execution_count": null,
   "metadata": {},
   "outputs": [],
   "source": [
    "fh.fast(prob.plot_link, scale=30., cutoff=0.5)"
   ]
  },
  {
   "cell_type": "code",
   "execution_count": null,
   "metadata": {
    "collapsed": true
   },
   "outputs": [],
   "source": [
    "prob = ot_2d_general(\n",
    "    m=100, n=100,\n",
    "    mup_gen=samp_2d_ellipse(0., 2., 0., 0.5, 0.1),\n",
    "    nup_gen=samp_2d_ellipse(0., 0.5, 0., 2., 0.1),\n",
    "    mu_gen=val_const(),\n",
    "    nu_gen=val_const(),\n",
    "    dist=dist_2d_euc_2,\n",
    "    seed=1,\n",
    ")"
   ]
  },
  {
   "cell_type": "code",
   "execution_count": null,
   "metadata": {},
   "outputs": [],
   "source": [
    "fh.fast(prob.plot_mu_scatter_plain)"
   ]
  },
  {
   "cell_type": "code",
   "execution_count": null,
   "metadata": {},
   "outputs": [],
   "source": [
    "solve_mosek_primal_simplex(prob)"
   ]
  },
  {
   "cell_type": "code",
   "execution_count": null,
   "metadata": {},
   "outputs": [],
   "source": [
    "fh.fast(prob.plot_link, scale=30., cutoff=0.5)"
   ]
  },
  {
   "cell_type": "code",
   "execution_count": null,
   "metadata": {
    "collapsed": true
   },
   "outputs": [],
   "source": [
    "prob = ot_2d_general(\n",
    "    m=500, n=500,\n",
    "    mup_gen=samp_2d_Caffarelli(0., 0., 1., 0.),\n",
    "    nup_gen=samp_2d_Caffarelli(0., 0., 1., 2.),\n",
    "    mu_gen=val_const(),\n",
    "    nu_gen=val_const(),\n",
    "    dist=dist_2d_euc_2,\n",
    "    seed=1,\n",
    ")"
   ]
  },
  {
   "cell_type": "code",
   "execution_count": null,
   "metadata": {},
   "outputs": [],
   "source": [
    "fh.fast(prob.plot_nu_scatter_plain)"
   ]
  },
  {
   "cell_type": "code",
   "execution_count": null,
   "metadata": {},
   "outputs": [],
   "source": [
    "solve_mosek_primal_simplex(prob)"
   ]
  },
  {
   "cell_type": "code",
   "execution_count": null,
   "metadata": {},
   "outputs": [],
   "source": [
    "fh.fast(prob.plot_link, scale=30., cutoff=0.5)"
   ]
  },
  {
   "cell_type": "code",
   "execution_count": null,
   "metadata": {
    "collapsed": true
   },
   "outputs": [],
   "source": [
    "prob = ot_im_general(\n",
    "    m=[10, 10], n=[10, 10],\n",
    "    mw=[0., 1., 0., 1.], nw=[0., 1., 0., 1.],\n",
    "    mup_gen=samp_2d_mid(0., 1., 0., 1.),\n",
    "    nup_gen=samp_2d_mid(0., 1., 0., 1.),\n",
    "    mu_gen=val_unif(0., 1.),\n",
    "    nu_gen=val_unif(0., 1.),\n",
    "    dist=dist_2d_euc_2,\n",
    "    seed=1,\n",
    ")"
   ]
  },
  {
   "cell_type": "code",
   "execution_count": null,
   "metadata": {},
   "outputs": [],
   "source": [
    "solve_mosek_primal_simplex(prob)"
   ]
  },
  {
   "cell_type": "code",
   "execution_count": null,
   "metadata": {},
   "outputs": [],
   "source": [
    "fh.fast(prob.plot_link, aspect=\"equal\")"
   ]
  },
  {
   "cell_type": "code",
   "execution_count": null,
   "metadata": {},
   "outputs": [],
   "source": [
    "fh.refresh()\n",
    "fh.subplot(1, 3, 1)\n",
    "prob.plot_mu_image(fh)\n",
    "fh.subplot(1, 3, 2)\n",
    "prob.plot_link(fh, aspect=\"equal\")\n",
    "fh.subplot(1, 3, 3)\n",
    "prob.plot_nu_image(fh)\n",
    "fh.show()\n",
    "fh.close()"
   ]
  },
  {
   "cell_type": "code",
   "execution_count": null,
   "metadata": {
    "collapsed": true
   },
   "outputs": [],
   "source": [
    "prob = ot_im_general(\n",
    "    m=[20, 10], n=[10, 30],\n",
    "    mw=[0., 2., 0., 1.], nw=[0., 1., 0., 2.],\n",
    "    mup_gen=samp_2d_mid(0., 2., 0., 1.),\n",
    "    nup_gen=samp_2d_mid(0., 1., 0., 2.),\n",
    "    mu_gen=val_norm_pdf([0.2, 0.8], [[0.2, 0.], [0., 0.2]]),\n",
    "    nu_gen=val_norm_pdf([0.8, 0.2], [[0.2, 0.], [0., 0.2]]),\n",
    "    dist=dist_2d_euc_2,\n",
    "    seed=1,\n",
    ")"
   ]
  },
  {
   "cell_type": "code",
   "execution_count": null,
   "metadata": {},
   "outputs": [],
   "source": [
    "solve_mosek_primal_simplex(prob)"
   ]
  },
  {
   "cell_type": "code",
   "execution_count": null,
   "metadata": {},
   "outputs": [],
   "source": [
    "fh.fast(prob.plot_mu_image)"
   ]
  },
  {
   "cell_type": "code",
   "execution_count": null,
   "metadata": {},
   "outputs": [],
   "source": [
    "fh.refresh()\n",
    "fh.subplot(1, 3, 1)\n",
    "prob.plot_mu_image(fh)\n",
    "fh.subplot(1, 3, 2)\n",
    "prob.plot_mu_image(fh, alpha=0.3)\n",
    "prob.plot_nu_image(fh, alpha=0.3)\n",
    "prob.plot_link(fh, aspect=\"equal\")\n",
    "fh.subplot(1, 3, 3)\n",
    "prob.plot_nu_image(fh)\n",
    "fh.show()\n",
    "fh.close()"
   ]
  },
  {
   "cell_type": "code",
   "execution_count": null,
   "metadata": {
    "collapsed": true
   },
   "outputs": [],
   "source": [
    "prob = ot_2d_random(500, 500, seed=1)"
   ]
  },
  {
   "cell_type": "code",
   "execution_count": null,
   "metadata": {},
   "outputs": [],
   "source": [
    "fh.fast(prob.plot_mu_scatter_plain)"
   ]
  },
  {
   "cell_type": "code",
   "execution_count": null,
   "metadata": {},
   "outputs": [],
   "source": [
    "solve_mosek_primal_simplex(prob)"
   ]
  },
  {
   "cell_type": "code",
   "execution_count": null,
   "metadata": {},
   "outputs": [],
   "source": [
    "fh.fast(prob.plot_link)"
   ]
  },
  {
   "cell_type": "code",
   "execution_count": null,
   "metadata": {},
   "outputs": [],
   "source": [
    "prob = ot_im_dotmark(7, 32, seed=1, log=fh.write)"
   ]
  },
  {
   "cell_type": "code",
   "execution_count": null,
   "metadata": {},
   "outputs": [],
   "source": [
    "fh.fast(prob.plot_mu_image)\n",
    "fh.fast(prob.plot_nu_image)"
   ]
  },
  {
   "cell_type": "code",
   "execution_count": null,
   "metadata": {},
   "outputs": [],
   "source": [
    "solve_mosek_primal_simplex(prob)"
   ]
  },
  {
   "cell_type": "code",
   "execution_count": null,
   "metadata": {},
   "outputs": [],
   "source": [
    "fh.fast(prob.plot_link, aspect=\"equal\")"
   ]
  },
  {
   "cell_type": "code",
   "execution_count": null,
   "metadata": {
    "collapsed": true
   },
   "outputs": [],
   "source": [
    "# !ConvertEnd*"
   ]
  },
  {
   "cell_type": "code",
   "execution_count": null,
   "metadata": {
    "collapsed": true
   },
   "outputs": [],
   "source": []
  }
 ],
 "metadata": {
  "kernelspec": {
   "display_name": "Python 3",
   "language": "python",
   "name": "python3"
  },
  "language_info": {
   "codemirror_mode": {
    "name": "ipython",
    "version": 3
   },
   "file_extension": ".py",
   "mimetype": "text/x-python",
   "name": "python",
   "nbconvert_exporter": "python",
   "pygments_lexer": "ipython3",
   "version": "3.6.2"
  }
 },
 "nbformat": 4,
 "nbformat_minor": 2
}
