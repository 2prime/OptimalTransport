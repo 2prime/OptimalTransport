{
 "cells": [
  {
   "cell_type": "code",
   "execution_count": null,
   "metadata": {
    "collapsed": true
   },
   "outputs": [],
   "source": [
    "# !Convert*solve_mosek.py*w*sh*"
   ]
  },
  {
   "cell_type": "code",
   "execution_count": null,
   "metadata": {
    "collapsed": true
   },
   "outputs": [],
   "source": [
    "import time\n",
    "\n",
    "import numpy\n",
    "\n",
    "import mosek\n",
    "\n",
    "from utils import *"
   ]
  },
  {
   "cell_type": "code",
   "execution_count": null,
   "metadata": {
    "collapsed": true
   },
   "outputs": [],
   "source": [
    "def mosek_set_model(p, task):\n",
    "    m, n = p.c.shape\n",
    "    \n",
    "    inf = 0.\n",
    "    \n",
    "    task.appendvars(m*n)\n",
    "    task.appendcons(m+n)\n",
    "    \n",
    "    task.putvarboundlist(\n",
    "        range(m*n),\n",
    "        [mosek.boundkey.lo]*(m*n),\n",
    "        [0.]*(m*n),\n",
    "        [inf]*(m*n)\n",
    "    )\n",
    "    \n",
    "    for i in range(m):\n",
    "        task.putarow(\n",
    "            i,\n",
    "            range(i*n, (i+1)*n),\n",
    "            [1.]*n\n",
    "        )\n",
    "    task.putconboundlist(\n",
    "        range(0, m),\n",
    "        [mosek.boundkey.fx]*m,\n",
    "        p.mu,\n",
    "        p.mu\n",
    "    )\n",
    "    \n",
    "    for i in range(n):\n",
    "        task.putarow(\n",
    "            i+m,\n",
    "            range(i, i+m*n, n),\n",
    "            [1.]*m\n",
    "        )\n",
    "    task.putconboundlist(\n",
    "        range(m, m+n),\n",
    "        [mosek.boundkey.fx]*n,\n",
    "        p.nu,\n",
    "        p.nu\n",
    "    )\n",
    "    \n",
    "    task.putclist(range(m*n), p.c.reshape(m*n))\n",
    "    \n",
    "    task.putobjsense(mosek.objsense.minimize)\n",
    "\n",
    "def solve_mosek(\n",
    "    p,\n",
    "    mtd=None, sol=None, var=None, it=None,\n",
    "    log=None, stat=False,\n",
    "    *args, **kwargs\n",
    "):\n",
    "    m, n = p.c.shape\n",
    "    \n",
    "    if stat:\n",
    "        start_time = time.time()\n",
    "    \n",
    "    with mosek.Env() as env:\n",
    "        env.set_Stream(mosek.streamtype.log, log)\n",
    "        \n",
    "        with env.Task() as task:\n",
    "            task.set_Stream(mosek.streamtype.log, log)\n",
    "            \n",
    "            task.putintparam(mosek.iparam.optimizer, mtd)\n",
    "            \n",
    "            mosek_set_model(p, task)\n",
    "            \n",
    "            if stat:\n",
    "                end_time = time.time()\n",
    "            \n",
    "            task.optimize()\n",
    "            \n",
    "            xx = [0.] * (m*n)\n",
    "            task.getxx(sol, xx)\n",
    "            \n",
    "            p.sol = numpy.array(xx).reshape(m, n)\n",
    "    \n",
    "            if stat:\n",
    "                setup_time = end_time - start_time\n",
    "                s = {\n",
    "                    \"loss\": task.getprimalobj(sol),\n",
    "                    \"vars\": task.getintinf(var),\n",
    "                    \"iters\": task.getintinf(it),\n",
    "                    \"setup\": setup_time,\n",
    "                    \"solve\": task.getdouinf(mosek.dinfitem.optimizer_time)\n",
    "                }\n",
    "                return p, s\n",
    "            else:\n",
    "                return p"
   ]
  },
  {
   "cell_type": "code",
   "execution_count": null,
   "metadata": {
    "collapsed": true
   },
   "outputs": [],
   "source": [
    "def solve_mosek_primal_simplex(p, *args, **kwargs):\n",
    "    return solve_mosek(\n",
    "        p,\n",
    "        mtd=mosek.optimizertype.primal_simplex,\n",
    "        sol=mosek.soltype.bas,\n",
    "        var=mosek.iinfitem.opt_numvar,\n",
    "        it=mosek.iinfitem.sim_primal_iter,\n",
    "        *args, **kwargs\n",
    "    )\n",
    "\n",
    "def solve_mosek_dual_simplex(p, *args, **kwargs):\n",
    "    return solve_mosek(\n",
    "        p,\n",
    "        mtd=mosek.optimizertype.dual_simplex,\n",
    "        sol=mosek.soltype.bas,\n",
    "        var=mosek.iinfitem.opt_numvar,\n",
    "        it=mosek.iinfitem.sim_dual_iter,\n",
    "        *args, **kwargs\n",
    "    )\n",
    "\n",
    "def solve_mosek_interior_point(p, *args, **kwargs):\n",
    "    return solve_mosek(\n",
    "        p,\n",
    "        mtd=mosek.optimizertype.intpnt,\n",
    "        sol=mosek.soltype.itr,\n",
    "        var=mosek.iinfitem.opt_numvar,\n",
    "        it=mosek.iinfitem.intpnt_iter,\n",
    "        *args, **kwargs\n",
    "    )"
   ]
  },
  {
   "cell_type": "code",
   "execution_count": null,
   "metadata": {
    "collapsed": true
   },
   "outputs": [],
   "source": [
    "# !ConvertEnd*"
   ]
  },
  {
   "cell_type": "code",
   "execution_count": null,
   "metadata": {
    "collapsed": true
   },
   "outputs": [],
   "source": [
    "# !Convert*solve_mosek_test.py*w*sehx*"
   ]
  },
  {
   "cell_type": "code",
   "execution_count": null,
   "metadata": {
    "collapsed": true
   },
   "outputs": [],
   "source": [
    "# !Switch*\n",
    "# !SwitchCase*\n",
    "# import font\n",
    "# from utils import *\n",
    "# from solve_mosek import solve_mosek_primal_simplex, solve_mosek_dual_simplex, solve_mosek_interior_point\n",
    "# !SwitchEnd*"
   ]
  },
  {
   "cell_type": "code",
   "execution_count": null,
   "metadata": {
    "collapsed": true
   },
   "outputs": [],
   "source": [
    "# !Switch*\n",
    "fh = FigureHandler(sav=False, ext=\".pdf\", log=print)\n",
    "# !SwitchCase*\n",
    "# fh = FigureHandler(sav=True, disp=False, ext=\".pgf\", log=print)\n",
    "# !SwitchEnd*"
   ]
  },
  {
   "cell_type": "code",
   "execution_count": null,
   "metadata": {
    "collapsed": true
   },
   "outputs": [],
   "source": [
    "prob = ot_2d_general(\n",
    "    m=500, n=500,\n",
    "    mup_gen=samp_2d_Caffarelli(0., 0., 1., 0.),\n",
    "    nup_gen=samp_2d_Caffarelli(0., 0., 1., 2.),\n",
    "    mu_gen=val_const(),\n",
    "    nu_gen=val_const(),\n",
    "    dist=dist_2d_euc_2,\n",
    ")"
   ]
  },
  {
   "cell_type": "code",
   "execution_count": null,
   "metadata": {},
   "outputs": [],
   "source": [
    "solve_mosek_primal_simplex(prob)"
   ]
  },
  {
   "cell_type": "code",
   "execution_count": null,
   "metadata": {},
   "outputs": [],
   "source": [
    "fh.fast(prob.plot_link, scale=30., cutoff=0.5)"
   ]
  },
  {
   "cell_type": "code",
   "execution_count": null,
   "metadata": {
    "collapsed": true
   },
   "outputs": [],
   "source": [
    "prob = ot_2d_general(\n",
    "    m=2000, n=2000,\n",
    "    mup_gen=samp_2d_Caffarelli(0., 0., 1., 0.),\n",
    "    nup_gen=samp_2d_Caffarelli(0., 0., 1., 4.),\n",
    "    mu_gen=val_const(),\n",
    "    nu_gen=val_const(),\n",
    "    dist=dist_2d_euc_2,\n",
    ")"
   ]
  },
  {
   "cell_type": "code",
   "execution_count": null,
   "metadata": {},
   "outputs": [],
   "source": [
    "print(\"Size = ({0}, {1})\".format(prob.mu.size, prob.nu.size))"
   ]
  },
  {
   "cell_type": "code",
   "execution_count": null,
   "metadata": {},
   "outputs": [],
   "source": [
    "solve_mosek_primal_simplex(prob, log=print, stat=True)"
   ]
  },
  {
   "cell_type": "code",
   "execution_count": null,
   "metadata": {},
   "outputs": [],
   "source": [
    "solve_mosek_dual_simplex(prob, log=print, stat=True)"
   ]
  },
  {
   "cell_type": "code",
   "execution_count": null,
   "metadata": {},
   "outputs": [],
   "source": [
    "solve_mosek_interior_point(prob, log=print, stat=True)"
   ]
  },
  {
   "cell_type": "code",
   "execution_count": null,
   "metadata": {
    "collapsed": true
   },
   "outputs": [],
   "source": [
    "# !ConvertEnd*"
   ]
  },
  {
   "cell_type": "code",
   "execution_count": null,
   "metadata": {
    "collapsed": true
   },
   "outputs": [],
   "source": []
  }
 ],
 "metadata": {
  "kernelspec": {
   "display_name": "Python 3",
   "language": "python",
   "name": "python3"
  },
  "language_info": {
   "codemirror_mode": {
    "name": "ipython",
    "version": 3
   },
   "file_extension": ".py",
   "mimetype": "text/x-python",
   "name": "python",
   "nbconvert_exporter": "python",
   "pygments_lexer": "ipython3",
   "version": "3.6.2"
  }
 },
 "nbformat": 4,
 "nbformat_minor": 2
}
