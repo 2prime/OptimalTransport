{
 "cells": [
  {
   "cell_type": "code",
   "execution_count": null,
   "metadata": {
    "collapsed": true
   },
   "outputs": [],
   "source": [
    "# !Convert*overall_test.py*w*sehx*"
   ]
  },
  {
   "cell_type": "code",
   "execution_count": null,
   "metadata": {
    "collapsed": true
   },
   "outputs": [],
   "source": [
    "# !Switch*\n",
    "# !SwitchCase*\n",
    "# import font\n",
    "# !SwitchEnd*\n",
    "from utils import *\n",
    "from solver_mosek import solve_mosek_primal_simplex, solve_mosek_dual_simplex, solve_mosek_interior_point\n",
    "from solver_gurobi import solve_gurobi_primal_simplex, solve_gurobi_dual_simplex, solve_gurobi_barrier\n",
    "from first_ADMM_primal import solve_ADMM_primal\n",
    "from first_ADMM_dual import solve_ADMM_dual\n",
    "from first_ALM_primal import solve_ALM_primal"
   ]
  },
  {
   "cell_type": "code",
   "execution_count": null,
   "metadata": {
    "collapsed": true
   },
   "outputs": [],
   "source": [
    "# !Switch*\n",
    "fh = FigureHandler(sav=False, log=print)\n",
    "# !SwitchCase*\n",
    "# fh = FigureHandler(sav=True, disp=False, ext=\".pgf\", log=print)\n",
    "# !SwitchEnd*"
   ]
  },
  {
   "cell_type": "code",
   "execution_count": null,
   "metadata": {
    "collapsed": true
   },
   "outputs": [],
   "source": [
    "# !Switch*\n",
    "stat = Statistics(\n",
    "    probs=[\n",
    "        ot_2d_general(\n",
    "            m=500, n=500,\n",
    "            mup_gen=samp_2d_Caffarelli(0., 0., 1., 0.),\n",
    "            nup_gen=samp_2d_Caffarelli(0., 0., 1., 2.),\n",
    "            mu_gen=val_const(),\n",
    "            nu_gen=val_const(),\n",
    "            dist=dist_2d_euc_2,\n",
    "        ) for i in range(3)\n",
    "    ],\n",
    "    merge_config=general_merge_config,\n",
    "    output_config=general_output_config,\n",
    "    prob=\"Caffarelli 500*500\",\n",
    ")\n",
    "# !SwitchCase*\n",
    "# stat = Statistics(\n",
    "#     probs=[\n",
    "#         ot_2d_general(\n",
    "#             m=2000, n=2000,\n",
    "#             mup_gen=samp_2d_Caffarelli(0., 0., 1., 0.),\n",
    "#             nup_gen=samp_2d_Caffarelli(0., 0., 1., 2.),\n",
    "#             mu_gen=val_const(),\n",
    "#             nu_gen=val_const(),\n",
    "#             dist=dist_2d_euc_2,\n",
    "#         ) for i in range(3)\n",
    "#     ],\n",
    "#     merge_config=general_merge_config,\n",
    "#     output_config=general_output_config,\n",
    "#     prob=\"Caffarelli 2000*2000\",\n",
    "# )\n",
    "# !SwitchEnd*"
   ]
  },
  {
   "cell_type": "code",
   "execution_count": null,
   "metadata": {},
   "outputs": [],
   "source": [
    "stat.set_objx(solve_mosek_interior_point, prog=print)"
   ]
  },
  {
   "cell_type": "code",
   "execution_count": null,
   "metadata": {},
   "outputs": [],
   "source": [
    "stat.test(solve_mosek_primal_simplex, memory=True, prog=print)\n",
    "stat.output_last()"
   ]
  },
  {
   "cell_type": "code",
   "execution_count": null,
   "metadata": {
    "scrolled": false
   },
   "outputs": [],
   "source": [
    "stat.test(solve_mosek_dual_simplex, memory=True, prog=print)\n",
    "stat.output_last()"
   ]
  },
  {
   "cell_type": "code",
   "execution_count": null,
   "metadata": {},
   "outputs": [],
   "source": [
    "stat.test(solve_mosek_interior_point, memory=True, prog=print)\n",
    "stat.output_last()"
   ]
  },
  {
   "cell_type": "code",
   "execution_count": null,
   "metadata": {},
   "outputs": [],
   "source": [
    "stat.test(solve_gurobi_primal_simplex, memory=True, prog=print)\n",
    "stat.output_last()"
   ]
  },
  {
   "cell_type": "code",
   "execution_count": null,
   "metadata": {},
   "outputs": [],
   "source": [
    "stat.test(solve_gurobi_dual_simplex, memory=True, prog=print)\n",
    "stat.output_last()"
   ]
  },
  {
   "cell_type": "code",
   "execution_count": null,
   "metadata": {},
   "outputs": [],
   "source": [
    "stat.test(solve_gurobi_barrier, memory=True, prog=print)\n",
    "stat.output_last()"
   ]
  },
  {
   "cell_type": "code",
   "execution_count": null,
   "metadata": {},
   "outputs": [],
   "source": [
    "stat.test(\n",
    "    solve_ADMM_primal,\n",
    "    its=[6000],\n",
    "    rhos=[3.],\n",
    "    alphas=[1.618],\n",
    "    epss=[5e-6],\n",
    "    memory=True, prog=print,\n",
    ")\n",
    "stat.output_last()"
   ]
  },
  {
   "cell_type": "code",
   "execution_count": null,
   "metadata": {},
   "outputs": [],
   "source": [
    "stat.test(\n",
    "    solve_ADMM_primal,\n",
    "    its=[1000],\n",
    "    rhos=[3.],\n",
    "    alphas=[1.618],\n",
    "    epss=[1e-4],\n",
    "    memory=True, prog=print,\n",
    ")\n",
    "stat.output_last()"
   ]
  },
  {
   "cell_type": "code",
   "execution_count": null,
   "metadata": {},
   "outputs": [],
   "source": [
    "stat.test(\n",
    "    solve_ADMM_dual,\n",
    "    its=[8000],\n",
    "    rhos=[0.1],\n",
    "    alphas=[1.618],\n",
    "    epss=[1e-3],\n",
    "    memory=True, prog=print,\n",
    ")\n",
    "stat.output_last()"
   ]
  },
  {
   "cell_type": "code",
   "execution_count": null,
   "metadata": {},
   "outputs": [],
   "source": [
    "stat.test(\n",
    "    solve_ALM_primal,\n",
    "    its=[1000, 3000],\n",
    "    rhos=[0.3, 1.],\n",
    "    lrs=[0.01, 0.001],\n",
    "    epss=[1e-3, 3e-4],\n",
    ")\n",
    "stat.output_last()"
   ]
  },
  {
   "cell_type": "code",
   "execution_count": null,
   "metadata": {
    "collapsed": true
   },
   "outputs": [],
   "source": [
    "# !ConvertEnd*"
   ]
  },
  {
   "cell_type": "code",
   "execution_count": null,
   "metadata": {
    "collapsed": true
   },
   "outputs": [],
   "source": []
  }
 ],
 "metadata": {
  "kernelspec": {
   "display_name": "Python 3",
   "language": "python",
   "name": "python3"
  },
  "language_info": {
   "codemirror_mode": {
    "name": "ipython",
    "version": 3
   },
   "file_extension": ".py",
   "mimetype": "text/x-python",
   "name": "python",
   "nbconvert_exporter": "python",
   "pygments_lexer": "ipython3",
   "version": "3.6.2"
  }
 },
 "nbformat": 4,
 "nbformat_minor": 2
}
