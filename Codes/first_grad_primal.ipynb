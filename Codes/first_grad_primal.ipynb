{
 "cells": [
  {
   "cell_type": "code",
   "execution_count": null,
   "metadata": {
    "collapsed": true
   },
   "outputs": [],
   "source": [
    "# !Convert*first_grad_primal.py*w*sh*"
   ]
  },
  {
   "cell_type": "code",
   "execution_count": null,
   "metadata": {
    "collapsed": true
   },
   "outputs": [],
   "source": [
    "import numpy\n",
    "\n",
    "from utils import *"
   ]
  },
  {
   "cell_type": "code",
   "execution_count": null,
   "metadata": {
    "collapsed": true
   },
   "outputs": [],
   "source": [
    "def init(m, n, s_refine, scale, refine=False):\n",
    "    if refine:\n",
    "        s = s_refine * scale\n",
    "        s_old = s\n",
    "    else:\n",
    "        s = numpy.zeros((m, n))\n",
    "        s_old = s\n",
    "    \n",
    "    return s, s_old"
   ]
  },
  {
   "cell_type": "code",
   "execution_count": null,
   "metadata": {
    "collapsed": true
   },
   "outputs": [],
   "source": [
    "def update(m, n, mu, nu, c, s, j, pi0, pi1, pi2, lr):\n",
    "    k = s + lr * ((pi1 * mu).reshape((m, 1)) + (pi2 * nu).reshape((1, n)) - c)\n",
    "    \n",
    "    s = (\n",
    "          k\n",
    "        - (pi1*lr / (1 + pi1*lr * n) * (k.sum(axis=1) - pi2*lr / (1 + pi1*lr * n + pi2*lr * m) * k.sum())).reshape((m, 1))\n",
    "        - (pi2*lr / (1 + pi2*lr * m) * (k.sum(axis=0) - pi1*lr / (1 + pi1*lr * n + pi2*lr * m) * k.sum())).reshape((1, n))\n",
    "    )\n",
    "    \n",
    "    s = numpy.maximum(s, 0.) + numpy.minimum(s + pi0 * lr, 0.)\n",
    "    \n",
    "    return s"
   ]
  },
  {
   "cell_type": "code",
   "execution_count": null,
   "metadata": {
    "collapsed": true
   },
   "outputs": [],
   "source": [
    "def update_nesterov(m, n, mu, nu, c, s, s_old, j, pi0, pi1, pi2, lr):\n",
    "    t = s + (j - 1) / (j + 2) * (s - s_old)\n",
    "    s_old = s\n",
    "    \n",
    "    k = t + lr * ((pi1 * mu).reshape((m, 1)) + (pi2 * nu).reshape((1, n)) - c)\n",
    "    \n",
    "    s = (\n",
    "          k\n",
    "        - (pi1*lr / (1 + pi1*lr * n) * (k.sum(axis=1) - pi2*lr / (1 + pi1*lr * n + pi2*lr * m) * k.sum())).reshape((m, 1))\n",
    "        - (pi2*lr / (1 + pi2*lr * m) * (k.sum(axis=0) - pi1*lr / (1 + pi1*lr * n + pi2*lr * m) * k.sum())).reshape((1, n))\n",
    "    )\n",
    "    \n",
    "    s = numpy.maximum(s, 0.) + numpy.minimum(s + pi0 * lr, 0.)\n",
    "    \n",
    "    return s, s_old"
   ]
  },
  {
   "cell_type": "code",
   "execution_count": null,
   "metadata": {
    "collapsed": true
   },
   "outputs": [],
   "source": [
    "def solve_grad_primal(\n",
    "    p,\n",
    "    scale=None, its=[], pi0s=[], pi1s=[], pi2s=[], lrs=[], nests=None, pures=None, epss=None, min_its=None,\n",
    "    refine=False, fh=None, figs={}, log=None, stat=False,\n",
    "    *args, **kwargs\n",
    "):\n",
    "    m, n = p.c.shape\n",
    "    \n",
    "    if scale is None:\n",
    "        scale = math.sqrt(m * n)\n",
    "    \n",
    "    mu, nu = scale*p.mu, scale*p.nu\n",
    "    c = p.c\n",
    "    \n",
    "    if fh is not None:\n",
    "        if \"error\" in figs:\n",
    "            error_mu = []\n",
    "            error_nu = []\n",
    "        if \"loss\" in figs:\n",
    "            loss = []\n",
    "    \n",
    "    s, s_old = init(m, n, p.s, scale, refine)\n",
    "    \n",
    "    l = len(its)\n",
    "    itc = 0\n",
    "    \n",
    "    for i in range(l):\n",
    "        for j in range(its[i]):\n",
    "            if nests is None or nests[i] == True:\n",
    "                s, s_old = update_nesterov(m, n, mu, nu, c, s, s_old, j, pi0s[i], pi1s[i], pi2s[i], lrs[i])\n",
    "            else:\n",
    "                s = update(m, n, mu, nu, c, s, j, pi0s[i], pi1s[i], pi2s[i], lrs[i])\n",
    "\n",
    "            itc += 1\n",
    "\n",
    "            if fh is not None:\n",
    "                if \"error\" in figs:\n",
    "                    error_mu.append(numpy.linalg.norm(s.sum(axis=1) - mu, numpy.infty) / scale * m)\n",
    "                    error_nu.append(numpy.linalg.norm(s.sum(axis=0) - nu, numpy.infty) / scale * n)\n",
    "                if \"loss\" in figs:\n",
    "                    loss.append((c * s).sum() / scale)\n",
    "\n",
    "            if epss is not None:\n",
    "                if (\n",
    "                        numpy.linalg.norm(s.sum(axis=1) - mu, numpy.infty) / scale * m < epss[i]\n",
    "                    and numpy.linalg.norm(s.sum(axis=0) - nu, numpy.infty) / scale * n < epss[i]\n",
    "                ):\n",
    "                    if min_its is None or j > min_its[i]:\n",
    "                        break\n",
    "                    \n",
    "            if log is not None:\n",
    "                log(\"i, j, itc = {0}, {1}, {2}\".format(i, j, itc))\n",
    "    \n",
    "    p.s = s / scale\n",
    "    \n",
    "    if fh is not None:\n",
    "        if \"error\" in figs:\n",
    "            fh.new(1, 1, 1)\n",
    "            fh.ax.semilogy(numpy.array(error_mu), label=\"Error of mu\")\n",
    "            fh.ax.semilogy(numpy.array(error_nu), label=\"Error of nu\")\n",
    "            fh.ax.legend()\n",
    "            fh.show()\n",
    "            fh.close()\n",
    "        if \"loss\" in figs:\n",
    "            fh.new(1, 1, 1)\n",
    "            fh.ax.plot(numpy.array(loss), label=\"Loss\")\n",
    "            fh.ax.legend()\n",
    "            fh.show()\n",
    "            fh.close()\n",
    "    \n",
    "    if stat:\n",
    "        s = {\n",
    "            \"title\": \"2-step proximal gradient on primal\",\n",
    "            \"loss\": (c * s).sum() / scale,\n",
    "            \"vars\": 2*m*n,\n",
    "            \"iters\": itc,\n",
    "        }\n",
    "        return p, s\n",
    "    else:\n",
    "        return p"
   ]
  },
  {
   "cell_type": "code",
   "execution_count": null,
   "metadata": {
    "collapsed": true
   },
   "outputs": [],
   "source": [
    "def solve_combine(\n",
    "    p,\n",
    "    cfgs,\n",
    "    *args, **kwargs\n",
    "):\n",
    "    l = len(cfgs)\n",
    "    \n",
    "    cfgs[0][\"func\"](p, *cfgs[0][\"args\"], *args, clean=False, **cfgs[0][\"kwargs\"], **kwargs)\n",
    "    for i in range(1, l-1):\n",
    "        cfgs[i][\"func\"](p, *cfgs[i][\"args\"], *args, clean=False, refine=True, **cfgs[i][\"kwargs\"], **kwargs)\n",
    "    return cfgs[-1][\"func\"](p, *cfgs[-1][\"args\"], *args, refine=True, **cfgs[-1][\"kwargs\"], **kwargs)"
   ]
  },
  {
   "cell_type": "code",
   "execution_count": null,
   "metadata": {
    "collapsed": true
   },
   "outputs": [],
   "source": [
    "# !ConvertEnd*"
   ]
  },
  {
   "cell_type": "code",
   "execution_count": null,
   "metadata": {
    "collapsed": true
   },
   "outputs": [],
   "source": [
    "# !Convert*first_grad_primal_test.py*w*sehx*"
   ]
  },
  {
   "cell_type": "code",
   "execution_count": null,
   "metadata": {
    "collapsed": true
   },
   "outputs": [],
   "source": [
    "# !Switch*\n",
    "# !SwitchCase*\n",
    "# import font\n",
    "# from utils import *\n",
    "# from first_grad_primal import solve_grad_primal, solve_combine\n",
    "# !SwitchEnd*"
   ]
  },
  {
   "cell_type": "code",
   "execution_count": null,
   "metadata": {
    "collapsed": true
   },
   "outputs": [],
   "source": [
    "# !Switch*\n",
    "fh = FigureHandler(sav=False, log=print)\n",
    "# !SwitchCase*\n",
    "# fh = FigureHandler(sav=True, disp=False, ext=\".pgf\", log=print)\n",
    "# !SwitchEnd*"
   ]
  },
  {
   "cell_type": "code",
   "execution_count": null,
   "metadata": {
    "collapsed": true
   },
   "outputs": [],
   "source": [
    "stat = Statistics(\n",
    "    probs=[\n",
    "        ot_2d_general(\n",
    "            m=500, n=500,\n",
    "            mup_gen=samp_2d_Caffarelli(0., 0., 1., 0.),\n",
    "            nup_gen=samp_2d_Caffarelli(0., 0., 1., 2.),\n",
    "            mu_gen=val_const(),\n",
    "            nu_gen=val_const(),\n",
    "            dist=dist_2d_euc_2,\n",
    "        )\n",
    "    ],\n",
    "    merge_config=general_merge_config,\n",
    "    output_config=general_output_config,\n",
    "    prob=\"Test problems\",\n",
    ")"
   ]
  },
  {
   "cell_type": "code",
   "execution_count": null,
   "metadata": {
    "collapsed": true
   },
   "outputs": [],
   "source": [
    "stat.test(\n",
    "    solve_grad_primal,\n",
    "    its=[200, 100, 200, 100, 200],\n",
    "    pi0s=[10., 10., 10., 10., 10.],\n",
    "    pi1s=[10., 10., 100., 100., 1000.],\n",
    "    pi2s=[10., 10., 100., 100., 1000.],\n",
    "    lrs=[1e-4, 1e-5, 1e-5, 1e-6, 1e-6],\n",
    "    fh=fh, figs={\"error\", \"loss\"},\n",
    "    clean=False,\n",
    ")\n",
    "stat.output_last()"
   ]
  },
  {
   "cell_type": "code",
   "execution_count": null,
   "metadata": {
    "collapsed": true
   },
   "outputs": [],
   "source": [
    "stat.test(\n",
    "    solve_grad_primal,\n",
    "    its=[100, 200, 100, 200],\n",
    "    pi0s=[10., 10., 10., 10.],\n",
    "    pi1s=[1000., 10000., 10000., 100000.],\n",
    "    pi2s=[1000., 10000., 10000., 100000.],\n",
    "    lrs=[1e-7, 1e-7, 1e-8, 1e-8],\n",
    "    fh=fh, figs={\"error\", \"loss\"},\n",
    "    refine=True,\n",
    ")\n",
    "stat.output_last()"
   ]
  },
  {
   "cell_type": "code",
   "execution_count": null,
   "metadata": {
    "collapsed": true
   },
   "outputs": [],
   "source": [
    "from solver_mosek import solve_mosek_interior_point"
   ]
  },
  {
   "cell_type": "code",
   "execution_count": null,
   "metadata": {
    "collapsed": true
   },
   "outputs": [],
   "source": [
    "stat.test(\n",
    "    solve_mosek_interior_point,\n",
    ")\n",
    "stat.output_last()"
   ]
  },
  {
   "cell_type": "code",
   "execution_count": null,
   "metadata": {
    "collapsed": true
   },
   "outputs": [],
   "source": [
    "from first_ADMM_primal import solve_ADMM_primal"
   ]
  },
  {
   "cell_type": "code",
   "execution_count": null,
   "metadata": {
    "collapsed": true
   },
   "outputs": [],
   "source": [
    "stat.test(\n",
    "    solve_ADMM_primal,\n",
    "    its=[1000],\n",
    "    rhos=[3.],\n",
    "    alphas=[1.618],\n",
    "    epss=[1e-4],\n",
    "    fh=fh, figs={\"error\", \"loss\"},\n",
    "    clean=False,\n",
    ")\n",
    "stat.output_last()"
   ]
  },
  {
   "cell_type": "code",
   "execution_count": null,
   "metadata": {
    "collapsed": true
   },
   "outputs": [],
   "source": [
    "stat.test(\n",
    "    solve_grad_primal,\n",
    "    its=[2000],\n",
    "    pi0s=[100.],\n",
    "    pi1s=[10000.],\n",
    "    pi2s=[10000.],\n",
    "    lrs=[1e-7],\n",
    "    fh=fh, figs={\"error\", \"loss\"},\n",
    "    refine=True,\n",
    ")\n",
    "stat.output_last()"
   ]
  },
  {
   "cell_type": "code",
   "execution_count": null,
   "metadata": {
    "collapsed": true
   },
   "outputs": [],
   "source": [
    "stat.test(\n",
    "    solve_combine,\n",
    "    cfgs=[\n",
    "        {\n",
    "            \"func\": solve_ADMM_primal,\n",
    "            \"args\": (),\n",
    "            \"kwargs\": dict(\n",
    "                its=[1000],\n",
    "                rhos=[3.],\n",
    "                alphas=[1.618],\n",
    "                epss=[1e-4],\n",
    "            )\n",
    "        },\n",
    "        {\n",
    "            \"func\": solve_grad_primal,\n",
    "            \"args\": (),\n",
    "            \"kwargs\": dict(\n",
    "                its=[2000],\n",
    "                pi0s=[100.],\n",
    "                pi1s=[10000.],\n",
    "                pi2s=[10000.],\n",
    "                lrs=[1e-7],\n",
    "            )\n",
    "        },\n",
    "    ],\n",
    "    fh=fh, figs={\"error\", \"loss\"},\n",
    ")\n",
    "stat.output_last()"
   ]
  },
  {
   "cell_type": "code",
   "execution_count": null,
   "metadata": {
    "collapsed": true
   },
   "outputs": [],
   "source": [
    "# !ConvertEnd*"
   ]
  },
  {
   "cell_type": "code",
   "execution_count": null,
   "metadata": {
    "collapsed": true
   },
   "outputs": [],
   "source": []
  }
 ],
 "metadata": {
  "kernelspec": {
   "display_name": "Python 3",
   "language": "python",
   "name": "python3"
  },
  "language_info": {
   "codemirror_mode": {
    "name": "ipython",
    "version": 3
   },
   "file_extension": ".py",
   "mimetype": "text/x-python",
   "name": "python",
   "nbconvert_exporter": "python",
   "pygments_lexer": "ipython3",
   "version": "3.6.2"
  }
 },
 "nbformat": 4,
 "nbformat_minor": 2
}
