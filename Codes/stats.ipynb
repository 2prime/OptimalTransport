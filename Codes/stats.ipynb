{
 "cells": [
  {
   "cell_type": "code",
   "execution_count": null,
   "metadata": {
    "collapsed": true
   },
   "outputs": [],
   "source": [
    "# !Convert*stats.py*w*sh*"
   ]
  },
  {
   "cell_type": "code",
   "execution_count": null,
   "metadata": {
    "collapsed": true
   },
   "outputs": [],
   "source": [
    "import time\n",
    "import statistics\n",
    "import gc\n",
    "\n",
    "import numpy\n",
    "\n",
    "from memory_profiler import memory_usage"
   ]
  },
  {
   "cell_type": "code",
   "execution_count": null,
   "metadata": {
    "collapsed": true
   },
   "outputs": [],
   "source": [
    "def relative_error(u, v):\n",
    "    return numpy.linalg.norm(u - v) / numpy.linalg.norm(u)"
   ]
  },
  {
   "cell_type": "code",
   "execution_count": null,
   "metadata": {
    "collapsed": true
   },
   "outputs": [],
   "source": [
    "general_merge_config = {\n",
    "    \"prob\": \"first\",\n",
    "    \"title\": \"first\",\n",
    "    \"name\": \"first\",\n",
    "    \"size\": \"list\",\n",
    "    \"time\": \"mean+-stdev~list\",\n",
    "    \"setup\": \"mean+-stdev\",\n",
    "    \"solve\": \"mean+-stdev\",\n",
    "    \"memory\": \"mean+-stdev\",\n",
    "    \"vars\": \"list\",\n",
    "    \"iters\": \"list\",\n",
    "    \"loss\": \"mean+-stdev\",\n",
    "    \"check\": \"mean+-stdev~list\",\n",
    "    \"neg\": \"mean+-stdev~list\",\n",
    "    \"error_mu\": \"mean+-stdev~list\",\n",
    "    \"error_nu\": \"mean+-stdev~list\",\n",
    "    \"error_sx\": \"mean+-stdev\",\n",
    "    \"error_objx\": \"mean+-stdev~list\",\n",
    "}"
   ]
  },
  {
   "cell_type": "code",
   "execution_count": null,
   "metadata": {
    "collapsed": true
   },
   "outputs": [],
   "source": [
    "general_output_config = {\n",
    "    \"prob\": [\"Problem\", \"{}\"],\n",
    "    \"title\": [\"Title\", \"{}\"],\n",
    "    \"name\": [\"Function name\", \"{}\"],\n",
    "    \"size\": [\"Problem size\", \"{}\"],\n",
    "    \"time\": [\"Time\", \"{0[0]:.5f}+-{0[1]:.5f}~{0[2]}\"],\n",
    "    \"setup\": [\"Setup time\", \"{0[0]:.5f}+-{0[1]:.5f}\"],\n",
    "    \"solve\": [\"Solve time\", \"{0[0]:.5f}+-{0[1]:.5f}\"],\n",
    "    \"memory\": [\"Memory usage\", \"{0[0]:.5f}+-{0[1]:.5f}\"],\n",
    "    \"vars\": [\"Variables\", \"{}\"],\n",
    "    \"iters\": [\"Average iterations\", \"{}\"],\n",
    "    \"loss\": [\"Loss\", \"{0[0]:.7e}+-{0[1]:.7e}\"],\n",
    "    \"check\": [\"Check loss\", \"{0[0]:.7e}+-{0[1]:.7e}~{0[2]}\"],\n",
    "    \"neg\": [\"Negative part of solution\", \"{0[0]:.7e}+-{0[1]:.7e}~{0[2]}\"],\n",
    "    \"error_mu\": [\"Normalized error of mu\", \"{0[0]:.7e}+-{0[1]:.7e}~{0[2]}\"],\n",
    "    \"error_nu\": [\"Normalized error of nu\", \"{0[0]:.7e}+-{0[1]:.7e}~{0[2]}\"],\n",
    "    \"error_sx\": [\"Relative error to known solution\", \"{0[0]:.7e}+-{0[1]:.7e}\"],\n",
    "    \"error_objx\": [\"Relative error to known Wasserstein distance\", \"{0[0]:.7e}+-{0[1]:.7e}~{0[2]}\"],\n",
    "}"
   ]
  },
  {
   "cell_type": "code",
   "execution_count": null,
   "metadata": {
    "collapsed": true
   },
   "outputs": [],
   "source": [
    "def merge_stats(stats, config):\n",
    "    d = {}\n",
    "    for k, m in config.items():\n",
    "        if k not in stats[0].keys():\n",
    "            continue\n",
    "        if m == \"mean\":\n",
    "            d[k] = statistics.mean(s[k] for s in stats)\n",
    "        elif m == \"stdev\":\n",
    "            d[k] = statistics.stdev(s[k] for s in stats)\n",
    "        elif m == \"mean+-stdev\":\n",
    "            if len(stats) == 1:\n",
    "                d[k] = [statistics.mean(s[k] for s in stats), 0.]\n",
    "            else:\n",
    "                d[k] = [statistics.mean(s[k] for s in stats), statistics.stdev(s[k] for s in stats)]\n",
    "        elif m == \"mean+-stdev~list\":\n",
    "            if len(stats) == 1:\n",
    "                d[k] = [statistics.mean(s[k] for s in stats), 0., [s[k] for s in stats]]\n",
    "            else:\n",
    "                d[k] = [statistics.mean(s[k] for s in stats), statistics.stdev(s[k] for s in stats), [s[k] for s in stats]]\n",
    "        elif m == \"first\":\n",
    "            d[k] = stats[0][k]\n",
    "        elif m == \"list\":\n",
    "            d[k] = [s[k] for s in stats]\n",
    "        elif m == \"set\":\n",
    "            d[k] = {s[k] for s in stats}\n",
    "    return d"
   ]
  },
  {
   "cell_type": "code",
   "execution_count": null,
   "metadata": {
    "collapsed": true
   },
   "outputs": [],
   "source": [
    "def format_output(res, config, log):\n",
    "    for k, v in config.items():\n",
    "        if k in res:\n",
    "            n = v[0]\n",
    "            rp = v[1].format(res[k])\n",
    "            log(\"{0}: {1}\".format(n, rp))"
   ]
  },
  {
   "cell_type": "code",
   "execution_count": null,
   "metadata": {
    "collapsed": true
   },
   "outputs": [],
   "source": [
    "class Statistics(object):\n",
    "    def __init__(\n",
    "        self,\n",
    "        probs=None,\n",
    "        merge_config=general_merge_config,\n",
    "        output_config=general_output_config,\n",
    "        prob=\"\",\n",
    "        log=print,\n",
    "    ):\n",
    "        self.len = len(probs)\n",
    "        self.probs = probs\n",
    "        self.merge_config = merge_config\n",
    "        self.output_config = output_config\n",
    "        self.prob = prob\n",
    "        self.log = log\n",
    "        self.stats = []\n",
    "        self.ress = []\n",
    "    \n",
    "    def set_sx(self, func, prog=False, *args, **kwargs):\n",
    "        for i in range(self.len):\n",
    "            if prog:\n",
    "                self.log(\"Setting {0}/{1}\".format(i, self.len))\n",
    "            func(self.probs[i], *args, **kwargs)\n",
    "            self.probs[i].set_sx()\n",
    "            self.probs[i].clean()\n",
    "    \n",
    "    def set_objx(self, func, prog=False, *args, **kwargs):\n",
    "        for i in range(self.len):\n",
    "            if prog:\n",
    "                self.log(\"Setting {0}/{1}\".format(i, self.len))\n",
    "            func(self.probs[i], *args, **kwargs)\n",
    "            self.probs[i].set_objx()\n",
    "            self.probs[i].clean()\n",
    "    \n",
    "    def test_piece(self, prob, func, title=\"\", memory=False, clean=True, *args, **kwargs):\n",
    "        m, n = prob.c.shape\n",
    "        \n",
    "        stat = None\n",
    "        \n",
    "        def run():\n",
    "            nonlocal prob, stat\n",
    "            prob, stat = func(prob, stat=True, *args, **kwargs)\n",
    "        \n",
    "        gc.collect()\n",
    "        \n",
    "        if memory:\n",
    "            start_mem_list = memory_usage()\n",
    "            start_mem = max(start_mem_list)\n",
    "        \n",
    "        start_time = time.time()\n",
    "        \n",
    "        if memory:\n",
    "            peak_mem_list = memory_usage(run)\n",
    "            peak_mem = max(peak_mem_list)\n",
    "        else:\n",
    "            run()\n",
    "        \n",
    "        end_time = time.time()\n",
    "        elapsed_time = end_time - start_time\n",
    "        \n",
    "        check_loss = numpy.sum(prob.s * prob.c)\n",
    "        neg = numpy.minimum(prob.s, 0.).sum()\n",
    "        error_mu = numpy.linalg.norm(prob.s.sum(axis=1) - prob.mu, 1)\n",
    "        error_nu = numpy.linalg.norm(prob.s.sum(axis=0) - prob.nu, 1)\n",
    "        \n",
    "        stat[\"prob\"] = self.prob\n",
    "        if title != \"\":\n",
    "            stat[\"title\"] = title\n",
    "        stat[\"name\"] = func.__name__\n",
    "        stat[\"time\"] = elapsed_time\n",
    "        if memory:\n",
    "            stat[\"memory\"] = peak_mem - start_mem\n",
    "        stat[\"check\"] = check_loss\n",
    "        stat[\"neg\"] = neg\n",
    "        stat[\"error_mu\"] = error_mu\n",
    "        stat[\"error_nu\"] = error_nu\n",
    "        if prob.sx is not None:\n",
    "            stat[\"error_sx\"] = relative_error(prob.sx, prob.s)\n",
    "        if prob.objx is not None:\n",
    "            stat[\"error_objx\"] = abs(check_loss - prob.objx) / prob.objx\n",
    "        \n",
    "        if clean:\n",
    "            prob.clean()\n",
    "        return stat\n",
    "    \n",
    "    def test(self, func, title=\"\", memory=False, prog=None, *args, **kwargs):\n",
    "        ss = []\n",
    "        for i in range(self.len):\n",
    "            if prog:\n",
    "                self.log(\"Testing {0}/{1}\".format(i, self.len))\n",
    "            s = self.test_piece(self.probs[i], func, title=title, memory=memory, *args, **kwargs)\n",
    "            ss.append(s)\n",
    "        r = merge_stats(ss, self.merge_config)\n",
    "        self.stats.append(ss)\n",
    "        self.ress.append(r)\n",
    "    \n",
    "    def clean_last(self):\n",
    "        for i in range(self.len):\n",
    "            self.probs[i].clean()\n",
    "    \n",
    "    def output_last(self):\n",
    "        format_output(self.ress[-1], self.output_config, self.log)"
   ]
  },
  {
   "cell_type": "code",
   "execution_count": null,
   "metadata": {
    "collapsed": true
   },
   "outputs": [],
   "source": [
    "# !ConvertEnd*"
   ]
  },
  {
   "cell_type": "code",
   "execution_count": null,
   "metadata": {
    "collapsed": true
   },
   "outputs": [],
   "source": [
    "# !Convert*stats_test.py*w*sehx*"
   ]
  },
  {
   "cell_type": "code",
   "execution_count": null,
   "metadata": {
    "collapsed": true
   },
   "outputs": [],
   "source": [
    "import mosek\n",
    "\n",
    "# !Switch*\n",
    "from handler import FigureHandler\n",
    "from dataset import ot_2d_Caffarelli\n",
    "# !SwitchCase*\n",
    "# import font\n",
    "# from handler import FigureHandler\n",
    "# from dataset import ot_2d_Caffarelli\n",
    "# from stats import *\n",
    "# !SwitchEnd*"
   ]
  },
  {
   "cell_type": "code",
   "execution_count": null,
   "metadata": {},
   "outputs": [],
   "source": [
    "# !Switch*\n",
    "fh = FigureHandler(redir=True)\n",
    "# !SwitchCase*\n",
    "# fh = FigureHandler(sav=True, disp=False, ext=\".pgf\", redir=True)\n",
    "# !SwitchEnd*"
   ]
  },
  {
   "cell_type": "code",
   "execution_count": null,
   "metadata": {
    "collapsed": true
   },
   "outputs": [],
   "source": [
    "import mosek\n",
    "\n",
    "def mosek_set_model(p, task):\n",
    "    m, n = p.c.shape\n",
    "    \n",
    "    inf = 0.\n",
    "    \n",
    "    task.appendvars(m*n)\n",
    "    task.appendcons(m+n)\n",
    "    \n",
    "    task.putvarboundlist(\n",
    "        range(m*n),\n",
    "        [mosek.boundkey.lo]*(m*n),\n",
    "        [0.]*(m*n),\n",
    "        [inf]*(m*n)\n",
    "    )\n",
    "    \n",
    "    for i in range(m):\n",
    "        task.putarow(\n",
    "            i,\n",
    "            range(i*n, (i+1)*n),\n",
    "            [1.]*n\n",
    "        )\n",
    "    task.putconboundlist(\n",
    "        range(0, m),\n",
    "        [mosek.boundkey.fx]*m,\n",
    "        p.mu,\n",
    "        p.mu\n",
    "    )\n",
    "    \n",
    "    for i in range(n):\n",
    "        task.putarow(\n",
    "            i+m,\n",
    "            range(i, i+m*n, n),\n",
    "            [1.]*m\n",
    "        )\n",
    "    task.putconboundlist(\n",
    "        range(m, m+n),\n",
    "        [mosek.boundkey.fx]*n,\n",
    "        p.nu,\n",
    "        p.nu\n",
    "    )\n",
    "    \n",
    "    task.putclist(range(m*n), p.c.reshape(m*n))\n",
    "    \n",
    "    task.putobjsense(mosek.objsense.minimize)\n",
    "\n",
    "def solve_mosek_primal_simplex(\n",
    "    p,\n",
    "    log=None, stat=False,\n",
    "    *args, **kwargs\n",
    "):\n",
    "    m, n = p.c.shape\n",
    "    \n",
    "    if stat:\n",
    "        start_time = time.time()\n",
    "    \n",
    "    with mosek.Env() as env:\n",
    "        env.set_Stream(mosek.streamtype.log, log)\n",
    "        \n",
    "        with env.Task() as task:\n",
    "            task.set_Stream(mosek.streamtype.log, log)\n",
    "            \n",
    "            task.putintparam(mosek.iparam.optimizer, mosek.optimizertype.primal_simplex)\n",
    "        \n",
    "            mosek_set_model(p, task)\n",
    "            \n",
    "            if stat:\n",
    "                end_time = time.time()\n",
    "            \n",
    "            task.optimize()\n",
    "            \n",
    "            xx = [0.] * (m*n)\n",
    "            task.getxx(mosek.soltype.bas, xx)\n",
    "            \n",
    "            p.s = numpy.array(xx).reshape(m, n)\n",
    "    \n",
    "            if stat:\n",
    "                setup_time = end_time - start_time\n",
    "                s = {\n",
    "                    \"loss\": task.getprimalobj(mosek.soltype.bas),\n",
    "                    \"vars\": task.getintinf(mosek.iinfitem.opt_numvar),\n",
    "                    \"iters\": task.getintinf(mosek.iinfitem.sim_primal_iter),\n",
    "                    \"setup\": setup_time,\n",
    "                    \"solve\": task.getdouinf(mosek.dinfitem.optimizer_time)\n",
    "                }\n",
    "                return p, s\n",
    "            else:\n",
    "                return p"
   ]
  },
  {
   "cell_type": "code",
   "execution_count": null,
   "metadata": {
    "collapsed": true
   },
   "outputs": [],
   "source": [
    "stat = Statistics(\n",
    "    probs=[\n",
    "        ot_2d_Caffarelli(500, 500, 1)\n",
    "    ],\n",
    "    merge_config=general_merge_config,\n",
    "    output_config=general_output_config,\n",
    "    prob=\"Test problems\",\n",
    "    log=fh.write,\n",
    ")"
   ]
  },
  {
   "cell_type": "code",
   "execution_count": null,
   "metadata": {},
   "outputs": [],
   "source": [
    "stat.set_sx(solve_mosek_primal_simplex, prog=fh.write)"
   ]
  },
  {
   "cell_type": "code",
   "execution_count": null,
   "metadata": {},
   "outputs": [],
   "source": [
    "stat.test(solve_mosek_primal_simplex, title=\"MOSEK, test\", memory=True, prog=fh.write, clean=False)\n",
    "stat.output_last()"
   ]
  },
  {
   "cell_type": "code",
   "execution_count": null,
   "metadata": {},
   "outputs": [],
   "source": [
    "fh.fast(stat.probs[0].plot_link, aspect=\"equal\")\n",
    "stat.clean_last()"
   ]
  },
  {
   "cell_type": "code",
   "execution_count": null,
   "metadata": {
    "collapsed": true
   },
   "outputs": [],
   "source": [
    "# !ConvertEnd*"
   ]
  },
  {
   "cell_type": "code",
   "execution_count": null,
   "metadata": {
    "collapsed": true
   },
   "outputs": [],
   "source": []
  }
 ],
 "metadata": {
  "kernelspec": {
   "display_name": "Python 3",
   "language": "python",
   "name": "python3"
  },
  "language_info": {
   "codemirror_mode": {
    "name": "ipython",
    "version": 3
   },
   "file_extension": ".py",
   "mimetype": "text/x-python",
   "name": "python",
   "nbconvert_exporter": "python",
   "pygments_lexer": "ipython3",
   "version": "3.6.2"
  }
 },
 "nbformat": 4,
 "nbformat_minor": 2
}
