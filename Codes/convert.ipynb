{
 "cells": [
  {
   "cell_type": "code",
   "execution_count": null,
   "metadata": {
    "collapsed": true
   },
   "outputs": [],
   "source": [
    "# !Convert*convert.py*w*sehx*"
   ]
  },
  {
   "cell_type": "code",
   "execution_count": null,
   "metadata": {
    "collapsed": true
   },
   "outputs": [],
   "source": [
    "import datetime\n",
    "import re\n",
    "\n",
    "import os\n",
    "import stat\n",
    "\n",
    "import nbformat\n",
    "from nbconvert import PythonExporter"
   ]
  },
  {
   "cell_type": "code",
   "execution_count": null,
   "metadata": {
    "collapsed": true
   },
   "outputs": [],
   "source": [
    "# !Switch*\n",
    "# !SwitchCase*\n",
    "# import argparse\n",
    "# !SwitchEnd*"
   ]
  },
  {
   "cell_type": "code",
   "execution_count": null,
   "metadata": {
    "collapsed": true
   },
   "outputs": [],
   "source": [
    "def shabang():\n",
    "    s = \"#! /usr/bin/env python\\n\"\n",
    "    return s"
   ]
  },
  {
   "cell_type": "code",
   "execution_count": null,
   "metadata": {
    "collapsed": true
   },
   "outputs": [],
   "source": [
    "def header():\n",
    "    t = datetime.datetime.now().isoformat()\n",
    "    r = \"# This file is created by convert at {} automatically\\n\".format(t)\n",
    "    return r"
   ]
  },
  {
   "cell_type": "code",
   "execution_count": null,
   "metadata": {},
   "outputs": [],
   "source": [
    "# !Switch*\n",
    "filename = input(\"Input the filename:\")\n",
    "# !SwitchCase*\n",
    "# parser = argparse.ArgumentParser(description=\"Convert .ipynb to .py according to specific marks\")\n",
    "# parser.add_argument(\"filename\", help=\"The file to be operated\")\n",
    "# args = parser.parse_args()\n",
    "# filename = args.filename\n",
    "# !SwitchEnd*"
   ]
  },
  {
   "cell_type": "code",
   "execution_count": null,
   "metadata": {
    "collapsed": true
   },
   "outputs": [],
   "source": [
    "with open(filename) as f:\n",
    "    nb = nbformat.reads(f.read(), nbformat.NO_CONVERT)"
   ]
  },
  {
   "cell_type": "code",
   "execution_count": null,
   "metadata": {
    "collapsed": true
   },
   "outputs": [],
   "source": [
    "exporter = PythonExporter()\n",
    "source, meta = exporter.from_notebook_node(nb)"
   ]
  },
  {
   "cell_type": "code",
   "execution_count": null,
   "metadata": {
    "collapsed": true
   },
   "outputs": [],
   "source": [
    "conv_re = re.compile(\"# !Convert\\*([^*\\n]*)\\*([^*\\n]*)\\*(?:([^*\\n]*)\\*)?\\n((?:.|\\n)*?)# !ConvertEnd\\*\\n\")"
   ]
  },
  {
   "cell_type": "code",
   "execution_count": null,
   "metadata": {
    "collapsed": true
   },
   "outputs": [],
   "source": [
    "switch_re = re.compile(\"(# !Switch\\*\\n(?:.|\\n)*?# !SwitchCase\\*\\n(?:.|\\n)*?# !SwitchEnd\\*\\n)\")\n",
    "case_re = re.compile(\"# !Switch\\*\\n((?:.|\\n)*?)# !SwitchCase\\*\\n((?:.|\\n)*?)# !SwitchEnd\\*\\n\")\n",
    "decom_re = re.compile(\"# (.*)\\n\")"
   ]
  },
  {
   "cell_type": "code",
   "execution_count": null,
   "metadata": {
    "collapsed": true
   },
   "outputs": [],
   "source": [
    "def switch(con):\n",
    "    spl = switch_re.split(con)\n",
    "    col = []\n",
    "    for s in spl:\n",
    "        mat = case_re.match(s)\n",
    "        if mat is not None:\n",
    "            s = decom_re.sub(\"\\\\1\\n\", mat.group(2))\n",
    "        col.append(s)\n",
    "    \n",
    "    ncon = \"\".join(col)\n",
    "    return ncon"
   ]
  },
  {
   "cell_type": "code",
   "execution_count": null,
   "metadata": {
    "collapsed": true
   },
   "outputs": [],
   "source": [
    "conv_full = conv_re.findall(source)"
   ]
  },
  {
   "cell_type": "code",
   "execution_count": null,
   "metadata": {
    "collapsed": true
   },
   "outputs": [],
   "source": [
    "for fn, flg, opt, con in conv_full:\n",
    "    with open(fn, flg) as f:\n",
    "        if \"e\" in opt:\n",
    "            f.writelines(shabang())\n",
    "        if \"h\" in opt:\n",
    "            f.writelines(header())\n",
    "        if \"s\" in opt:\n",
    "            con = switch(con)\n",
    "        f.writelines(con)\n",
    "    \n",
    "    if \"x\" in opt:\n",
    "        st = os.stat(fn)\n",
    "        os.chmod(fn, st.st_mode | stat.S_IXUSR |  stat.S_IXGRP | stat.S_IXOTH)"
   ]
  },
  {
   "cell_type": "code",
   "execution_count": null,
   "metadata": {
    "collapsed": true
   },
   "outputs": [],
   "source": [
    "# !ConvertEnd*"
   ]
  },
  {
   "cell_type": "code",
   "execution_count": null,
   "metadata": {
    "collapsed": true
   },
   "outputs": [],
   "source": []
  }
 ],
 "metadata": {
  "kernelspec": {
   "display_name": "Python 3",
   "language": "python",
   "name": "python3"
  },
  "language_info": {
   "codemirror_mode": {
    "name": "ipython",
    "version": 3
   },
   "file_extension": ".py",
   "mimetype": "text/x-python",
   "name": "python",
   "nbconvert_exporter": "python",
   "pygments_lexer": "ipython3",
   "version": "3.6.2"
  }
 },
 "nbformat": 4,
 "nbformat_minor": 2
}
