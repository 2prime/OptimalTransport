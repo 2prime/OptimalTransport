{
 "cells": [
  {
   "cell_type": "code",
   "execution_count": null,
   "metadata": {
    "collapsed": true
   },
   "outputs": [],
   "source": [
    "# !Convert*entropy_ADMM_primal.py*w*sh*"
   ]
  },
  {
   "cell_type": "code",
   "execution_count": null,
   "metadata": {
    "collapsed": true
   },
   "outputs": [],
   "source": [
    "import math\n",
    "\n",
    "import numpy"
   ]
  },
  {
   "cell_type": "code",
   "execution_count": null,
   "metadata": {
    "collapsed": true
   },
   "outputs": [],
   "source": [
    "def init(m, n):\n",
    "    s = numpy.zeros((m, n))\n",
    "    s_ = numpy.zeros((m, n))\n",
    "\n",
    "    e = numpy.zeros((m, n))\n",
    "    \n",
    "    lamda = numpy.zeros(m)\n",
    "    eta = numpy.zeros(n)\n",
    "    \n",
    "    return s, s_, e, lamda, eta"
   ]
  },
  {
   "cell_type": "code",
   "execution_count": null,
   "metadata": {
    "collapsed": true
   },
   "outputs": [],
   "source": [
    "def update(m, n, mu, nu, ubox, c, s, s_, e, lamda, eta, rho, alpha, gamma, delta):\n",
    "    k = (\n",
    "          (\n",
    "              e\n",
    "            + lamda.reshape((m, 1))\n",
    "            + eta.reshape((1, n))\n",
    "            - c\n",
    "            - gamma * numpy.log(delta + s_)\n",
    "          ) / rho\n",
    "        + mu.reshape((m, 1))\n",
    "        + nu.reshape((1, n))\n",
    "        + s_\n",
    "    )\n",
    "    \n",
    "    s = (\n",
    "          k\n",
    "        - ((k.sum(axis=1) - k.sum() / (m + n + 1)) / (n + 1)).reshape((m, 1))\n",
    "        - ((k.sum(axis=0) - k.sum() / (m + n + 1)) / (m + 1)).reshape((1, n))\n",
    "    )\n",
    "    \n",
    "    s_ = s - e / rho\n",
    "    s_ = numpy.maximum(s_, 0.)\n",
    "    if ubox is not None:\n",
    "        s_ = numpy.minimum(s_, ubox)\n",
    "    \n",
    "    lamda = lamda + alpha * rho * (mu - s.sum(axis=1))\n",
    "    \n",
    "    eta = eta + alpha * rho * (nu - s.sum(axis=0))\n",
    "    \n",
    "    e = e + alpha * rho * (s_ - s)\n",
    "    \n",
    "    return s, s_, e, lamda, eta"
   ]
  },
  {
   "cell_type": "code",
   "execution_count": null,
   "metadata": {
    "collapsed": true
   },
   "outputs": [],
   "source": [
    "def solve_ADMM_primal_entropy(\n",
    "    p,\n",
    "    scale=None, its=[], rhos=[], alphas=[], gammas=[], deltas=[], epss=None, min_its=None,\n",
    "    fh=None, figs={}, log=None, stat=False,\n",
    "    *args, **kwargs\n",
    "):\n",
    "    m, n = p.c.shape\n",
    "    \n",
    "    if scale is None:\n",
    "        scale = math.sqrt(m * n)\n",
    "    \n",
    "    mu, nu = scale*p.mu, scale*p.nu\n",
    "    c = p.c\n",
    "    ubox = p.ubox\n",
    "    if ubox is not None:\n",
    "        ubox *= scale\n",
    "    \n",
    "    if fh is not None:\n",
    "        if \"error\" in figs:\n",
    "            error_mu = []\n",
    "            error_nu = []\n",
    "            error_s = []\n",
    "        if \"loss\" in figs:\n",
    "            loss = []\n",
    "    \n",
    "    s, s_, e, lamda, eta = init(m, n)\n",
    "    \n",
    "    l = len(its)\n",
    "    itc = 0\n",
    "    \n",
    "    for i in range(l):\n",
    "        for j in range(its[i]):\n",
    "            s, s_, e, lamda, eta = update(m, n, mu, nu, ubox, c, s, s_, e, lamda, eta, rhos[i], alphas[i], gammas[i], deltas[i])\n",
    "\n",
    "            itc += 1\n",
    "\n",
    "            if fh is not None:\n",
    "                if \"error\" in figs:\n",
    "                    error_mu.append(numpy.linalg.norm(s_.sum(axis=1) - mu, 1) / scale)\n",
    "                    error_nu.append(numpy.linalg.norm(s_.sum(axis=0) - nu, 1) / scale)\n",
    "                    error_s.append(numpy.linalg.norm(s_ - s))\n",
    "                if \"loss\" in figs:\n",
    "                    loss.append((c * s).sum() / scale)\n",
    "\n",
    "            if epss is not None:\n",
    "                if (\n",
    "                        numpy.linalg.norm(s_.sum(axis=1) - mu, 1) / scale < epss[i]\n",
    "                    and numpy.linalg.norm(s_.sum(axis=0) - nu, 1) / scale < epss[i]\n",
    "                ):\n",
    "                    if min_its is None or j > min_its[i]:\n",
    "                        break\n",
    "                    \n",
    "            if log is not None:\n",
    "                log(\"i, j, itc = {0}, {1}, {2}\".format(i, j, itc))\n",
    "    \n",
    "    p.s = s_ / scale\n",
    "    \n",
    "    if fh is not None:\n",
    "        if \"error\" in figs:\n",
    "            fh.new(1, 1, 1)\n",
    "            fh.ax.semilogy(numpy.array(error_mu), label=\"Error of mu\")\n",
    "            fh.ax.semilogy(numpy.array(error_nu), label=\"Error of nu\")\n",
    "            fh.ax.semilogy(numpy.array(error_s), label=\"Error of s\")\n",
    "            fh.ax.legend()\n",
    "            fh.show()\n",
    "            fh.close()\n",
    "        if \"loss\" in figs:\n",
    "            fh.new(1, 1, 1)\n",
    "            fh.ax.plot(numpy.array(loss), label=\"Loss\")\n",
    "            fh.ax.legend()\n",
    "            fh.show()\n",
    "            fh.close()\n",
    "    \n",
    "    if stat:\n",
    "        s = {\n",
    "            \"title\": \"ADMM on primal\",\n",
    "            \"size\": [m, n],\n",
    "            \"loss\": (c * s_).sum() / scale,\n",
    "            \"vars\": 3*m*n + m + n,\n",
    "            \"iters\": itc,\n",
    "        }\n",
    "        return p, s\n",
    "    else:\n",
    "        \n",
    "        \n",
    "        return p"
   ]
  },
  {
   "cell_type": "code",
   "execution_count": null,
   "metadata": {
    "collapsed": true
   },
   "outputs": [],
   "source": [
    "# !ConvertEnd*"
   ]
  },
  {
   "cell_type": "code",
   "execution_count": null,
   "metadata": {
    "collapsed": true
   },
   "outputs": [],
   "source": [
    "# !Convert*entropy_ADMM_primal_test.py*w*sehx*"
   ]
  },
  {
   "cell_type": "code",
   "execution_count": null,
   "metadata": {
    "collapsed": true
   },
   "outputs": [],
   "source": [
    "import numpy\n",
    "\n",
    "# !Switch*\n",
    "from handler import FigureHandler\n",
    "from dataset import ot_1d_general, samp_1d_grid, val_1d_norm_pdf_2, dist_1d_euc_2, ot_2d_Caffarelli\n",
    "from stats import Statistics\n",
    "from first_ADMM_primal import solve_ADMM_primal\n",
    "# !SwitchCase*\n",
    "# import font\n",
    "# from handler import FigureHandler\n",
    "# from dataset import ot_1d_general, samp_1d_grid, val_1d_norm_pdf_2, dist_1d_euc_2, ot_2d_Caffarelli\n",
    "# from stats import Statistics\n",
    "# from first_ADMM_primal import solve_ADMM_primal\n",
    "# from entropy_ADMM_primal import solve_ADMM_primal_entropy\n",
    "# !SwitchEnd*"
   ]
  },
  {
   "cell_type": "code",
   "execution_count": null,
   "metadata": {},
   "outputs": [],
   "source": [
    "# !Switch*\n",
    "fh = FigureHandler(redir=True)\n",
    "# !SwitchCase*\n",
    "# fh = FigureHandler(sav=True, disp=False, ext=\".pgf\", redir=True)\n",
    "# !SwitchEnd*"
   ]
  },
  {
   "cell_type": "code",
   "execution_count": null,
   "metadata": {
    "collapsed": true
   },
   "outputs": [],
   "source": [
    "stat = Statistics(\n",
    "    probs=[\n",
    "        ot_1d_general(\n",
    "            m=100, n=100,\n",
    "            mup_gen=samp_1d_grid(-8, -1.),\n",
    "            nup_gen=samp_1d_grid(-4, 4.),\n",
    "            mu_gen=val_1d_norm_pdf_2(-5., 0.8, -3., 0.2),\n",
    "            nu_gen=val_1d_norm_pdf_2(-2., 0.4, 0., 1.),\n",
    "            dist=dist_1d_euc_2,\n",
    "            seed=1,\n",
    "        )\n",
    "    ],\n",
    "    prob=\"Test problems\",\n",
    "    log=fh.write,\n",
    ")"
   ]
  },
  {
   "cell_type": "code",
   "execution_count": null,
   "metadata": {},
   "outputs": [],
   "source": [
    "stat.test(\n",
    "    solve_ADMM_primal_entropy,\n",
    "    its=[5000],\n",
    "    rhos=[300000.],\n",
    "    alphas=[1.618],\n",
    "    deltas=[1e-6],\n",
    "    gammas=[1e1],\n",
    "    clean=False\n",
    ")\n",
    "stat.output_last()\n",
    "fh.fast(stat.probs[0].plot_hotline, colorbar=False)\n",
    "stat.probs[0].clean()"
   ]
  },
  {
   "cell_type": "code",
   "execution_count": null,
   "metadata": {},
   "outputs": [],
   "source": [
    "stat.test(\n",
    "    solve_ADMM_primal_entropy,\n",
    "    its=[5000],\n",
    "    rhos=[70000.],\n",
    "    alphas=[1.618],\n",
    "    deltas=[1e-6],\n",
    "    gammas=[3e0],\n",
    "    clean=False\n",
    ")\n",
    "stat.output_last()\n",
    "fh.fast(stat.probs[0].plot_hotline, colorbar=False)\n",
    "stat.probs[0].clean()"
   ]
  },
  {
   "cell_type": "code",
   "execution_count": null,
   "metadata": {},
   "outputs": [],
   "source": [
    "stat.test(\n",
    "    solve_ADMM_primal_entropy,\n",
    "    its=[5000],\n",
    "    rhos=[20000.],\n",
    "    alphas=[1.618],\n",
    "    deltas=[1e-6],\n",
    "    gammas=[1e0],\n",
    "    clean=False\n",
    ")\n",
    "stat.output_last()\n",
    "fh.fast(stat.probs[0].plot_hotline, colorbar=False)\n",
    "stat.probs[0].clean()"
   ]
  },
  {
   "cell_type": "code",
   "execution_count": null,
   "metadata": {},
   "outputs": [],
   "source": [
    "stat.test(\n",
    "    solve_ADMM_primal_entropy,\n",
    "    its=[3000],\n",
    "    rhos=[8000.],\n",
    "    alphas=[1.618],\n",
    "    deltas=[1e-6],\n",
    "    gammas=[3e-1],\n",
    "    clean=False\n",
    ")\n",
    "stat.output_last()\n",
    "fh.fast(stat.probs[0].plot_hotline, colorbar=False)\n",
    "stat.probs[0].clean()"
   ]
  },
  {
   "cell_type": "code",
   "execution_count": null,
   "metadata": {},
   "outputs": [],
   "source": [
    "stat.test(\n",
    "    solve_ADMM_primal_entropy,\n",
    "    its=[3000],\n",
    "    rhos=[2000.],\n",
    "    alphas=[1.618],\n",
    "    deltas=[1e-6],\n",
    "    gammas=[1e-1],\n",
    "    clean=False\n",
    ")\n",
    "stat.output_last()\n",
    "fh.fast(stat.probs[0].plot_hotline, colorbar=False)\n",
    "stat.probs[0].clean()"
   ]
  },
  {
   "cell_type": "code",
   "execution_count": null,
   "metadata": {},
   "outputs": [],
   "source": [
    "stat.test(\n",
    "    solve_ADMM_primal_entropy,\n",
    "    its=[3000],\n",
    "    rhos=[600.],\n",
    "    alphas=[1.618],\n",
    "    deltas=[1e-6],\n",
    "    gammas=[3e-2],\n",
    "    clean=False\n",
    ")\n",
    "stat.output_last()\n",
    "fh.fast(stat.probs[0].plot_hotline, colorbar=False)\n",
    "stat.probs[0].clean()"
   ]
  },
  {
   "cell_type": "code",
   "execution_count": null,
   "metadata": {},
   "outputs": [],
   "source": [
    "stat.test(\n",
    "    solve_ADMM_primal_entropy,\n",
    "    its=[3000],\n",
    "    rhos=[200.],\n",
    "    alphas=[1.618],\n",
    "    deltas=[1e-6],\n",
    "    gammas=[1e-2],\n",
    "    clean=False\n",
    ")\n",
    "stat.output_last()\n",
    "fh.fast(stat.probs[0].plot_hotline, colorbar=False)\n",
    "stat.probs[0].clean()"
   ]
  },
  {
   "cell_type": "code",
   "execution_count": null,
   "metadata": {},
   "outputs": [],
   "source": [
    "stat.test(\n",
    "    solve_ADMM_primal_entropy,\n",
    "    its=[5000],\n",
    "    rhos=[200.],\n",
    "    alphas=[1.618],\n",
    "    deltas=[1e-6],\n",
    "    gammas=[3e-3],\n",
    "    clean=False\n",
    ")\n",
    "stat.output_last()\n",
    "fh.fast(stat.probs[0].plot_hotline, colorbar=False)\n",
    "stat.probs[0].clean()"
   ]
  },
  {
   "cell_type": "code",
   "execution_count": null,
   "metadata": {
    "collapsed": true
   },
   "outputs": [],
   "source": [
    "stat = Statistics(\n",
    "    probs=[\n",
    "        ot_2d_Caffarelli(300, 300, 1)\n",
    "    ],\n",
    "    prob=\"Test problems\",\n",
    "    log=fh.write,\n",
    ")"
   ]
  },
  {
   "cell_type": "code",
   "execution_count": null,
   "metadata": {},
   "outputs": [],
   "source": [
    "stat.test(\n",
    "    solve_ADMM_primal,\n",
    "    its=[10000],\n",
    "    rhos=[3.],\n",
    "    alphas=[1.618],\n",
    "    epss=[1e-4],\n",
    "    fh=fh, figs={\"error\", \"loss\"},\n",
    ")\n",
    "stat.output_last()"
   ]
  },
  {
   "cell_type": "code",
   "execution_count": null,
   "metadata": {},
   "outputs": [],
   "source": [
    "stat.test(\n",
    "    solve_ADMM_primal_entropy,\n",
    "    its=[10000],\n",
    "    rhos=[3.],\n",
    "    alphas=[1.618],\n",
    "    deltas=[1e-6],\n",
    "    gammas=[3e-4],\n",
    "    epss=[1e-4],\n",
    "    fh=fh, figs={\"error\", \"loss\"},\n",
    ")\n",
    "stat.output_last()"
   ]
  },
  {
   "cell_type": "code",
   "execution_count": null,
   "metadata": {
    "collapsed": true
   },
   "outputs": [],
   "source": [
    "# !ConvertEnd*"
   ]
  },
  {
   "cell_type": "code",
   "execution_count": null,
   "metadata": {
    "collapsed": true
   },
   "outputs": [],
   "source": []
  }
 ],
 "metadata": {
  "kernelspec": {
   "display_name": "Python 3",
   "language": "python",
   "name": "python3"
  },
  "language_info": {
   "codemirror_mode": {
    "name": "ipython",
    "version": 3
   },
   "file_extension": ".py",
   "mimetype": "text/x-python",
   "name": "python",
   "nbconvert_exporter": "python",
   "pygments_lexer": "ipython3",
   "version": "3.6.2"
  }
 },
 "nbformat": 4,
 "nbformat_minor": 2
}
