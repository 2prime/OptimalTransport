{
 "cells": [
  {
   "cell_type": "code",
   "execution_count": null,
   "metadata": {},
   "outputs": [],
   "source": [
    "# ########################### 70 Characters ##########################"
   ]
  },
  {
   "cell_type": "code",
   "execution_count": null,
   "metadata": {
    "collapsed": true
   },
   "outputs": [],
   "source": [
    "\"\"\"\n",
    "This Python file solve optimal transport problem using interior point\n",
    "method and simplex method by calling Mosek. The input data will be\n",
    "given randomly. After executing this Python file, it will generate\n",
    "two log files (logs for each method), and two txt files (solutions\n",
    "through each method).\n",
    "\"\"\"\n",
    "\n",
    "from mosek import *\n",
    "import numpy.random as rdm\n",
    "import numpy as np\n",
    "import math"
   ]
  },
  {
   "cell_type": "code",
   "execution_count": null,
   "metadata": {
    "collapsed": true
   },
   "outputs": [],
   "source": [
    "def distance(n):\n",
    "    \"\"\"Returns the Euclidean distance matrix between pixels in two images,\n",
    "    exactly a :math:`n^2 \\times n^2` matrix.\n",
    "\n",
    "    Arguments:\n",
    "        n: An integer to tells the size of the image.\n",
    "    \"\"\"\n",
    "    \n",
    "    dmatrix = np.zeros([n * n, n * n])\n",
    "\n",
    "    # TODO: perform optimization here\n",
    "    \n",
    "    for i1 in range(n):\n",
    "        for j1 in range(n):\n",
    "            for i2 in range(n):\n",
    "                for j2 in range(n):\n",
    "                    dmatrix[i1 * n + i2, j1 * n + j2] = math.sqrt(\n",
    "                          (j1 - i1) ** 2\n",
    "                        + (j2 - i2) ** 2\n",
    "                    )\n",
    "\n",
    "    return dmatrix"
   ]
  },
  {
   "cell_type": "code",
   "execution_count": null,
   "metadata": {},
   "outputs": [],
   "source": [
    "class StreamBuffer():\n",
    "    \"\"\"A class to buffer strings from a stream.\n",
    "    \n",
    "    Arguments:\n",
    "        explicit_echo: A boolean to indicate whether explicit\n",
    "        echo, namely outputs to stdout, should be sent.\n",
    "    \"\"\"\n",
    "    \n",
    "    def __init__(self, explicit_echo=False):\n",
    "        self.buffer = \"\"\n",
    "        self.explicit_echo = explicit_echo\n",
    "    \n",
    "    def streamprinter(self, text):\n",
    "        \"\"\"A virtual stream printer derived from the buffer.\n",
    "        \n",
    "        Arguments:\n",
    "            text: Some messages in the stream, which is added\n",
    "                to the buffer.\n",
    "        \"\"\"\n",
    "        self.buffer += text\n",
    "        if (self.explicit_echo):\n",
    "            print(text, end=\"\")"
   ]
  },
  {
   "cell_type": "code",
   "execution_count": null,
   "metadata": {
    "collapsed": true
   },
   "outputs": [],
   "source": [
    "def calculate(m, n, c, mu, nu, opttype, printer):\n",
    "    \"\"\"Perform optimization by calling mosek.\n",
    "    \n",
    "    Arguments:\n",
    "        opttype: Indicator to the optimization method, should be\n",
    "            ``optimizertype.intpnt`` or ``optimizertype.free_simplex``.\n",
    "        printer (function): A function to handle logs to be printed.\n",
    "    \"\"\"\n",
    "    \n",
    "    # TODO: Add necessary information about arguments\n",
    "    with Env() as env:\n",
    "        with env.Task(0,0) as task:\n",
    "            task.putintparam(iparam.optimizer, opttype)\n",
    "            task.set_Stream(streamtype.log, printer)\n",
    "            \n",
    "            bkc = [boundkey.fx] * (m + n)\n",
    "            bkx = [boundkey.lo] * m * n\n",
    "            blc = [i for i in mu] + [i for i in nu]\n",
    "            buc = [i for i in mu] + [i for i in nu]\n",
    "            blx = [0] * m * n\n",
    "            bux = [0.0] * m * n\n",
    "            asub = [[int(i / n), m + (i % n)] for i in range(m * n)]\n",
    "            aval = [[1, 1] for i in range(m * n)]\n",
    "            numvar = len(bkx)\n",
    "            numcon = len(bkc)\n",
    "            \n",
    "            task.appendvars(numvar)\n",
    "            task.appendcons(numcon)\n",
    "            \n",
    "            for j in range(numvar):\n",
    "                task.putcj(j, c[j])\n",
    "                task.putvarbound(j, bkx[j], blx[j], bux[j])\n",
    "                task.putacol(j, asub[j], aval[j])\n",
    "                \n",
    "            for i in range(numcon):\n",
    "                task.putconbound(i, bkc[i], blc[i], buc[i])\n",
    "                \n",
    "            task.putobjsense(objsense.minimize)\n",
    "            \n",
    "            task.optimize()\n",
    "            \n",
    "            task.solutionsummary(streamtype.msg)\n",
    "            xx = [0.] * numvar            \n",
    "            task.getxx(soltype.bas, xx)\n",
    "            \n",
    "            return xx"
   ]
  },
  {
   "cell_type": "code",
   "execution_count": null,
   "metadata": {
    "collapsed": true
   },
   "outputs": [],
   "source": [
    "def routine(t, method, explicit_echo=False):\n",
    "    \"\"\"Using an given method to solve OT.\n",
    "    \n",
    "    Arguments:\n",
    "        t: An integer indicate the size of the image.\n",
    "        method: An given method, should be ``optimizertype.intpnt``\n",
    "        or ``optimizertype.free_simplex``.\n",
    "    \"\"\"\n",
    "    \n",
    "    m = t ** 2\n",
    "    n = t ** 2\n",
    "    c1 = distance(t)\n",
    "    c = c1.reshape(m * n)\n",
    "    \n",
    "    # Generate random value for mu, nu (mu, nu represent pixel values in each images)\n",
    "    total = 10000\n",
    "    mu1 = rdm.rand(m)\n",
    "    nu1 = rdm.rand(n)\n",
    "    mu = [i * total / sum(mu1) for i in mu1]\n",
    "    nu = [i * total / sum(nu1) for i in nu1]\n",
    "    \n",
    "    log = StreamBuffer(explicit_echo)\n",
    "    xx = calculate(m, n, c, mu, nu, method, log.streamprinter)\n",
    "    \n",
    "    return {\"xx\": xx, \"log\": log.buffer}"
   ]
  },
  {
   "cell_type": "code",
   "execution_count": null,
   "metadata": {},
   "outputs": [],
   "source": [
    "result_intpnt = routine(32, optimizertype.intpnt, explicit_echo=True)"
   ]
  },
  {
   "cell_type": "code",
   "execution_count": null,
   "metadata": {},
   "outputs": [],
   "source": [
    "np.savetxt(\"xx_intpnt.txt\", result_intpnt[\"xx\"])\n",
    "with open(\"log_intpnt.txt\", \"w\") as f:\n",
    "    f.write(result_intpnt[\"log\"])"
   ]
  },
  {
   "cell_type": "code",
   "execution_count": null,
   "metadata": {},
   "outputs": [],
   "source": [
    "result_simplex = routine(32, optimizertype.free_simplex, explicit_echo=True)"
   ]
  },
  {
   "cell_type": "code",
   "execution_count": null,
   "metadata": {
    "collapsed": true
   },
   "outputs": [],
   "source": [
    "np.savetxt(\"xx_simplex.txt\", result_simplex[\"xx\"])\n",
    "with open(\"log_simplex.txt\", \"w\") as f:\n",
    "    f.write(result_simplex[\"log\"])"
   ]
  }
 ],
 "metadata": {
  "kernelspec": {
   "display_name": "Python 3",
   "language": "python",
   "name": "python3"
  },
  "language_info": {
   "codemirror_mode": {
    "name": "ipython",
    "version": 3
   },
   "file_extension": ".py",
   "mimetype": "text/x-python",
   "name": "python",
   "nbconvert_exporter": "python",
   "pygments_lexer": "ipython3",
   "version": "3.6.2"
  }
 },
 "nbformat": 4,
 "nbformat_minor": 2
}
