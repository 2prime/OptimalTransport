{
 "cells": [
  {
   "cell_type": "code",
   "execution_count": 1,
   "metadata": {
    "collapsed": true
   },
   "outputs": [],
   "source": [
    "#This Python file solve optimal transport problem using interior point method and simplex method by calling Mosek. The input data will be given randomly.\n",
    "#After executing this Python file, it will generate two log files (logs for each method), and two txt files (solutions through each method).\n",
    "\n",
    "import sys\n",
    "from mosek import *\n",
    "import numpy.random as rdm\n",
    "import numpy as np\n",
    "import math"
   ]
  },
  {
   "cell_type": "code",
   "execution_count": 2,
   "metadata": {
    "collapsed": true
   },
   "outputs": [],
   "source": [
    "inf = 0.0"
   ]
  },
  {
   "cell_type": "code",
   "execution_count": 3,
   "metadata": {
    "collapsed": true
   },
   "outputs": [],
   "source": [
    "#define the Euclidean distance between two units of the image\n",
    "def distance(n):\n",
    "    dmatrix = np.zeros([n * n, n * n])\n",
    "    for i1 in range(n):\n",
    "        for j1 in range(n):\n",
    "            for i2 in range(n):\n",
    "                for j2 in range(n):\n",
    "                    dmatrix[i1 * n + i2, j1 * n + j2] = math.sqrt((j1 - i1) ** 2 + (j2 - i2) ** 2)\n",
    "    return dmatrix"
   ]
  },
  {
   "cell_type": "code",
   "execution_count": 4,
   "metadata": {
    "collapsed": true
   },
   "outputs": [],
   "source": [
    "def streamprinter(text):\n",
    "    print(text, end=\"\")"
   ]
  },
  {
   "cell_type": "code",
   "execution_count": 5,
   "metadata": {
    "collapsed": true
   },
   "outputs": [],
   "source": [
    "#call mosek \n",
    "def calculate(m, n, c, mu, nu, opttype):\n",
    "    with Env() as env:\n",
    "        with env.Task(0,0) as task:\n",
    "            #Use optimization method free_simplex & intpnt & dual_simplex\n",
    "            task.putintparam(iparam.optimizer, opttype)\n",
    "            task.set_Stream(streamtype.log,streamprinter)\n",
    "            bkc = [boundkey.fx] * (m + n)\n",
    "            bkx = [boundkey.lo] * m * n\n",
    "            blc = [i for i in mu] + [i for i in nu]\n",
    "            buc = [i for i in mu] + [i for i in nu]\n",
    "            blx = [0] * m * n\n",
    "            bux = [+inf] * m * n\n",
    "            asub = [[int(i / n), m + (i % n)] for i in range(m * n)]\n",
    "            aval = [[1, 1] for i in range(m * n)]\n",
    "            numvar = len(bkx)\n",
    "            numcon = len(bkc)\n",
    "            task.appendvars(numvar)\n",
    "            task.appendcons(numcon)\n",
    "            for j in range(numvar):\n",
    "                task.putcj(j, c[j])\n",
    "                task.putvarbound(j, bkx[j], blx[j], bux[j])\n",
    "                task.putacol(j, asub[j], aval[j])\n",
    "            for i in range(numcon):\n",
    "                task.putconbound(i, bkc[i], blc[i], buc[i])\n",
    "            task.putobjsense(objsense.minimize)\n",
    "            task.optimize()\n",
    "            task.solutionsummary(streamtype.msg)\n",
    "            xx = [0.] * numvar\n",
    "            task.getxx(soltype.bas, xx)\n",
    "            return xx"
   ]
  },
  {
   "cell_type": "code",
   "execution_count": 6,
   "metadata": {
    "collapsed": true
   },
   "outputs": [],
   "source": [
    "def main():\n",
    "    #Give the size of the problem (the size of the image would be t*t)\n",
    "    t = 32\n",
    "    m = t ** 2\n",
    "    n = t ** 2\n",
    "    c1 = distance(t)\n",
    "    c = c1.reshape(m * n)\n",
    "    #Generate random value for mu, nu (mu, nu represent pixel values in each images)\n",
    "    total = 10000\n",
    "    mu1 = rdm.rand(m)\n",
    "    nu1 = rdm.rand(n)\n",
    "    mu = [i * total / sum(mu1) for i in mu1]\n",
    "    nu = [i * total / sum(nu1) for i in nu1]\n",
    "\n",
    "    #Solve LP problem for optimal transport using interior point method\n",
    "    solution_intpnt_log = open('solution_intpnt.log', 'w')\n",
    "    sys.stdout = solution_intpnt_log\n",
    "    xx = calculate(m, n, c, mu, nu, optimizertype.intpnt)\n",
    "    #Write the solution into a TXT file\n",
    "    file1 = open('solution_intpnt.txt', 'w')\n",
    "    for i in range(m * n):\n",
    "        #print('x[' + str(int(i/n)) + '][' + str(i%n) + ']=' + str(xx[i]))\n",
    "        file1.write(str('%.2f' % xx[i])+\" \")\n",
    "        if (i + 1) % n == 0:\n",
    "            file1.write('\\n')\n",
    "    file1.close()\n",
    "    solution_intpnt_log.close()\n",
    "\n",
    "    #Solve LP problem for optimal transport using simplex method\n",
    "    solution_simplex_log = open('solution_simplex.log', 'w')\n",
    "    sys.stdout = solution_simplex_log\n",
    "    xx = calculate(m, n, c, mu, nu, optimizertype.free_simplex)\n",
    "    #Write the solution into a TXT file\n",
    "    file2 = open('solution_simplex.txt', 'w')\n",
    "    for i in range(m * n):\n",
    "        #print('x[' + str(int(i/n)) + '][' + str(i%n) + ']=' + str(xx[i]))\n",
    "        file2.write(str('%.2f' % xx[i])+\" \")\n",
    "        if (i + 1) % n == 0:\n",
    "            file2.write('\\n')\n",
    "    file2.close()\n",
    "    solution_simplex_log.close()"
   ]
  },
  {
   "cell_type": "code",
   "execution_count": null,
   "metadata": {
    "collapsed": true
   },
   "outputs": [],
   "source": [
    "if __name__ == \"__main__\":\n",
    "    main()\n"
   ]
  },
  {
   "cell_type": "code",
   "execution_count": null,
   "metadata": {
    "collapsed": true
   },
   "outputs": [],
   "source": []
  }
 ],
 "metadata": {
  "kernelspec": {
   "display_name": "Python mosek",
   "language": "python",
   "name": "mosek"
  },
  "language_info": {
   "codemirror_mode": {
    "name": "ipython",
    "version": 3
   },
   "file_extension": ".py",
   "mimetype": "text/x-python",
   "name": "python",
   "nbconvert_exporter": "python",
   "pygments_lexer": "ipython3",
   "version": "3.6.3"
  }
 },
 "nbformat": 4,
 "nbformat_minor": 2
}
