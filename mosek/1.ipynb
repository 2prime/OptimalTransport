{
 "cells": [
  {
   "cell_type": "code",
   "execution_count": 1,
   "metadata": {},
   "outputs": [],
   "source": [
    "import sys\n",
    "import mosek\n",
    "import numpy.random as rdm"
   ]
  },
  {
   "cell_type": "code",
   "execution_count": 2,
   "metadata": {
    "collapsed": true
   },
   "outputs": [],
   "source": [
    "inf = 0.0"
   ]
  },
  {
   "cell_type": "code",
   "execution_count": 3,
   "metadata": {
    "collapsed": true
   },
   "outputs": [],
   "source": [
    "def streamprinter(text):\n",
    "    sys.stdout.write(text)\n",
    "    sys.stdout.flush()"
   ]
  },
  {
   "cell_type": "code",
   "execution_count": 4,
   "metadata": {
    "collapsed": true
   },
   "outputs": [],
   "source": [
    "def calculate(m, n, c, mu, nu):\n",
    "    with mosek.Env() as env:\n",
    "        with env.Task(0,0) as task:\n",
    "            task.set_Stream(mosek.streamtype.log,streamprinter)\n",
    "            bkc = [mosek.boundkey.fx] * (m + n)\n",
    "            bkx = [mosek.boundkey.lo] * m * n\n",
    "            blc = [i for i in mu] + [i for i in nu]\n",
    "            buc = [i for i in mu] + [i for i in nu]\n",
    "            blx = [0] * m * n\n",
    "            bux = [+inf] * m * n\n",
    "            asub = [[int(i / n), m + (i % n)] for i in range(m * n)]\n",
    "            aval = [[1, 1] for i in range(m * n)]\n",
    "            numvar = len(bkx)\n",
    "            numcon = len(bkc)\n",
    "            task.appendvars(numvar)\n",
    "            task.appendcons(numcon)\n",
    "            for j in range(numvar):\n",
    "                task.putcj(j, c[j])\n",
    "                task.putvarbound(j, bkx[j], blx[j], bux[j])\n",
    "                task.putacol(j, asub[j], aval[j])\n",
    "            for i in range(numcon):\n",
    "                task.putconbound(i, bkc[i], blc[i], buc[i])\n",
    "            task.putobjsense(mosek.objsense.minimize)\n",
    "            task.optimize()\n",
    "            task.solutionsummary(mosek.streamtype.msg)\n",
    "            xx = [0.] * numvar\n",
    "            task.getxx(mosek.soltype.bas, xx)\n",
    "            return xx"
   ]
  },
  {
   "cell_type": "code",
   "execution_count": 5,
   "metadata": {
    "collapsed": true
   },
   "outputs": [],
   "source": [
    "def main():\n",
    "    #Give the size of the problem\n",
    "    m = 1000\n",
    "    n = 1000\n",
    "    #Generate random value for c, mu, nu\n",
    "    c1 = rdm.rand(m, n)\n",
    "    c = c1.reshape(m * n)\n",
    "    total = 10\n",
    "    mu1 = rdm.rand(m)\n",
    "    nu1 = rdm.rand(n)\n",
    "    mu = [i * total / sum(mu1) for i in mu1]\n",
    "    nu = [i * total / sum(nu1) for i in nu1]\n",
    "    #Solve LP problem for optimal transport\n",
    "    xx = calculate(m, n, c, mu, nu)\n",
    "    #Write the solution into a TXT file\n",
    "    file = open('solution.txt', 'w')\n",
    "    for i in range(m * n):\n",
    "        #print('x[' + str(int(i/n)) + '][' + str(i%n) + ']=' + str(xx[i]))\n",
    "        file.write(str('%.2f' % xx[i])+\" \")\n",
    "        if (i + 1) % n == 0:\n",
    "            file.write('\\n')\n",
    "    file.close()"
   ]
  },
  {
   "cell_type": "code",
   "execution_count": 10,
   "metadata": {},
   "outputs": [
    {
     "name": "stdout",
     "output_type": "stream",
     "text": [
      "Problem\n",
      "  Name                   :                 \n",
      "  Objective sense        : min             \n",
      "  Type                   : LO (linear optimization problem)\n",
      "  Constraints            : 2000            \n",
      "  Cones                  : 0               \n",
      "  Scalar variables       : 1000000         \n",
      "  Matrix variables       : 0               \n",
      "  Integer variables      : 0               \n",
      "\n",
      "Optimizer started.\n",
      "Presolve started.\n",
      "Linear dependency checker started.\n",
      "Linear dependency checker terminated.\n",
      "Eliminator - tries                  : 0                 time                   : 0.00            \n",
      "Lin. dep.  - tries                  : 1                 time                   : 0.06            \n",
      "Lin. dep.  - number                 : 0               \n",
      "Presolve terminated. Time: 0.92    \n",
      "Problem\n",
      "  Name                   :                 \n",
      "  Objective sense        : min             \n",
      "  Type                   : LO (linear optimization problem)\n",
      "  Constraints            : 2000            \n",
      "  Cones                  : 0               \n",
      "  Scalar variables       : 1000000         \n",
      "  Matrix variables       : 0               \n",
      "  Integer variables      : 0               \n",
      "\n",
      "Optimizer  - threads                : 4               \n",
      "Optimizer  - solved problem         : the primal      \n",
      "Optimizer  - Constraints            : 1999\n",
      "Optimizer  - Cones                  : 0\n",
      "Optimizer  - Scalar variables       : 1000000           conic                  : 0               \n",
      "Optimizer  - Semi-definite variables: 0                 scalarized             : 0               \n",
      "Factor     - setup time             : 0.81              dense det. time        : 0.00            \n",
      "Factor     - ML order time          : 0.06              GP order time          : 0.00            \n",
      "Factor     - nonzeros before factor : 1.00e+06          after factor           : 1.50e+06        \n",
      "Factor     - dense dim.             : 0                 flops                  : 1.35e+09        \n",
      "ITE PFEAS    DFEAS    GFEAS    PRSTATUS   POBJ              DOBJ              MU       TIME  \n",
      "0   1.0e+03  1.0e+00  5.0e+05  1.00e+00   4.997377604e+05   0.000000000e+00   1.0e+00  2.15  \n",
      "1   1.0e+03  9.9e-01  5.0e+05  0.00e+00   4.997377604e+05   -1.981464158e+01  2.0e+00  2.49  \n",
      "2   1.9e-01  1.9e-04  9.5e+01  -9.97e-01  1.670798911e+03   -4.410275040e+02  3.8e-04  2.81  \n",
      "3   4.2e-02  4.1e-05  2.1e+01  3.44e+01   6.335276443e+00   -1.754577434e+00  8.3e-05  3.22  \n",
      "4   4.0e-02  4.0e-05  2.0e+01  2.12e+00   5.952780597e+00   -1.635530586e+00  8.0e-05  3.48  \n",
      "5   3.3e-02  3.2e-05  1.6e+01  2.05e+00   4.454319720e+00   -1.129962213e+00  6.5e-05  3.78  \n",
      "6   1.6e-02  1.6e-05  7.8e+00  1.77e+00   1.871982240e+00   -3.730062332e-01  3.1e-05  4.08  \n",
      "7   4.8e-03  4.7e-06  2.4e+00  1.32e+00   5.394715049e-01   -8.702187284e-02  9.5e-06  4.43  \n",
      "8   9.8e-04  6.3e-07  4.6e-01  1.11e+00   1.267047666e-01   9.957756963e-03   1.8e-06  4.96  \n",
      "9   2.3e-04  9.3e-08  1.0e-01  1.03e+00   4.467723044e-02   1.867919926e-02   4.1e-07  5.43  \n",
      "10  5.2e-05  1.8e-08  2.3e-02  1.01e+00   2.708241222e-02   2.125879279e-02   9.2e-08  5.91  \n",
      "11  9.9e-06  3.4e-09  4.4e-03  1.00e+00   2.275663203e-02   2.165211060e-02   1.7e-08  6.27  \n",
      "12  3.2e-06  1.1e-09  1.4e-03  1.00e+00   2.207645445e-02   2.171712027e-02   5.7e-09  6.59  \n",
      "13  3.7e-07  1.3e-10  1.6e-04  1.00e+00   2.178637270e-02   2.174521486e-02   6.5e-10  7.06  \n",
      "14  8.1e-08  2.8e-11  3.6e-05  1.00e+00   2.175534602e-02   2.174628642e-02   1.4e-10  7.34  \n",
      "15  8.4e-09  2.9e-12  3.7e-06  1.00e+00   2.174747589e-02   2.174653928e-02   1.5e-11  7.63  \n",
      "16  1.8e-09  6.3e-13  8.0e-07  1.00e+00   2.174675900e-02   2.174655715e-02   3.2e-12  7.90  \n",
      "17  4.0e-10  1.4e-13  1.8e-07  1.00e+00   2.174660609e-02   2.174656132e-02   7.1e-13  8.18  \n",
      "18  1.4e-11  4.2e-15  4.1e-09  1.00e+00   2.174656311e-02   2.174656208e-02   1.6e-14  8.51  \n",
      "19  3.3e-12  9.2e-16  1.9e-11  1.00e+00   2.174656209e-02   2.174656209e-02   7.7e-17  8.75  \n",
      "Basis identification started.\n",
      "Basis identification terminated. Time: 0.21\n",
      "Optimizer terminated. Time: 9.30    \n",
      "\n",
      "\n",
      "Interior-point solution summary\n",
      "  Problem status  : PRIMAL_AND_DUAL_FEASIBLE\n",
      "  Solution status : OPTIMAL\n",
      "  Primal.  obj: 2.1746562092e-02    nrm: 2e-02    Viol.  con: 8e-13    var: 0e+00  \n",
      "  Dual.    obj: 2.1746562087e-02    nrm: 1e+00    Viol.  con: 0e+00    var: 2e-16  \n",
      "\n",
      "Basic solution summary\n",
      "  Problem status  : PRIMAL_AND_DUAL_FEASIBLE\n",
      "  Solution status : OPTIMAL\n",
      "  Primal.  obj: 2.1746562087e-02    nrm: 2e-02    Viol.  con: 8e-15    var: 0e+00  \n",
      "  Dual.    obj: 2.1746562087e-02    nrm: 1e+00    Viol.  con: 0e+00    var: 0e+00  \n"
     ]
    }
   ],
   "source": [
    "if __name__ == \"__main__\":\n",
    "    main()"
   ]
  },
  {
   "cell_type": "code",
   "execution_count": null,
   "metadata": {},
   "outputs": [],
   "source": []
  },
  {
   "cell_type": "code",
   "execution_count": null,
   "metadata": {
    "collapsed": true
   },
   "outputs": [],
   "source": []
  }
 ],
 "metadata": {
  "kernelspec": {
   "display_name": "Python mosek",
   "language": "python",
   "name": "mosek"
  },
  "language_info": {
   "codemirror_mode": {
    "name": "ipython",
    "version": 3
   },
   "file_extension": ".py",
   "mimetype": "text/x-python",
   "name": "python",
   "nbconvert_exporter": "python",
   "pygments_lexer": "ipython3",
   "version": "3.6.3"
  }
 },
 "nbformat": 4,
 "nbformat_minor": 2
}
